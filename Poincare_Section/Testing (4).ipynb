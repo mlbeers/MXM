{
 "cells": [
  {
   "cell_type": "code",
   "execution_count": 1,
   "id": "686f8b64-ed5a-45c4-ac88-4d7aa3d582b1",
   "metadata": {},
   "outputs": [],
   "source": [
    "import numpy as np\n",
    "from matplotlib import pyplot as plt\n",
    "import pandas as pd\n",
    "from flatsurf import *\n",
    "import numpy as np\n",
    "from matplotlib import pyplot as plt\n",
    "import os\n",
    "import pwlf\n",
    "import sympy as sym\n",
    "from sympy import Symbol\n",
    "from sympy import solve, lambdify\n",
    "import os\n",
    "from Poincare import *\n",
    "from Poincare import Section\n",
    "import math\n",
    "from surface_dynamics.all import *\n",
    "from time import time"
   ]
  },
  {
   "cell_type": "code",
   "execution_count": 2,
   "id": "48367d68-06f5-4f2f-b7c8-d7712cc43e94",
   "metadata": {},
   "outputs": [],
   "source": [
    "#Code from Sunrose\n",
    "D = OrigamiDatabase()\n",
    "q = D.query()\n",
    "qlist = q.list()\n",
    "\n",
    "def unit_hor_saddle(O):\n",
    "    count = 0\n",
    "    for vert in O.vertices():\n",
    "        tup = vert.up_right_tuple()\n",
    "        for i in tup:\n",
    "            for vert2 in O.vertices():\n",
    "                tup2 = vert2.up_right_tuple()\n",
    "                if O.r()(i) in tup2:\n",
    "                    return True\n",
    "    return False\n",
    "\n",
    "def is_unobstructed(O):\n",
    "    cusp_reps = O.teichmueller_curve().cusp_representatives()\n",
    "    for item in cusp_reps:\n",
    "        if not unit_hor_saddle(item[0]):\n",
    "            return False\n",
    "    return True\n",
    "\n",
    "def obstructed(n, **kwargs):\n",
    "    obstructed = []\n",
    "    count_obstructed = 0\n",
    "    p = D.query(nb_squares=n, **kwargs)\n",
    "    for item in p:\n",
    "        if not is_unobstructed(item):\n",
    "            obstructed.append(item)\n",
    "            count_obstructed+= item.teichmueller_curve().orbit_graph().num_verts()\n",
    "    return (obstructed, count_obstructed)"
   ]
  },
  {
   "cell_type": "code",
   "execution_count": 3,
   "id": "c92f053c-c8a3-4592-9071-040594af1e30",
   "metadata": {},
   "outputs": [],
   "source": [
    "def vectors(perm, length = 200):\n",
    "    a = str(perm)\n",
    "    h, v = a.split(\"\\n\")\n",
    "    S = SymmetricGroup(len(h))\n",
    "    T = translation_surfaces.origami(S(h), S(v))\n",
    "    T = T.erase_marked_points()\n",
    "    sc_list = T.saddle_connections(length)\n",
    "    slopes_all = []\n",
    "    for item in sc_list:\n",
    "        vec = item.holonomy().n()\n",
    "        direction = item.direction\n",
    "        if vec not in slopes_all:\n",
    "            if vec[0] >= -length/20 and vec[0] <= length/20:\n",
    "                if vec[1] >= -length/20 and vec[1] <= length/20:\n",
    "                    slopes_all.append(item.holonomy().n())         \n",
    "    vecs = []\n",
    "    for vec in slopes_all:\n",
    "        item = np.array([[vec[0]],[vec[1]]])\n",
    "        vecs.append(item)\n",
    "    return vecs"
   ]
  },
  {
   "cell_type": "code",
   "execution_count": 4,
   "id": "5993f9e2-c25c-4cea-ae81-a19442d1196a",
   "metadata": {},
   "outputs": [],
   "source": [
    "def perms_list(n, **kwargs):\n",
    "    obstructed = []\n",
    "    p = D.query(nb_squares=n, **kwargs)\n",
    "    for item in p:\n",
    "        if not is_unobstructed(item):\n",
    "            obstructed.append(item)\n",
    "            for perm in item.teichmueller_curve():\n",
    "                obstructed.append(perm)\n",
    "    return obstructed"
   ]
  },
  {
   "cell_type": "code",
   "execution_count": 5,
   "id": "73524e65-e0d4-42bb-9151-44b894f68850",
   "metadata": {},
   "outputs": [
    {
     "data": {
      "text/plain": [
       "92"
      ]
     },
     "execution_count": 5,
     "metadata": {},
     "output_type": "execute_result"
    }
   ],
   "source": [
    "permutations = perms_list(7)\n",
    "len(permutations)"
   ]
  },
  {
   "cell_type": "code",
   "execution_count": 6,
   "id": "1a45cf94-6233-478a-a3bb-0d30448134c5",
   "metadata": {},
   "outputs": [
    {
     "data": {
      "text/plain": [
       "(1)(2)(3)(4,5,6,7)\n",
       "(1,2,3,4)(5)(6)(7)"
      ]
     },
     "execution_count": 6,
     "metadata": {},
     "output_type": "execute_result"
    }
   ],
   "source": [
    "permutations[4]"
   ]
  },
  {
   "cell_type": "code",
   "execution_count": null,
   "id": "f59723bc-3020-4f4c-b3e4-cdf9b65baba2",
   "metadata": {},
   "outputs": [
    {
     "name": "stdout",
     "output_type": "stream",
     "text": [
      "[Infinity, 13/8, 9/5, 148/79, 8/5, 43/23, 2, 15/8, 5/3, 17/9]\n",
      "10\n",
      "[[1]\n",
      " [0]]\n",
      "[[1.        ]\n",
      " [0.61538462]]\n",
      "[[1.        ]\n",
      " [0.55555556]]\n",
      "[[1.        ]\n",
      " [0.53378378]]\n",
      "[[1.   ]\n",
      " [0.625]]\n",
      "[[1.        ]\n",
      " [0.53488372]]\n",
      "[[1. ]\n",
      " [0.5]]\n",
      "[[1.        ]\n",
      " [0.53333333]]\n",
      "[[1. ]\n",
      " [0.6]]\n",
      "[[1.        ]\n",
      " [0.52941176]]\n",
      "\n",
      "alpha = 4.0\n",
      "53760\n",
      "26878\n",
      "7\n",
      "\n",
      "alpha = 466.0\n",
      "53760\n",
      "26880\n",
      "empty section\n",
      "\n",
      "alpha = 106.0\n",
      "53760\n",
      "26880\n",
      "1\n",
      "\n",
      "alpha = 56290.0\n",
      "53760\n",
      "26880\n",
      "empty section\n",
      "\n",
      "alpha = 534.0\n",
      "53760\n",
      "26880\n",
      "empty section\n",
      "\n",
      "alpha = 7134.0\n",
      "53760\n",
      "26880\n",
      "empty section\n",
      "\n",
      "alpha = 50.0\n",
      "53760\n",
      "26880\n",
      "1\n",
      "\n",
      "alpha = 3468.0\n",
      "53760\n",
      "26880\n",
      "empty section\n",
      "\n",
      "alpha = 238.0\n",
      "53760\n",
      "26880\n",
      "empty section\n",
      "\n",
      "alpha = 2590.0\n",
      "53760\n",
      "26880\n",
      "empty section\n",
      "[Infinity, 35/74, 4/5, 1/3, 9/19, 8/17, 1, 1/2, 6/7, 0]\n",
      "10\n",
      "[[1]\n",
      " [0]]\n",
      "[[1.        ]\n",
      " [2.11428571]]\n",
      "[[1.  ]\n",
      " [1.25]]\n",
      "[[1]\n",
      " [3]]\n",
      "[[1.        ]\n",
      " [2.11111111]]\n",
      "[[1.   ]\n",
      " [2.125]]\n",
      "[[1]\n",
      " [1]]\n",
      "[[1]\n",
      " [2]]\n",
      "[[1.        ]\n",
      " [1.16666667]]\n",
      "[[0]\n",
      " [1]]\n",
      "\n",
      "alpha = 4.0\n",
      "53946\n",
      "26971\n",
      "7\n",
      "\n",
      "alpha = 13402.0\n",
      "53946\n",
      "26973\n",
      "empty section\n",
      "\n",
      "alpha = 41.0\n",
      "53946\n",
      "26973\n",
      "1\n",
      "\n",
      "alpha = 20.0\n",
      "53946\n",
      "26973\n",
      "\n",
      "alpha = 2652.0\n",
      "53946\n",
      "26973\n"
     ]
    }
   ],
   "source": [
    "for i in range(4, len(permutations)):\n",
    "    vecs = None\n",
    "    n_squares = 7\n",
    "    perm = permutations[i]\n",
    "    vecs = vectors(perm,30000)\n",
    "    try:\n",
    "        comp(perm, vecs, 7, i)\n",
    "    except:\n",
    "        continue"
   ]
  },
  {
   "cell_type": "code",
   "execution_count": 7,
   "id": "913c25a2-701b-4d2a-916b-a147fc15f5ad",
   "metadata": {
    "scrolled": true
   },
   "outputs": [],
   "source": [
    "perm = permutations[4]\n",
    "vecs0 = vectors(perm, 4000)\n",
    "dx = 0.001\n",
    "f = open(\"vecs.txt\",'w')\n",
    "f.write(str(vecs0))\n",
    "f.close()"
   ]
  },
  {
   "cell_type": "code",
   "execution_count": 8,
   "id": "5a4e5abf-0ed1-4adf-bea4-ce88003009f6",
   "metadata": {},
   "outputs": [],
   "source": [
    "f = open(\"vecs.txt\",'r')\n",
    "vecs0 = eval(f.readlines()[0])\n",
    "f.close()"
   ]
  },
  {
   "cell_type": "code",
   "execution_count": 9,
   "id": "bc2e57bb-7b35-4eea-b06a-7c1fcba97184",
   "metadata": {},
   "outputs": [
    {
     "data": {
      "text/plain": [
       "7112"
      ]
     },
     "execution_count": 9,
     "metadata": {},
     "output_type": "execute_result"
    }
   ],
   "source": [
    "len(vecs0)"
   ]
  },
  {
   "cell_type": "code",
   "execution_count": 18,
   "id": "8b7e440a-153a-4d6e-b9d8-3281431399fa",
   "metadata": {},
   "outputs": [
    {
     "name": "stdout",
     "output_type": "stream",
     "text": [
      "\n",
      "\n",
      "\n",
      "\n",
      "\n",
      "\n",
      "\n",
      "\n",
      "\n",
      "\n",
      "\n",
      "\n",
      "\n",
      "\n",
      "\n",
      "\n",
      "\n",
      "\n",
      "\n",
      "\n"
     ]
    },
    {
     "data": {
      "image/png": "[encoded data removed]",
      "text/plain": [
       "Graphics object consisting of 71 graphics primitives"
      ]
     },
     "metadata": {},
     "output_type": "display_data"
    }
   ],
   "source": [
    "for i in range(20):\n",
    "    try:\n",
    "        alphas, Cs, C_invs, eigs, Ms, generators, eigenvecs = poincare_details(perm, vecs0)\n",
    "        break\n",
    "    except:\n",
    "        continue\n",
    "perm.show()"
   ]
  },
  {
   "cell_type": "code",
   "execution_count": 10,
   "id": "b7fe59b6-ba48-4b4d-bdfc-1c141f6ca009",
   "metadata": {},
   "outputs": [
    {
     "name": "stdout",
     "output_type": "stream",
     "text": [
      "\n",
      "0.2679491924311227? 3.732050807568878?\n",
      "[ 4 -1]\n",
      "[ 1  0]\n"
     ]
    },
    {
     "ename": "ValueError",
     "evalue": "Different eigenvalues",
     "output_type": "error",
     "traceback": [
      "\u001b[0;31m---------------------------------------------------------------------------\u001b[0m",
      "\u001b[0;31mValueError\u001b[0m                                Traceback (most recent call last)",
      "Cell \u001b[0;32mIn[10], line 3\u001b[0m\n\u001b[1;32m      1\u001b[0m perm \u001b[38;5;241m=\u001b[39m permutations[Integer(\u001b[38;5;241m4\u001b[39m)]\n\u001b[1;32m      2\u001b[0m dx \u001b[38;5;241m=\u001b[39m RealNumber(\u001b[38;5;124m'\u001b[39m\u001b[38;5;124m0.001\u001b[39m\u001b[38;5;124m'\u001b[39m)\n\u001b[0;32m----> 3\u001b[0m alphas, Cs, C_invs, eigs, Ms, generators, eigenvecs \u001b[38;5;241m=\u001b[39m \u001b[43mpoincare_details\u001b[49m\u001b[43m(\u001b[49m\u001b[43mperm\u001b[49m\u001b[43m,\u001b[49m\u001b[43m \u001b[49m\u001b[43mvecs0\u001b[49m\u001b[43m)\u001b[49m\n",
      "File \u001b[0;32m~/Poincare.py:93\u001b[0m, in \u001b[0;36mpoincare_details\u001b[0;34m(perm, vecs0)\u001b[0m\n\u001b[1;32m     91\u001b[0m         \u001b[38;5;28mprint\u001b[39m(eig1,eig2)\n\u001b[1;32m     92\u001b[0m         \u001b[38;5;28mprint\u001b[39m(matrix)\n\u001b[0;32m---> 93\u001b[0m         \u001b[38;5;28;01mraise\u001b[39;00m \u001b[38;5;167;01mValueError\u001b[39;00m(\u001b[38;5;124m\"\u001b[39m\u001b[38;5;124mDifferent eigenvalues\u001b[39m\u001b[38;5;124m\"\u001b[39m)\n\u001b[1;32m     94\u001b[0m \u001b[38;5;66;03m#find the eigenvectors for each generator\u001b[39;00m\n\u001b[1;32m     95\u001b[0m \u001b[38;5;28mprint\u001b[39m(\u001b[38;5;28mlen\u001b[39m(eigs))\n",
      "\u001b[0;31mValueError\u001b[0m: Different eigenvalues"
     ]
    }
   ],
   "source": [
    "perm = permutations[4]\n",
    "dx = 0.001\n",
    "alphas, Cs, C_invs, eigs, Ms, generators, eigenvecs = poincare_details(perm, vecs0)"
   ]
  },
  {
   "cell_type": "code",
   "execution_count": 10,
   "id": "64b36f87-88b1-4d22-81b5-6b162c878248",
   "metadata": {},
   "outputs": [
    {
     "ename": "NameError",
     "evalue": "name 'alphas' is not defined",
     "output_type": "error",
     "traceback": [
      "\u001b[0;31m---------------------------------------------------------------------------\u001b[0m",
      "\u001b[0;31mNameError\u001b[0m                                 Traceback (most recent call last)",
      "Cell \u001b[0;32mIn[10], line 1\u001b[0m\n\u001b[0;32m----> 1\u001b[0m \u001b[43malphas\u001b[49m\n",
      "\u001b[0;31mNameError\u001b[0m: name 'alphas' is not defined"
     ]
    }
   ],
   "source": [
    "alphas"
   ]
  },
  {
   "cell_type": "code",
   "execution_count": null,
   "id": "6716a364-19cc-4ea0-a2b1-a935793eec4c",
   "metadata": {},
   "outputs": [],
   "source": [
    "alphas, Cs, C_invs, eigs, Ms, generators, eigenvecs"
   ]
  },
  {
   "cell_type": "code",
   "execution_count": 15,
   "id": "a41e8e17-0e62-457f-bd68-9373501315a6",
   "metadata": {},
   "outputs": [
    {
     "name": "stdout",
     "output_type": "stream",
     "text": [
      "11110\n",
      "5555\n"
     ]
    },
    {
     "ename": "ValueError",
     "evalue": "No winner",
     "output_type": "error",
     "traceback": [
      "\u001b[0;31m---------------------------------------------------------------------------\u001b[0m",
      "\u001b[0;31mValueError\u001b[0m                                Traceback (most recent call last)",
      "Cell \u001b[0;32mIn[15], line 6\u001b[0m\n\u001b[1;32m      4\u001b[0m vecs, x_vals, m0, m1, x0, y0, dx_y \u001b[38;5;241m=\u001b[39m setup(alphas[i], Cs[i], eigs[i], vecs0, dx)\n\u001b[1;32m      5\u001b[0m t1 \u001b[38;5;241m=\u001b[39m time()\n\u001b[0;32m----> 6\u001b[0m df \u001b[38;5;241m=\u001b[39m \u001b[43mwinners\u001b[49m\u001b[43m(\u001b[49m\u001b[43mvecs\u001b[49m\u001b[43m,\u001b[49m\u001b[43m \u001b[49m\u001b[43mx_vals\u001b[49m\u001b[43m,\u001b[49m\u001b[43m \u001b[49m\u001b[43mm0\u001b[49m\u001b[43m,\u001b[49m\u001b[43m \u001b[49m\u001b[43mm1\u001b[49m\u001b[43m,\u001b[49m\u001b[43m \u001b[49m\u001b[43my0\u001b[49m\u001b[43m,\u001b[49m\u001b[43m \u001b[49m\u001b[43mdx\u001b[49m\u001b[43m,\u001b[49m\u001b[43m \u001b[49m\u001b[43mdx_y\u001b[49m\u001b[43m)\u001b[49m\n\u001b[1;32m      7\u001b[0m t2 \u001b[38;5;241m=\u001b[39m time()\n\u001b[1;32m      8\u001b[0m \u001b[38;5;28mprint\u001b[39m(t2\u001b[38;5;241m-\u001b[39mt1)\n",
      "File \u001b[0;32m~/Poincare.py:287\u001b[0m, in \u001b[0;36mwinners\u001b[0;34m(vecs, x_vals, m0, m1, y0, dx, dx_y)\u001b[0m\n\u001b[1;32m    284\u001b[0m     winners\u001b[38;5;241m.\u001b[39mappend(winner)\n\u001b[1;32m    286\u001b[0m \u001b[38;5;28;01mif\u001b[39;00m \u001b[38;5;28mtype\u001b[39m(winners[\u001b[38;5;241m0\u001b[39m]) \u001b[38;5;241m==\u001b[39m \u001b[38;5;28mtype\u001b[39m(\u001b[38;5;28;01mNone\u001b[39;00m):\n\u001b[0;32m--> 287\u001b[0m     \u001b[38;5;28;01mraise\u001b[39;00m \u001b[38;5;167;01mValueError\u001b[39;00m(\u001b[38;5;124m\"\u001b[39m\u001b[38;5;124mNo winner\u001b[39m\u001b[38;5;124m\"\u001b[39m)\n\u001b[1;32m    288\u001b[0m possible_vecs1 \u001b[38;5;241m=\u001b[39m np\u001b[38;5;241m.\u001b[39munique(winners, axis\u001b[38;5;241m=\u001b[39m\u001b[38;5;241m0\u001b[39m)\n\u001b[1;32m    289\u001b[0m \u001b[38;5;28;01mfor\u001b[39;00m item \u001b[38;5;129;01min\u001b[39;00m possible_vecs1:\n",
      "\u001b[0;31mValueError\u001b[0m: No winner"
     ]
    }
   ],
   "source": [
    "i = 2\n",
    "n_squares = 7\n",
    "index = 0\n",
    "vecs, x_vals, m0, m1, x0, y0, dx_y = setup(alphas[i], Cs[i], eigs[i], vecs0, dx)\n",
    "t1 = time()\n",
    "df = winners(vecs, x_vals, m0, m1, y0, dx, dx_y)\n",
    "t2 = time()\n",
    "print(t2-t1)"
   ]
  },
  {
   "cell_type": "code",
   "execution_count": null,
   "id": "61887807-b58f-4c4a-8903-da7ce9fe54ba",
   "metadata": {},
   "outputs": [],
   "source": [
    "plot(df, vecs, Cs[i], 1, n_squares, index, test = True)"
   ]
  },
  {
   "cell_type": "code",
   "execution_count": null,
   "id": "0acf131e-bae8-4040-ae3e-f993a506f5cc",
   "metadata": {},
   "outputs": [],
   "source": [
    "sec_list = sec_setup(df, dx_y)\n",
    "secs = sec_comp(sec_list, dx)\n",
    "times = time_comp(secs)\n",
    "pdf(list(df[\"time\"]), times, dx)"
   ]
  },
  {
   "cell_type": "code",
   "execution_count": 9,
   "id": "7d0eadc0-3c57-433e-861d-a064470eac2a",
   "metadata": {},
   "outputs": [
    {
     "data": {
      "text/plain": [
       "231.66317488799075"
      ]
     },
     "execution_count": 9,
     "metadata": {},
     "output_type": "execute_result"
    }
   ],
   "source": [
    "54 * 2*math.pi**(2/3)"
   ]
  },
  {
   "cell_type": "code",
   "execution_count": 15,
   "id": "c161a3b5-198d-491b-9d11-2e6327caa8d3",
   "metadata": {},
   "outputs": [
    {
     "data": {
      "text/html": [
       "<div>\n",
       "<style scoped>\n",
       "    .dataframe tbody tr th:only-of-type {\n",
       "        vertical-align: middle;\n",
       "    }\n",
       "\n",
       "    .dataframe tbody tr th {\n",
       "        vertical-align: top;\n",
       "    }\n",
       "\n",
       "    .dataframe thead th {\n",
       "        text-align: right;\n",
       "    }\n",
       "</style>\n",
       "<table border=\"1\" class=\"dataframe\">\n",
       "  <thead>\n",
       "    <tr style=\"text-align: right;\">\n",
       "      <th></th>\n",
       "      <th>x</th>\n",
       "      <th>y</th>\n",
       "      <th>lab</th>\n",
       "      <th>vec</th>\n",
       "      <th>time</th>\n",
       "    </tr>\n",
       "  </thead>\n",
       "  <tbody>\n",
       "  </tbody>\n",
       "</table>\n",
       "</div>"
      ],
      "text/plain": [
       "Empty DataFrame\n",
       "Columns: [x, y, lab, vec, time]\n",
       "Index: []"
      ]
     },
     "execution_count": 15,
     "metadata": {},
     "output_type": "execute_result"
    }
   ],
   "source": [
    "df[df[\"lab\"] != 0]"
   ]
  },
  {
   "cell_type": "code",
   "execution_count": 12,
   "id": "b4d0d9ec-9f8d-48e4-be4f-7a7b0be56374",
   "metadata": {},
   "outputs": [
    {
     "data": {
      "text/html": [
       "<div>\n",
       "<style scoped>\n",
       "    .dataframe tbody tr th:only-of-type {\n",
       "        vertical-align: middle;\n",
       "    }\n",
       "\n",
       "    .dataframe tbody tr th {\n",
       "        vertical-align: top;\n",
       "    }\n",
       "\n",
       "    .dataframe thead th {\n",
       "        text-align: right;\n",
       "    }\n",
       "</style>\n",
       "<table border=\"1\" class=\"dataframe\">\n",
       "  <thead>\n",
       "    <tr style=\"text-align: right;\">\n",
       "      <th></th>\n",
       "      <th>x</th>\n",
       "      <th>y</th>\n",
       "      <th>lab</th>\n",
       "      <th>vec</th>\n",
       "      <th>time</th>\n",
       "    </tr>\n",
       "  </thead>\n",
       "  <tbody>\n",
       "    <tr>\n",
       "      <th>0</th>\n",
       "      <td>0.002</td>\n",
       "      <td>2.251586e+06</td>\n",
       "      <td>0</td>\n",
       "      <td>[[0.9999980497281841], [4.4324268547862866e-07]]</td>\n",
       "      <td>2.216215e-04</td>\n",
       "    </tr>\n",
       "    <tr>\n",
       "      <th>1</th>\n",
       "      <td>0.003</td>\n",
       "      <td>2.249328e+06</td>\n",
       "      <td>0</td>\n",
       "      <td>[[0.9999980497281841], [4.4324268547862866e-07]]</td>\n",
       "      <td>1.477478e-04</td>\n",
       "    </tr>\n",
       "    <tr>\n",
       "      <th>2</th>\n",
       "      <td>0.003</td>\n",
       "      <td>2.249330e+06</td>\n",
       "      <td>0</td>\n",
       "      <td>[[0.9999980497281841], [4.4324268547862866e-07]]</td>\n",
       "      <td>1.477477e-04</td>\n",
       "    </tr>\n",
       "    <tr>\n",
       "      <th>3</th>\n",
       "      <td>0.004</td>\n",
       "      <td>2.247070e+06</td>\n",
       "      <td>0</td>\n",
       "      <td>[[0.9999980497281841], [4.4324268547862866e-07]]</td>\n",
       "      <td>1.108110e-04</td>\n",
       "    </tr>\n",
       "    <tr>\n",
       "      <th>4</th>\n",
       "      <td>0.004</td>\n",
       "      <td>2.247072e+06</td>\n",
       "      <td>0</td>\n",
       "      <td>[[0.9999980497281841], [4.4324268547862866e-07]]</td>\n",
       "      <td>1.108109e-04</td>\n",
       "    </tr>\n",
       "    <tr>\n",
       "      <th>...</th>\n",
       "      <td>...</td>\n",
       "      <td>...</td>\n",
       "      <td>...</td>\n",
       "      <td>...</td>\n",
       "      <td>...</td>\n",
       "    </tr>\n",
       "    <tr>\n",
       "      <th>497868</th>\n",
       "      <td>0.999</td>\n",
       "      <td>2.250316e+03</td>\n",
       "      <td>0</td>\n",
       "      <td>[[0.9999980497281841], [4.4324268547862866e-07]]</td>\n",
       "      <td>4.436884e-07</td>\n",
       "    </tr>\n",
       "    <tr>\n",
       "      <th>497869</th>\n",
       "      <td>0.999</td>\n",
       "      <td>2.252352e+03</td>\n",
       "      <td>0</td>\n",
       "      <td>[[0.9999980497281841], [4.4324268547862866e-07]]</td>\n",
       "      <td>4.436880e-07</td>\n",
       "    </tr>\n",
       "    <tr>\n",
       "      <th>497870</th>\n",
       "      <td>0.999</td>\n",
       "      <td>2.254388e+03</td>\n",
       "      <td>0</td>\n",
       "      <td>[[0.9999980497281841], [4.4324268547862866e-07]]</td>\n",
       "      <td>4.436876e-07</td>\n",
       "    </tr>\n",
       "    <tr>\n",
       "      <th>497871</th>\n",
       "      <td>0.999</td>\n",
       "      <td>2.256424e+03</td>\n",
       "      <td>0</td>\n",
       "      <td>[[0.9999980497281841], [4.4324268547862866e-07]]</td>\n",
       "      <td>4.436872e-07</td>\n",
       "    </tr>\n",
       "    <tr>\n",
       "      <th>497872</th>\n",
       "      <td>0.999</td>\n",
       "      <td>2.258460e+03</td>\n",
       "      <td>0</td>\n",
       "      <td>[[0.9999980497281841], [4.4324268547862866e-07]]</td>\n",
       "      <td>4.436868e-07</td>\n",
       "    </tr>\n",
       "  </tbody>\n",
       "</table>\n",
       "<p>497873 rows × 5 columns</p>\n",
       "</div>"
      ],
      "text/plain": [
       "            x             y  lab  \\\n",
       "0       0.002  2.251586e+06    0   \n",
       "1       0.003  2.249328e+06    0   \n",
       "2       0.003  2.249330e+06    0   \n",
       "3       0.004  2.247070e+06    0   \n",
       "4       0.004  2.247072e+06    0   \n",
       "...       ...           ...  ...   \n",
       "497868  0.999  2.250316e+03    0   \n",
       "497869  0.999  2.252352e+03    0   \n",
       "497870  0.999  2.254388e+03    0   \n",
       "497871  0.999  2.256424e+03    0   \n",
       "497872  0.999  2.258460e+03    0   \n",
       "\n",
       "                                                     vec          time  \n",
       "0       [[0.9999980497281841], [4.4324268547862866e-07]]  2.216215e-04  \n",
       "1       [[0.9999980497281841], [4.4324268547862866e-07]]  1.477478e-04  \n",
       "2       [[0.9999980497281841], [4.4324268547862866e-07]]  1.477477e-04  \n",
       "3       [[0.9999980497281841], [4.4324268547862866e-07]]  1.108110e-04  \n",
       "4       [[0.9999980497281841], [4.4324268547862866e-07]]  1.108109e-04  \n",
       "...                                                  ...           ...  \n",
       "497868  [[0.9999980497281841], [4.4324268547862866e-07]]  4.436884e-07  \n",
       "497869  [[0.9999980497281841], [4.4324268547862866e-07]]  4.436880e-07  \n",
       "497870  [[0.9999980497281841], [4.4324268547862866e-07]]  4.436876e-07  \n",
       "497871  [[0.9999980497281841], [4.4324268547862866e-07]]  4.436872e-07  \n",
       "497872  [[0.9999980497281841], [4.4324268547862866e-07]]  4.436868e-07  \n",
       "\n",
       "[497873 rows x 5 columns]"
      ]
     },
     "execution_count": 12,
     "metadata": {},
     "output_type": "execute_result"
    }
   ],
   "source": [
    "df"
   ]
  },
  {
   "cell_type": "code",
   "execution_count": 20,
   "id": "389696f1-0928-47c3-835d-55cec73342bb",
   "metadata": {},
   "outputs": [],
   "source": [
    "a = np.array([[2],[3]])\n",
    "b = None\n",
    "if type(a) == type(None):\n",
    "    print(1)"
   ]
  },
  {
   "cell_type": "code",
   "execution_count": 16,
   "id": "97afb556-2db9-4d07-a0f4-8755d7846ef6",
   "metadata": {},
   "outputs": [
    {
     "data": {
      "text/plain": [
       "<class 'NoneType'>"
      ]
     },
     "execution_count": 16,
     "metadata": {},
     "output_type": "execute_result"
    }
   ],
   "source": [
    "type(b)"
   ]
  },
  {
   "cell_type": "code",
   "execution_count": 15,
   "id": "70a7dfa9-4855-4427-be23-416578bc2d8c",
   "metadata": {},
   "outputs": [
    {
     "ename": "AttributeError",
     "evalue": "'EvenArithmeticSubgroup_Permutation_with_category' object has no attribute '__mro__'",
     "output_type": "error",
     "traceback": [
      "\u001b[0;31m---------------------------------------------------------------------------\u001b[0m",
      "\u001b[0;31mKeyError\u001b[0m                                  Traceback (most recent call last)",
      "File \u001b[0;32m~/mambaforge/envs/flatsurf/lib/python3.9/site-packages/sage/structure/category_object.pyx:839\u001b[0m, in \u001b[0;36msage.structure.category_object.CategoryObject.getattr_from_category (build/cythonized/sage/structure/category_object.c:7216)\u001b[0;34m()\u001b[0m\n\u001b[1;32m    838\u001b[0m try:\n\u001b[0;32m--> 839\u001b[0m     return self.__cached_methods[name]\n\u001b[1;32m    840\u001b[0m except KeyError:\n",
      "\u001b[0;31mKeyError\u001b[0m: '__mro__'",
      "\nDuring handling of the above exception, another exception occurred:\n",
      "\u001b[0;31mAttributeError\u001b[0m                            Traceback (most recent call last)",
      "Cell \u001b[0;32mIn[15], line 1\u001b[0m\n\u001b[0;32m----> 1\u001b[0m \u001b[43mperm\u001b[49m\u001b[38;5;241;43m.\u001b[39;49m\u001b[43mveech_group\u001b[49m\u001b[43m(\u001b[49m\u001b[43m)\u001b[49m\u001b[38;5;241;43m.\u001b[39;49m\u001b[38;5;18;43m__mro__\u001b[39;49m()\n",
      "File \u001b[0;32m~/mambaforge/envs/flatsurf/lib/python3.9/site-packages/sage/structure/category_object.pyx:833\u001b[0m, in \u001b[0;36msage.structure.category_object.CategoryObject.__getattr__ (build/cythonized/sage/structure/category_object.c:7135)\u001b[0;34m()\u001b[0m\n\u001b[1;32m    831\u001b[0m         AttributeError: 'PrimeNumbers_with_category' object has no attribute 'sadfasdf'\n\u001b[1;32m    832\u001b[0m     \"\"\"\n\u001b[0;32m--> 833\u001b[0m     return self.getattr_from_category(name)\n\u001b[1;32m    834\u001b[0m \n\u001b[1;32m    835\u001b[0m cdef getattr_from_category(self, name):\n",
      "File \u001b[0;32m~/mambaforge/envs/flatsurf/lib/python3.9/site-packages/sage/structure/category_object.pyx:848\u001b[0m, in \u001b[0;36msage.structure.category_object.CategoryObject.getattr_from_category (build/cythonized/sage/structure/category_object.c:7301)\u001b[0;34m()\u001b[0m\n\u001b[1;32m    846\u001b[0m     cls = self._category.parent_class\n\u001b[1;32m    847\u001b[0m \n\u001b[0;32m--> 848\u001b[0m attr = getattr_from_other_class(self, cls, name)\n\u001b[1;32m    849\u001b[0m self.__cached_methods[name] = attr\n\u001b[1;32m    850\u001b[0m return attr\n",
      "File \u001b[0;32m~/mambaforge/envs/flatsurf/lib/python3.9/site-packages/sage/cpython/getattr.pyx:356\u001b[0m, in \u001b[0;36msage.cpython.getattr.getattr_from_other_class (build/cythonized/sage/cpython/getattr.c:2717)\u001b[0;34m()\u001b[0m\n\u001b[1;32m    354\u001b[0m     dummy_error_message.cls = type(self)\n\u001b[1;32m    355\u001b[0m     dummy_error_message.name = name\n\u001b[0;32m--> 356\u001b[0m     raise AttributeError(dummy_error_message)\n\u001b[1;32m    357\u001b[0m cdef PyObject* attr = instance_getattr(cls, name)\n\u001b[1;32m    358\u001b[0m if attr is NULL:\n",
      "\u001b[0;31mAttributeError\u001b[0m: 'EvenArithmeticSubgroup_Permutation_with_category' object has no attribute '__mro__'"
     ]
    }
   ],
   "source": []
  },
  {
   "cell_type": "code",
   "execution_count": 24,
   "id": "c95c206b-c3ac-4455-bb98-a75a98c6b5f3",
   "metadata": {},
   "outputs": [],
   "source": [
    "v = perm.veech_group()"
   ]
  },
  {
   "cell_type": "code",
   "execution_count": 26,
   "id": "aaca6a4c-48df-4ad0-83a9-0811d16b8da7",
   "metadata": {},
   "outputs": [
    {
     "data": {
      "text/plain": [
       "Arithmetic subgroup of index 54"
      ]
     },
     "execution_count": 26,
     "metadata": {},
     "output_type": "execute_result"
    }
   ],
   "source": [
    "v.genus()"
   ]
  },
  {
   "cell_type": "code",
   "execution_count": 9,
   "id": "c0e61a4d-4f46-4ed8-ba75-b14e640d4c9d",
   "metadata": {},
   "outputs": [
    {
     "name": "stdout",
     "output_type": "stream",
     "text": [
      "[Infinity, 59/40, 9/5, 4/3, 16/11, 25/17, 2, 3/2, 31/21, 3]\n",
      "[Infinity, 93/34, 53/19, 8/3, 52/19, 63/23, 14/5, 11/4, 41/15, 3]\n",
      "[Infinity, 74/93, 125/157, 3/4, 35/44, 31/39, 43/54, 4/5, 39/49, 1]\n",
      "[Infinity, 8/13, 5/11, 3/4, 5/8, 7/11, 1/2, 2/3, 13/21, 1]\n",
      "[Infinity, 50/27, 9/5, 8/3, 28/19, 25/17, 2, 3/2, 13/7, 3]\n",
      "[Infinity, 13/8, 9/5, 4/3, 8/5, 25/17, 2, 3/2, 5/3, 1]\n",
      "[Infinity, 69/28, 9/5, 8/3, 32/13, 27/11, 2, 5/2, 37/15, 3]\n",
      "[Infinity, 109/74, 9/5, 8/3, 28/19, 19/13, 2, 3/2, 31/21, 3]\n",
      "[Infinity, 41/22, 9/5, 148/79, 28/15, 125/67, 2, 15/8, 5/3, 3]\n",
      "[Infinity, 34/43, 125/157, 3/4, 19/24, 31/39, 43/54, 4/5, 53/67, 1]\n",
      "[Infinity, 30/13, 121/49, 52/21, 37/16, 27/11, 42/17, 5/2, 7/3, 3]\n",
      "[Infinity, 28/43, 49/75, 3/4, 5/8, 11/17, 17/26, 2/3, 15/23, 1]\n",
      "[Infinity, 50/77, 5/11, 3/4, 13/20, 7/11, 1/2, 2/3, 37/57, 1]\n",
      "[Infinity, 123/50, 9/5, 52/21, 32/13, 17/7, 2, 5/2, 5/3, 3]\n",
      "[Infinity, 30/13, 9/5, 8/3, 12/5, 17/7, 2, 5/2, 7/3, 3]\n",
      "[Infinity, 13/8, 9/5, 8/3, 12/5, 55/23, 2, 5/2, 5/3, 3]\n",
      "[Infinity, 35/22, 9/5, 8/3, 8/5, 25/17, 2, 3/2, 5/3, 3]\n",
      "[Infinity, 172/93, 9/5, 148/79, 37/20, 61/33, 2, 15/8, 13/7, 1]\n",
      "[Infinity, 13/8, 9/5, 662/405, 18/11, 237/145, 2, 85/52, 5/3, 3]\n",
      "[Infinity, 13/8, 9/5, 32/17, 28/19, 19/13, 2, 3/2, 5/3, 17/9]\n"
     ]
    }
   ],
   "source": [
    "prev_cusps = []\n",
    "for i in range(20):\n",
    "    v = perm.veech_group() # the problem is here!\n",
    "    a = v._find_cusps()\n",
    "    if not str(a) in prev_cusps:\n",
    "        prev_cusps.append(str(a))\n",
    "        print(str(a))"
   ]
  },
  {
   "cell_type": "code",
   "execution_count": 10,
   "id": "d42f56be-10e8-4b28-9e7f-80d95a94a92e",
   "metadata": {},
   "outputs": [
    {
     "name": "stdout",
     "output_type": "stream",
     "text": [
      "[Infinity, 50/27, 9/5, 3/4, 13/20, 11/17, 2, 2/3, 13/7, 1]\n"
     ]
    }
   ],
   "source": [
    "prev_cusps = []\n",
    "v = perm.veech_group()\n",
    "for i in range(20):\n",
    "    a = v.cusps()\n",
    "    if not str(a) in prev_cusps:\n",
    "        prev_cusps.append(str(a))\n",
    "        print(str(a))"
   ]
  },
  {
   "cell_type": "code",
   "execution_count": 12,
   "id": "c5f406ec-8989-44bd-9b88-1b072bd6054e",
   "metadata": {},
   "outputs": [
    {
     "data": {
      "text/plain": [
       "True"
      ]
     },
     "execution_count": 12,
     "metadata": {},
     "output_type": "execute_result"
    }
   ],
   "source": [
    "v.are_equivalent(662/405, 32/17)"
   ]
  },
  {
   "cell_type": "code",
   "execution_count": 20,
   "id": "2993407f-7153-43e4-b00b-5a1df0d9fccc",
   "metadata": {},
   "outputs": [
    {
     "name": "stdout",
     "output_type": "stream",
     "text": [
      "Error getting source: s must be a string\n"
     ]
    },
    {
     "data": {
      "text/plain": [
       "\u001b[0;31mDocstring:\u001b[0m     \n",
       "        Return the Veech group of this origami.\n",
       "\n",
       "        EXAMPLES::\n",
       "\n",
       "            sage: from surface_dynamics.all import Origami\n",
       "            sage: o = Origami('(1,2)', '(1,3)')\n",
       "            sage: G = o.veech_group()\n",
       "            sage: G\n",
       "            Arithmetic subgroup with permutations of right cosets\n",
       "             S2=(2,3)\n",
       "             S3=(1,2,3)\n",
       "             L=(1,2)\n",
       "             R=(1,3)\n",
       "\n",
       "        Most geometric information on the quotient of the upper half plane by\n",
       "        the Veech group can be recovered from \"G\"::\n",
       "\n",
       "            sage: G.index()\n",
       "            3\n",
       "            sage: G.genus()\n",
       "            0\n",
       "            sage: G.ncusps()\n",
       "            2\n",
       "            sage: G.nu2()\n",
       "            1\n",
       "            sage: G.nu3()\n",
       "            0\n",
       "\n",
       "        As well as some arithmetic informations::\n",
       "\n",
       "            sage: G.is_congruence()\n",
       "            True\n",
       "            sage: G.generalised_level()\n",
       "            2\n",
       "\n",
       "        Note that the fact of being congruent is rather exceptional::\n",
       "\n",
       "            sage: o = Origami('(1,2,3,4)', '(4,5)')\n",
       "            sage: o.veech_group().is_congruence()\n",
       "            False\n",
       "\n",
       "            sage: o = Origami('(1,2,3,4,5)', '(5,6)')\n",
       "            sage: o.veech_group().is_congruence()\n",
       "            False\n",
       "\n",
       "            sage: o = Origami('(1,2,3,4,5,6)', '(6,7)')\n",
       "            sage: o.veech_group().is_congruence()\n",
       "            False\n",
       "\u001b[0;31mInit docstring:\u001b[0m Initialize self.  See help(type(self)) for accurate signature.\n",
       "\u001b[0;31mFile:\u001b[0m           surface_dynamics/flat_surfaces/origamis/origami_dense.pyx\n",
       "\u001b[0;31mType:\u001b[0m           builtin_function_or_method"
      ]
     },
     "metadata": {},
     "output_type": "display_data"
    }
   ],
   "source": [
    "perm.veech_group??"
   ]
  },
  {
   "cell_type": "code",
   "execution_count": 21,
   "id": "d5187968-a234-4afd-9139-d35b7b40fc87",
   "metadata": {},
   "outputs": [
    {
     "data": {
      "text/plain": [
       "<class 'surface_dynamics.flat_surfaces.origamis.origami_dense.Origami_dense_pyx'>"
      ]
     },
     "execution_count": 21,
     "metadata": {},
     "output_type": "execute_result"
    }
   ],
   "source": [
    "type(perm)"
   ]
  },
  {
   "cell_type": "code",
   "execution_count": 23,
   "id": "5c897dd0-a1bb-41d8-baa4-dd6f1ea8b557",
   "metadata": {},
   "outputs": [
    {
     "data": {
      "text/plain": [
       "Teichmueller curve of the origami\n",
       "(1)(2)(3)(4,5,6,7)\n",
       "(1,2,3,4)(5)(6)(7)"
      ]
     },
     "execution_count": 23,
     "metadata": {},
     "output_type": "execute_result"
    }
   ],
   "source": [
    "perm.teichmueller_curve()"
   ]
  },
  {
   "cell_type": "code",
   "execution_count": 18,
   "id": "ee445d7a-7fe4-4871-a1a1-58331e731ecb",
   "metadata": {},
   "outputs": [
    {
     "data": {
      "text/plain": [
       "0"
      ]
     },
     "execution_count": 18,
     "metadata": {},
     "output_type": "execute_result"
    }
   ],
   "source": [
    "v = perm.veech_group()\n",
    "m = v.generators()\n",
    "a = m[0].matrix()\n",
    "a.trace()"
   ]
  },
  {
   "cell_type": "code",
   "execution_count": null,
   "id": "6ff3ba96-feeb-4cbf-8eea-1c479e487e47",
   "metadata": {},
   "outputs": [],
   "source": [
    "v = perm.veech_group()\n",
    "a = v.cusps()\n",
    "b = "
   ]
  }
 ],
 "metadata": {
  "kernelspec": {
   "display_name": "SageMath 10.0",
   "language": "sage",
   "name": "sagemath"
  },
  "language_info": {
   "codemirror_mode": {
    "name": "ipython",
    "version": 3
   },
   "file_extension": ".py",
   "mimetype": "text/x-python",
   "name": "python",
   "nbconvert_exporter": "python",
   "pygments_lexer": "ipython3",
   "version": "3.9.16"
  }
 },
 "nbformat": 4,
 "nbformat_minor": 5
}
