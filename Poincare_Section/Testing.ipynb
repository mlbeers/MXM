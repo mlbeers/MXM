{
 "cells": [
  {
   "cell_type": "code",
   "execution_count": 1,
   "id": "686f8b64-ed5a-45c4-ac88-4d7aa3d582b1",
   "metadata": {},
   "outputs": [],
   "source": [
    "import numpy as np\n",
    "from matplotlib import pyplot as plt\n",
    "from flatsurf import *\n",
    "import os\n",
    "from Poincare import *\n",
    "from surface_dynamics.all import *\n",
    "\n",
    "# import pandas as pd\n",
    "# import pwlf\n",
    "# import sympy as sym\n",
    "# from sympy import Symbol, solve, lambdify\n",
    "# from Poincare import Section\n",
    "# import math\n",
    "# from time import time"
   ]
  },
  {
   "cell_type": "code",
   "execution_count": 2,
   "id": "48367d68-06f5-4f2f-b7c8-d7712cc43e94",
   "metadata": {},
   "outputs": [],
   "source": [
    "# Code from Sunrose\n",
    "# Gives non-visibility tori for testing\n",
    "D = OrigamiDatabase()\n",
    "q = D.query()\n",
    "qlist = q.list()\n",
    "\n",
    "\n",
    "def unit_hor_saddle(O):\n",
    "    count = 0\n",
    "    for vert in O.vertices():\n",
    "        tup = vert.up_right_tuple()\n",
    "        for i in tup:\n",
    "            for vert2 in O.vertices():\n",
    "                tup2 = vert2.up_right_tuple()\n",
    "                if O.r()(i) in tup2:\n",
    "                    return True\n",
    "    return False\n",
    "\n",
    "\n",
    "def is_unobstructed(O):\n",
    "    cusp_reps = O.teichmueller_curve().cusp_representatives()\n",
    "    for item in cusp_reps:\n",
    "        if not unit_hor_saddle(item[0]):\n",
    "            return False\n",
    "    return True\n",
    "\n",
    "\n",
    "def obstructed(n, **kwargs):\n",
    "    obstructed = []\n",
    "    count_obstructed = 0\n",
    "    p = D.query(nb_squares=n, **kwargs)\n",
    "    for item in p:\n",
    "        if not is_unobstructed(item):\n",
    "            obstructed.append(item)\n",
    "            count_obstructed += item.teichmueller_curve().orbit_graph().num_verts()\n",
    "    return (obstructed, count_obstructed)"
   ]
  },
  {
   "cell_type": "code",
   "execution_count": 3,
   "id": "c92f053c-c8a3-4592-9071-040594af1e30",
   "metadata": {},
   "outputs": [],
   "source": [
    "# generate vectors for saddle connections on STS\n",
    "def vectors(perm, length=200):\n",
    "    a = str(perm)\n",
    "    h, v = a.split(\"\\n\")\n",
    "    S = SymmetricGroup(len(h))\n",
    "    T = translation_surfaces.origami(S(h), S(v))\n",
    "    T = T.erase_marked_points()\n",
    "    sc_list = T.saddle_connections(length)\n",
    "    slopes_all = []\n",
    "    for item in sc_list:\n",
    "        vec = item.holonomy().n()\n",
    "        direction = item.direction\n",
    "        if vec not in slopes_all:\n",
    "            if vec[0] >= -length/20 and vec[0] <= length/20:\n",
    "                if vec[1] >= -length/20 and vec[1] <= length/20:\n",
    "                    slopes_all.append(item.holonomy().n())\n",
    "    vecs = []\n",
    "    for vec in slopes_all:\n",
    "        item = np.array([[vec[0]], [vec[1]]])\n",
    "        vecs.append(item)\n",
    "    return vecs"
   ]
  },
  {
   "cell_type": "code",
   "execution_count": 4,
   "id": "5993f9e2-c25c-4cea-ae81-a19442d1196a",
   "metadata": {},
   "outputs": [],
   "source": [
    "# list of permutations\n",
    "def perms_list(n, **kwargs):\n",
    "    obstructed = []\n",
    "    p = D.query(nb_squares=n, **kwargs)\n",
    "    for item in p:\n",
    "        if not is_unobstructed(item):\n",
    "            obstructed.append(item)\n",
    "            for perm in item.teichmueller_curve():\n",
    "                obstructed.append(perm)\n",
    "    return obstructed"
   ]
  },
  {
   "cell_type": "code",
   "execution_count": 5,
   "id": "a16af9b3-38e7-492f-b489-cf9775476171",
   "metadata": {},
   "outputs": [],
   "source": [
    "# take files from saddle.py and load them into notebook\n",
    "def load_arrays_from_file(file_path):\n",
    "    # Load arrays from the NumPy file\n",
    "    arrays_list = np.load(file_path, allow_pickle=True)\n",
    "\n",
    "    # Ensure each element in the list is a NumPy array\n",
    "    arrays_list = [np.array(array) for array in arrays_list]\n",
    "\n",
    "    return arrays_list"
   ]
  },
  {
   "cell_type": "code",
   "execution_count": 6,
   "id": "73524e65-e0d4-42bb-9151-44b894f68850",
   "metadata": {},
   "outputs": [
    {
     "data": {
      "text/plain": [
       "92"
      ]
     },
     "execution_count": 6,
     "metadata": {},
     "output_type": "execute_result"
    }
   ],
   "source": [
    "# get list of permutations for STS with 7 squares\n",
    "permutations = perms_list(7)\n",
    "len(permutations)"
   ]
  },
  {
   "cell_type": "code",
   "execution_count": 7,
   "id": "913c25a2-701b-4d2a-916b-a147fc15f5ad",
   "metadata": {
    "scrolled": true
   },
   "outputs": [],
   "source": [
    "perm = permutations[4]"
   ]
  },
  {
   "cell_type": "code",
   "execution_count": 8,
   "id": "1561bca8-4c76-451d-8df8-3a16bb28f5f4",
   "metadata": {},
   "outputs": [],
   "source": [
    "vecs0 = load_arrays_from_file(os.path.join(\"vecs\", \"vecs7-4.npy\"))\n",
    "vecs1 = load_arrays_from_file(os.path.join(\"vecs\", \"vecs7-3.npy\"))"
   ]
  },
  {
   "cell_type": "code",
   "execution_count": 9,
   "id": "8692e2a0-6d2c-4ed5-8cb7-d071e6717d27",
   "metadata": {},
   "outputs": [
    {
     "data": {
      "text/plain": [
       "3618904"
      ]
     },
     "execution_count": 9,
     "metadata": {},
     "output_type": "execute_result"
    }
   ],
   "source": [
    "len(vecs0)"
   ]
  },
  {
   "cell_type": "code",
   "execution_count": 10,
   "id": "4c09710d-3705-4548-9a32-811911e0f37c",
   "metadata": {},
   "outputs": [
    {
     "data": {
      "text/plain": [
       "907654"
      ]
     },
     "execution_count": 10,
     "metadata": {},
     "output_type": "execute_result"
    }
   ],
   "source": [
    "len(vecs1)"
   ]
  },
  {
   "cell_type": "code",
   "execution_count": 11,
   "id": "f0e5a66b-b1df-4d1c-ad4a-ec999b41e248",
   "metadata": {},
   "outputs": [],
   "source": [
    "# load these values after kernel crashes\n",
    "%store -r a\n",
    "%store -r c\n",
    "%store -r e\n",
    "%store -r g"
   ]
  },
  {
   "cell_type": "code",
   "execution_count": 12,
   "id": "546a7d14-368a-43e1-aca6-6b37d25861c5",
   "metadata": {},
   "outputs": [
    {
     "data": {
      "text/plain": [
       "66"
      ]
     },
     "execution_count": 12,
     "metadata": {},
     "output_type": "execute_result"
    }
   ],
   "source": [
    "len(a)"
   ]
  },
  {
   "cell_type": "code",
   "execution_count": null,
   "id": "e096cc4c-d3e3-4578-842f-b859b95981fe",
   "metadata": {},
   "outputs": [
    {
     "name": "stdout",
     "output_type": "stream",
     "text": [
      "3618904\n",
      "38.46910948952175 0.0006766825527409152\n"
     ]
    }
   ],
   "source": [
    "# Run computations for individual cusps and see if the output is decent\n",
    "# j represents the jth cusps\n",
    "# change i to get new output for the jth cusp\n",
    "\n",
    "# works: 0, 24, ?, ?, ?, ?, ?, ?, ?, 1\n",
    "i = 47\n",
    "j = 3\n",
    "# maybe 0\n",
    "n_squares = 7\n",
    "dx = 0.01\n",
    "index = 4\n",
    "vecs, x_vals, m0, m1, x0, y0, dx_y = setup(\n",
    "    a[i][j], c[i][j], e[i][j], vecs0, dx)\n",
    "df = winners(vecs, x_vals, m0, m1, y0, dx, dx_y)\n",
    "\n",
    "# output is:\n",
    "# number of vectors\n",
    "# the x and y coords of the \"section vector\"\n",
    "# poincare section plot"
   ]
  },
  {
   "cell_type": "code",
   "execution_count": null,
   "id": "099ca11a-3ae1-42b7-8836-6aaf88122861",
   "metadata": {},
   "outputs": [],
   "source": [
    "#267.72\n",
    "\n",
    "#plot the poincare section for the cusp represenation\n",
    "plot(df, vecs, c[i][j], j, n_squares, index, test = false)"
   ]
  },
  {
   "cell_type": "code",
   "execution_count": null,
   "id": "85428c62-9c24-4132-a9ae-f7c3056f3304",
   "metadata": {},
   "outputs": [],
   "source": [
    "# plot the pdf for this cusp\n",
    "sec_list = sec_setup(df, dx_y)\n",
    "secs = sec_comp(sec_list, dx)\n",
    "times = time_comp(secs)\n",
    "pdf(list(df[\"time\"]), times, dx)\n",
    "plt.savefig(os.path.join(\"results\", f\"{n_squares} - {index}\", f\"pdf {j}\"))"
   ]
  },
  {
   "cell_type": "code",
   "execution_count": null,
   "id": "f1dd46da-25d3-45f3-974d-742291af0309",
   "metadata": {},
   "outputs": [],
   "source": [
    "# For an STS, repeatedly run the poincare_details function and get the\n",
    "# different representations of cusps and other values and store them in lists\n",
    "# takes awhile\n",
    "a = []\n",
    "c = []\n",
    "e = []\n",
    "g = []\n",
    "for i in range(100):\n",
    "    try:\n",
    "        alphas, Cs, C_invs, eigs, Ms, generators, eigenvecs = poincare_details(\n",
    "            perm, vecs0)\n",
    "    except:\n",
    "        continue\n",
    "    a.append(alphas)\n",
    "    c.append(Cs)\n",
    "    e.append(eigenvecs)\n",
    "    g.append(generators)"
   ]
  },
  {
   "cell_type": "code",
   "execution_count": null,
   "id": "a76a0e2e-de25-4676-be0f-8bab63bdf0d0",
   "metadata": {},
   "outputs": [],
   "source": [
    "# store these values in case kernel crashes\n",
    "%store a\n",
    "%store c\n",
    "%store e\n",
    "%store g"
   ]
  }
 ],
 "metadata": {
  "kernelspec": {
   "display_name": "SageMath 10.2",
   "language": "sage",
   "name": "SageMath-10.2"
  },
  "language_info": {
   "codemirror_mode": {
    "name": "ipython",
    "version": 3
   },
   "file_extension": ".py",
   "mimetype": "text/x-python",
   "name": "python",
   "nbconvert_exporter": "python",
   "pygments_lexer": "ipython3",
   "version": "3.11.1"
  }
 },
 "nbformat": 4,
 "nbformat_minor": 5
}
