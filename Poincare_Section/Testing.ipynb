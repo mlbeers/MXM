{
 "cells": [
  {
   "cell_type": "code",
   "execution_count": 2,
   "id": "686f8b64-ed5a-45c4-ac88-4d7aa3d582b1",
   "metadata": {},
   "outputs": [],
   "source": [
    "import numpy as np\n",
    "from matplotlib import pyplot as plt\n",
    "import pandas as pd\n",
    "from flatsurf import *\n",
    "import sympy as sym\n",
    "import numpy as np\n",
    "from matplotlib import pyplot as plt\n",
    "import os\n",
    "import pwlf\n",
    "from sympy import Symbol\n",
    "from sympy import solve, lambdify\n",
    "from surface_dynamics.all import *\n",
    "import os\n",
    "from Poincare import *\n",
    "from Poincare import Section\n",
    "import math"
   ]
  },
  {
   "cell_type": "code",
   "execution_count": 3,
   "id": "48367d68-06f5-4f2f-b7c8-d7712cc43e94",
   "metadata": {},
   "outputs": [],
   "source": [
    "#Code from Sunrose\n",
    "D = OrigamiDatabase()\n",
    "q = D.query()\n",
    "qlist = q.list()\n",
    "\n",
    "def unit_hor_saddle(O):\n",
    "    count = 0\n",
    "    for vert in O.vertices():\n",
    "        tup = vert.up_right_tuple()\n",
    "        for i in tup:\n",
    "            for vert2 in O.vertices():\n",
    "                tup2 = vert2.up_right_tuple()\n",
    "                if O.r()(i) in tup2:\n",
    "                    return True\n",
    "    return False\n",
    "\n",
    "def is_unobstructed(O):\n",
    "    cusp_reps = O.teichmueller_curve().cusp_representatives()\n",
    "    for item in cusp_reps:\n",
    "        if not unit_hor_saddle(item[0]):\n",
    "            return False\n",
    "    return True\n",
    "\n",
    "def obstructed(n, **kwargs):\n",
    "    obstructed = []\n",
    "    count_obstructed = 0\n",
    "    p = D.query(nb_squares=n, **kwargs)\n",
    "    for item in p:\n",
    "        if not is_unobstructed(item):\n",
    "            obstructed.append(item)\n",
    "            count_obstructed+= item.teichmueller_curve().orbit_graph().num_verts()\n",
    "    return (obstructed, count_obstructed)"
   ]
  },
  {
   "cell_type": "code",
   "execution_count": 4,
   "id": "c92f053c-c8a3-4592-9071-040594af1e30",
   "metadata": {},
   "outputs": [],
   "source": [
    "def vectors(perm, length = 200):\n",
    "    a = str(perm)\n",
    "    h, v = a.split(\"\\n\")\n",
    "    S = SymmetricGroup(len(h))\n",
    "    T = translation_surfaces.origami(S(h), S(v))\n",
    "    T = T.erase_marked_points()\n",
    "    sc_list = T.saddle_connections(length)\n",
    "    slopes_all = []\n",
    "    for item in sc_list:\n",
    "        vec = item.holonomy().n()\n",
    "        direction = item.direction\n",
    "        if vec not in slopes_all:\n",
    "            if vec[0] >= -length/20 and vec[0] <= length/20:\n",
    "                if vec[1] >= -length/20 and vec[1] <= length/20:\n",
    "                    slopes_all.append(item.holonomy().n())         \n",
    "    vecs = []\n",
    "    for vec in slopes_all:\n",
    "        item = np.array([[vec[0]],[vec[1]]])\n",
    "        vecs.append(item)\n",
    "    return vecs"
   ]
  },
  {
   "cell_type": "code",
   "execution_count": 5,
   "id": "5993f9e2-c25c-4cea-ae81-a19442d1196a",
   "metadata": {},
   "outputs": [],
   "source": [
    "def perms_list(n, **kwargs):\n",
    "    obstructed = []\n",
    "    p = D.query(nb_squares=n, **kwargs)\n",
    "    for item in p:\n",
    "        if not is_unobstructed(item):\n",
    "            obstructed.append(item)\n",
    "            for perm in item.teichmueller_curve():\n",
    "                obstructed.append(perm)\n",
    "    return obstructed"
   ]
  },
  {
   "cell_type": "code",
   "execution_count": 6,
   "id": "41d02c80-eb8b-4803-bc24-7b1a12de7760",
   "metadata": {},
   "outputs": [],
   "source": [
    "permutations = perms_list(6)"
   ]
  },
  {
   "cell_type": "code",
   "execution_count": 18,
   "id": "11a94633-69ce-46e1-ab8b-544a84b318a6",
   "metadata": {},
   "outputs": [
    {
     "ename": "KeyboardInterrupt",
     "evalue": "",
     "output_type": "error",
     "traceback": [
      "\u001b[0;31m---------------------------------------------------------------------------\u001b[0m",
      "\u001b[0;31mKeyboardInterrupt\u001b[0m                         Traceback (most recent call last)",
      "Cell \u001b[0;32mIn[18], line 5\u001b[0m\n\u001b[1;32m      3\u001b[0m perm \u001b[38;5;241m=\u001b[39m permutations[i]\n\u001b[1;32m      4\u001b[0m vecs \u001b[38;5;241m=\u001b[39m vectors(perm,Integer(\u001b[38;5;241m500\u001b[39m))\n\u001b[0;32m----> 5\u001b[0m \u001b[43mcomp\u001b[49m\u001b[43m(\u001b[49m\u001b[43mperm\u001b[49m\u001b[43m,\u001b[49m\u001b[43m \u001b[49m\u001b[43mvecs\u001b[49m\u001b[43m,\u001b[49m\u001b[43m \u001b[49m\u001b[43mInteger\u001b[49m\u001b[43m(\u001b[49m\u001b[38;5;241;43m6\u001b[39;49m\u001b[43m)\u001b[49m\u001b[43m,\u001b[49m\u001b[43m \u001b[49m\u001b[43mi\u001b[49m\u001b[43m)\u001b[49m\n",
      "File \u001b[0;32m~/Poincare.py:31\u001b[0m, in \u001b[0;36mcomp\u001b[0;34m(perm, vecs0, n_squares, index, dx, dx2)\u001b[0m\n\u001b[1;32m     29\u001b[0m prob_times \u001b[38;5;241m=\u001b[39m []\n\u001b[1;32m     30\u001b[0m vals \u001b[38;5;241m=\u001b[39m []\n\u001b[0;32m---> 31\u001b[0m alphas, Cs, C_invs, eigs, Ms, generators \u001b[38;5;241m=\u001b[39m poincare_details(perm, vecs0)\n\u001b[1;32m     32\u001b[0m \u001b[38;5;28;01mfor\u001b[39;00m i \u001b[38;5;129;01min\u001b[39;00m \u001b[38;5;28mrange\u001b[39m(\u001b[38;5;28mlen\u001b[39m(alphas)):\n\u001b[1;32m     33\u001b[0m     vecs, x_vals, m0, m1, y0 \u001b[38;5;241m=\u001b[39m setup(alphas[i], Cs[i], eigs[i], vecs0, dx)\n",
      "File \u001b[0;32m~/Poincare.py:247\u001b[0m, in \u001b[0;36mwinners\u001b[0;34m(vecs, x_vals, m0, m1, y0, dx)\u001b[0m\n\u001b[1;32m    245\u001b[0m check \u001b[38;5;241m=\u001b[39m \u001b[38;5;241m0\u001b[39m\n\u001b[1;32m    246\u001b[0m winner_slope \u001b[38;5;241m=\u001b[39m \u001b[38;5;28;01mNone\u001b[39;00m\n\u001b[0;32m--> 247\u001b[0m winner \u001b[38;5;241m=\u001b[39m \u001b[38;5;28;01mNone\u001b[39;00m\n\u001b[1;32m    248\u001b[0m Mab \u001b[38;5;241m=\u001b[39m np\u001b[38;5;241m.\u001b[39marray([[a, b], [\u001b[38;5;241m0\u001b[39m, \u001b[38;5;241m1\u001b[39m\u001b[38;5;241m/\u001b[39ma]])\n\u001b[1;32m    249\u001b[0m \u001b[38;5;28;01mfor\u001b[39;00m vec \u001b[38;5;129;01min\u001b[39;00m vecs:\n",
      "File \u001b[0;32msrc/cysignals/signals.pyx:310\u001b[0m, in \u001b[0;36mcysignals.signals.python_check_interrupt\u001b[0;34m()\u001b[0m\n",
      "\u001b[0;31mKeyboardInterrupt\u001b[0m: "
     ]
    }
   ],
   "source": [
    "for i in range(len(permutations)):\n",
    "    n_squares = 6\n",
    "    perm = permutations[i]\n",
    "    vecs = vectors(perm,500)\n",
    "    comp(perm, vecs, 6, i)"
   ]
  },
  {
   "cell_type": "code",
   "execution_count": 8,
   "id": "913c25a2-701b-4d2a-916b-a147fc15f5ad",
   "metadata": {},
   "outputs": [
    {
     "data": {
      "image/png": "[encoded data removed]",
      "text/plain": [
       "Graphics object consisting of 64 graphics primitives"
      ]
     },
     "metadata": {},
     "output_type": "display_data"
    }
   ],
   "source": [
    "perm = permutations[3]\n",
    "vecs0 = vectors(perm, 6000)\n",
    "n_squares = 5\n",
    "index = 4\n",
    "dx = 0.002\n",
    "alphas, Cs, C_invs, eigs, Ms, generators, eigenvecs = poincare_details(perm, vecs0)\n",
    "perm.show()"
   ]
  },
  {
   "cell_type": "code",
   "execution_count": 9,
   "id": "64b36f87-88b1-4d22-81b5-6b162c878248",
   "metadata": {},
   "outputs": [
    {
     "data": {
      "text/plain": [
       "[3.0, 148.0, 424.0, 125.0, 260.0, 204.0, 30.0, 12.0]"
      ]
     },
     "execution_count": 9,
     "metadata": {},
     "output_type": "execute_result"
    }
   ],
   "source": [
    "alphas"
   ]
  },
  {
   "cell_type": "code",
   "execution_count": 10,
   "id": "a41e8e17-0e62-457f-bd68-9373501315a6",
   "metadata": {},
   "outputs": [
    {
     "name": "stdout",
     "output_type": "stream",
     "text": [
      "12484\n",
      "6242\n"
     ]
    },
    {
     "ename": "KeyboardInterrupt",
     "evalue": "",
     "output_type": "error",
     "traceback": [
      "\u001b[0;31m---------------------------------------------------------------------------\u001b[0m",
      "\u001b[0;31mKeyboardInterrupt\u001b[0m                         Traceback (most recent call last)",
      "Cell \u001b[0;32mIn[10], line 3\u001b[0m\n\u001b[1;32m      1\u001b[0m i \u001b[38;5;241m=\u001b[39m Integer(\u001b[38;5;241m1\u001b[39m)\n\u001b[1;32m      2\u001b[0m vecs, x_vals, m0, m1, y0, dx_y \u001b[38;5;241m=\u001b[39m setup(alphas[i], Cs[i], eigs[i], vecs0, dx)\n\u001b[0;32m----> 3\u001b[0m df \u001b[38;5;241m=\u001b[39m \u001b[43mwinners\u001b[49m\u001b[43m(\u001b[49m\u001b[43mvecs\u001b[49m\u001b[43m,\u001b[49m\u001b[43m \u001b[49m\u001b[43mx_vals\u001b[49m\u001b[43m,\u001b[49m\u001b[43m \u001b[49m\u001b[43mm0\u001b[49m\u001b[43m,\u001b[49m\u001b[43m \u001b[49m\u001b[43mm1\u001b[49m\u001b[43m,\u001b[49m\u001b[43m \u001b[49m\u001b[43my0\u001b[49m\u001b[43m,\u001b[49m\u001b[43m \u001b[49m\u001b[43mdx\u001b[49m\u001b[43m,\u001b[49m\u001b[43m \u001b[49m\u001b[43mdx_y\u001b[49m\u001b[43m)\u001b[49m\n\u001b[1;32m      4\u001b[0m plot(df, vecs, Cs[i], Integer(\u001b[38;5;241m1\u001b[39m), n_squares, index, test \u001b[38;5;241m=\u001b[39m \u001b[38;5;28;01mTrue\u001b[39;00m)\n",
      "File \u001b[0;32m~/Poincare.py:284\u001b[0m, in \u001b[0;36mwinners\u001b[0;34m(vecs, x_vals, m0, m1, y0, dx, dx_y)\u001b[0m\n\u001b[1;32m    282\u001b[0m saddle_dict[\u001b[38;5;124m\"\u001b[39m\u001b[38;5;124mvec\u001b[39m\u001b[38;5;124m\"\u001b[39m]\u001b[38;5;241m.\u001b[39mappend(winner)\n\u001b[1;32m    283\u001b[0m \u001b[38;5;28;01mfor\u001b[39;00m i \u001b[38;5;129;01min\u001b[39;00m \u001b[38;5;28mrange\u001b[39m(\u001b[38;5;28mlen\u001b[39m(vecs)):\n\u001b[0;32m--> 284\u001b[0m     \u001b[38;5;28;01mif\u001b[39;00m \u001b[43mnp\u001b[49m\u001b[38;5;241;43m.\u001b[39;49m\u001b[43marray_equal\u001b[49m\u001b[43m(\u001b[49m\u001b[43mwinner\u001b[49m\u001b[43m,\u001b[49m\u001b[43m \u001b[49m\u001b[43mvecs\u001b[49m\u001b[43m[\u001b[49m\u001b[43mi\u001b[49m\u001b[43m]\u001b[49m\u001b[43m)\u001b[49m:\n\u001b[1;32m    285\u001b[0m         check \u001b[38;5;241m+\u001b[39m\u001b[38;5;241m=\u001b[39m \u001b[38;5;241m1\u001b[39m\n\u001b[1;32m    286\u001b[0m         saddle_dict[\u001b[38;5;124m\"\u001b[39m\u001b[38;5;124mlab\u001b[39m\u001b[38;5;124m\"\u001b[39m]\u001b[38;5;241m.\u001b[39mappend(i)\n",
      "File \u001b[0;32m~/mambaforge/envs/flatsurf/lib/python3.9/site-packages/numpy/core/numeric.py:2432\u001b[0m, in \u001b[0;36marray_equal\u001b[0;34m(a1, a2, equal_nan)\u001b[0m\n\u001b[1;32m   2378\u001b[0m \u001b[38;5;129m@array_function_dispatch\u001b[39m(_array_equal_dispatcher)\n\u001b[1;32m   2379\u001b[0m \u001b[38;5;28;01mdef\u001b[39;00m \u001b[38;5;21marray_equal\u001b[39m(a1, a2, equal_nan\u001b[38;5;241m=\u001b[39m\u001b[38;5;28;01mFalse\u001b[39;00m):\n\u001b[1;32m   2380\u001b[0m \u001b[38;5;250m    \u001b[39m\u001b[38;5;124;03m\"\"\"\u001b[39;00m\n\u001b[1;32m   2381\u001b[0m \u001b[38;5;124;03m    True if two arrays have the same shape and elements, False otherwise.\u001b[39;00m\n\u001b[1;32m   2382\u001b[0m \n\u001b[0;32m   (...)\u001b[0m\n\u001b[1;32m   2430\u001b[0m \u001b[38;5;124;03m    True\u001b[39;00m\n\u001b[1;32m   2431\u001b[0m \u001b[38;5;124;03m    \"\"\"\u001b[39;00m\n\u001b[0;32m-> 2432\u001b[0m     \u001b[38;5;28;01mtry\u001b[39;00m:\n\u001b[1;32m   2433\u001b[0m         a1, a2 \u001b[38;5;241m=\u001b[39m asarray(a1), asarray(a2)\n\u001b[1;32m   2434\u001b[0m     \u001b[38;5;28;01mexcept\u001b[39;00m \u001b[38;5;167;01mException\u001b[39;00m:\n",
      "File \u001b[0;32msrc/cysignals/signals.pyx:310\u001b[0m, in \u001b[0;36mcysignals.signals.python_check_interrupt\u001b[0;34m()\u001b[0m\n",
      "\u001b[0;31mKeyboardInterrupt\u001b[0m: "
     ]
    }
   ],
   "source": [
    "i = 1\n",
    "vecs, x_vals, m0, m1, y0, dx_y = setup(alphas[i], Cs[i], eigs[i], vecs0, dx)\n",
    "df = winners(vecs, x_vals, m0, m1, y0, dx, dx_y)\n",
    "plot(df, vecs, Cs[i], 1, n_squares, index, test = True)"
   ]
  },
  {
   "cell_type": "code",
   "execution_count": null,
   "id": "4a2411c8-f8bb-4e93-9e60-9556ab3ab4c2",
   "metadata": {},
   "outputs": [],
   "source": [
    "df[\"lab\"].unique()"
   ]
  },
  {
   "cell_type": "code",
   "execution_count": null,
   "id": "6eba71ad-8147-4bd6-8bb3-fe7558c35abb",
   "metadata": {},
   "outputs": [],
   "source": [
    "df"
   ]
  },
  {
   "cell_type": "code",
   "execution_count": 11,
   "id": "c3332878-4d1a-44dc-92de-9bf8702d903d",
   "metadata": {},
   "outputs": [
    {
     "ename": "ValueError",
     "evalue": "Section has more than 2 points for a given 'x'",
     "output_type": "error",
     "traceback": [
      "\u001b[0;31m---------------------------------------------------------------------------\u001b[0m",
      "\u001b[0;31mValueError\u001b[0m                                Traceback (most recent call last)",
      "Cell \u001b[0;32mIn[11], line 1\u001b[0m\n\u001b[0;32m----> 1\u001b[0m sec_list \u001b[38;5;241m=\u001b[39m \u001b[43msec_setup\u001b[49m\u001b[43m(\u001b[49m\u001b[43mdf\u001b[49m\u001b[43m,\u001b[49m\u001b[43m \u001b[49m\u001b[43mdx\u001b[49m\u001b[43m)\u001b[49m\n\u001b[1;32m      2\u001b[0m secs \u001b[38;5;241m=\u001b[39m sec_comp(sec_list,dx)\n\u001b[1;32m      3\u001b[0m pdf(\u001b[38;5;28mlist\u001b[39m(df[\u001b[38;5;124m\"\u001b[39m\u001b[38;5;124mtime\u001b[39m\u001b[38;5;124m\"\u001b[39m]), time_comp(secs), dx, test \u001b[38;5;241m=\u001b[39m \u001b[38;5;28;01mTrue\u001b[39;00m)\n",
      "File \u001b[0;32m~/Poincare.py:381\u001b[0m, in \u001b[0;36msec_setup\u001b[0;34m(df, dx_y)\u001b[0m\n\u001b[1;32m    379\u001b[0m y_bottom \u001b[38;5;241m=\u001b[39m \u001b[38;5;28mmin\u001b[39m(df1[df1[\u001b[38;5;124m\"\u001b[39m\u001b[38;5;124mx\u001b[39m\u001b[38;5;124m\"\u001b[39m] \u001b[38;5;241m==\u001b[39m x][\u001b[38;5;124m\"\u001b[39m\u001b[38;5;124my\u001b[39m\u001b[38;5;124m\"\u001b[39m])\n\u001b[1;32m    380\u001b[0m \u001b[38;5;28;01mif\u001b[39;00m \u001b[38;5;28mlen\u001b[39m(df1[df1[\u001b[38;5;124m\"\u001b[39m\u001b[38;5;124mx\u001b[39m\u001b[38;5;124m\"\u001b[39m] \u001b[38;5;241m==\u001b[39m x][\u001b[38;5;124m\"\u001b[39m\u001b[38;5;124my\u001b[39m\u001b[38;5;124m\"\u001b[39m]) \u001b[38;5;241m<\u001b[39m (y_top \u001b[38;5;241m-\u001b[39m y_bottom)\u001b[38;5;241m/\u001b[39mdx_y:\n\u001b[0;32m--> 381\u001b[0m     \u001b[38;5;28;01mraise\u001b[39;00m \u001b[38;5;167;01mValueError\u001b[39;00m(\u001b[38;5;124m\"\u001b[39m\u001b[38;5;124mSection has more than 2 points for a given \u001b[39m\u001b[38;5;124m'\u001b[39m\u001b[38;5;124mx\u001b[39m\u001b[38;5;124m'\u001b[39m\u001b[38;5;124m\"\u001b[39m)\n\u001b[1;32m    382\u001b[0m y_tops\u001b[38;5;241m.\u001b[39mappend(y_top)\n\u001b[1;32m    383\u001b[0m y_bottoms\u001b[38;5;241m.\u001b[39mappend(y_bottom)\n",
      "\u001b[0;31mValueError\u001b[0m: Section has more than 2 points for a given 'x'"
     ]
    }
   ],
   "source": [
    "sec_list = sec_setup(df, dx)\n",
    "secs = sec_comp(sec_list,dx)\n",
    "pdf(list(df[\"time\"]), time_comp(secs), dx, test = True)"
   ]
  },
  {
   "cell_type": "code",
   "execution_count": 12,
   "id": "b303c6d6-dc93-4f53-91fe-12c32cdce654",
   "metadata": {},
   "outputs": [],
   "source": [
    "vecs0 = vectors(perm, 200)"
   ]
  },
  {
   "cell_type": "code",
   "execution_count": 29,
   "id": "1d7aaa4a-8abb-43a2-9f6b-46407ec9c821",
   "metadata": {},
   "outputs": [
    {
     "name": "stdout",
     "output_type": "stream",
     "text": [
      "125.25050100200735\n",
      "True\n"
     ]
    }
   ],
   "source": [
    "a = 0.998\n",
    "b = -2.986\n",
    "dx = 0.002\n",
    "vecs = np.array([[3],[1]]), np.array([[9],[3]])\n",
    "winner_slope = None\n",
    "winner = None\n",
    "Mab = np.array([[a, b], [0, 1/a]])\n",
    "for vec in vecs:\n",
    "    new = Mab@vec\n",
    "    if float(new[0][0]) == 0:\n",
    "        continue\n",
    "    x = float(new[0][0])\n",
    "    y = float(new[1][0])\n",
    "    if y/x <= 0:\n",
    "        continue\n",
    "    if x <= 1 and x > 0:\n",
    "        if winner_slope == None:\n",
    "            winner_slope = y/x\n",
    "            print(winner_slope)\n",
    "            winner = vec\n",
    "            continue\n",
    "        print(abs(y/x - winner_slope) <= dx/10)\n",
    "        if abs(y/x - winner_slope) <= dx/10:\n",
    "            if vec[0][0] < winner[0][0] or vec[1][0] < winner[1][0]:\n",
    "                winner = vec\n",
    "                continue\n",
    "        elif y/x < winner_slope:\n",
    "            winner_slope = y/x\n",
    "            winner = vec\n",
    "            print(winner_slope)\n",
    "            continue"
   ]
  },
  {
   "cell_type": "code",
   "execution_count": 30,
   "id": "1b304209-2113-4a1d-a3b6-6c29cc8fa508",
   "metadata": {},
   "outputs": [
    {
     "data": {
      "text/plain": [
       "array([[3],\n",
       "       [1]])"
      ]
     },
     "execution_count": 30,
     "metadata": {},
     "output_type": "execute_result"
    }
   ],
   "source": [
    "winner"
   ]
  },
  {
   "cell_type": "code",
   "execution_count": 16,
   "id": "1b55f76e-43dc-41e0-9acb-e656b5eb8d9b",
   "metadata": {},
   "outputs": [
    {
     "data": {
      "text/plain": [
       "125.25050100200505"
      ]
     },
     "execution_count": 16,
     "metadata": {},
     "output_type": "execute_result"
    }
   ],
   "source": []
  },
  {
   "cell_type": "code",
   "execution_count": null,
   "id": "8e0dc1aa-8219-4dc9-8afa-3f83d2edc4c0",
   "metadata": {},
   "outputs": [],
   "source": []
  }
 ],
 "metadata": {
  "kernelspec": {
   "display_name": "SageMath 10.0",
   "language": "sage",
   "name": "sagemath"
  },
  "language_info": {
   "codemirror_mode": {
    "name": "ipython",
    "version": 3
   },
   "file_extension": ".py",
   "mimetype": "text/x-python",
   "name": "python",
   "nbconvert_exporter": "python",
   "pygments_lexer": "ipython3",
   "version": "3.9.16"
  }
 },
 "nbformat": 4,
 "nbformat_minor": 5
}
