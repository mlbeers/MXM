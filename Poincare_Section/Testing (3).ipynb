{
 "cells": [
  {
   "cell_type": "code",
   "execution_count": 1,
   "id": "686f8b64-ed5a-45c4-ac88-4d7aa3d582b1",
   "metadata": {},
   "outputs": [],
   "source": [
    "import numpy as np\n",
    "from matplotlib import pyplot as plt\n",
    "import pandas as pd\n",
    "from flatsurf import *\n",
    "import numpy as np\n",
    "from matplotlib import pyplot as plt\n",
    "import os\n",
    "import pwlf\n",
    "import sympy as sym\n",
    "from sympy import Symbol\n",
    "from sympy import solve, lambdify\n",
    "import os\n",
    "from Poincare import *\n",
    "from Poincare import Section\n",
    "import math\n",
    "from surface_dynamics.all import *\n",
    "from time import time"
   ]
  },
  {
   "cell_type": "code",
   "execution_count": 2,
   "id": "48367d68-06f5-4f2f-b7c8-d7712cc43e94",
   "metadata": {},
   "outputs": [],
   "source": [
    "#Code from Sunrose\n",
    "D = OrigamiDatabase()\n",
    "q = D.query()\n",
    "qlist = q.list()\n",
    "\n",
    "def unit_hor_saddle(O):\n",
    "    count = 0\n",
    "    for vert in O.vertices():\n",
    "        tup = vert.up_right_tuple()\n",
    "        for i in tup:\n",
    "            for vert2 in O.vertices():\n",
    "                tup2 = vert2.up_right_tuple()\n",
    "                if O.r()(i) in tup2:\n",
    "                    return True\n",
    "    return False\n",
    "\n",
    "def is_unobstructed(O):\n",
    "    cusp_reps = O.teichmueller_curve().cusp_representatives()\n",
    "    for item in cusp_reps:\n",
    "        if not unit_hor_saddle(item[0]):\n",
    "            return False\n",
    "    return True\n",
    "\n",
    "def obstructed(n, **kwargs):\n",
    "    obstructed = []\n",
    "    count_obstructed = 0\n",
    "    p = D.query(nb_squares=n, **kwargs)\n",
    "    for item in p:\n",
    "        if not is_unobstructed(item):\n",
    "            obstructed.append(item)\n",
    "            count_obstructed+= item.teichmueller_curve().orbit_graph().num_verts()\n",
    "    return (obstructed, count_obstructed)"
   ]
  },
  {
   "cell_type": "code",
   "execution_count": 3,
   "id": "c92f053c-c8a3-4592-9071-040594af1e30",
   "metadata": {},
   "outputs": [],
   "source": [
    "def vectors(perm, length = 200):\n",
    "    a = str(perm)\n",
    "    h, v = a.split(\"\\n\")\n",
    "    S = SymmetricGroup(len(h))\n",
    "    T = translation_surfaces.origami(S(h), S(v))\n",
    "    T = T.erase_marked_points()\n",
    "    sc_list = T.saddle_connections(length)\n",
    "    slopes_all = []\n",
    "    for item in sc_list:\n",
    "        vec = item.holonomy().n()\n",
    "        direction = item.direction\n",
    "        if vec not in slopes_all:\n",
    "            if vec[0] >= -length/20 and vec[0] <= length/20:\n",
    "                if vec[1] >= -length/20 and vec[1] <= length/20:\n",
    "                    slopes_all.append(item.holonomy().n())         \n",
    "    vecs = []\n",
    "    for vec in slopes_all:\n",
    "        item = np.array([[vec[0]],[vec[1]]])\n",
    "        vecs.append(item)\n",
    "    return vecs"
   ]
  },
  {
   "cell_type": "code",
   "execution_count": 4,
   "id": "5993f9e2-c25c-4cea-ae81-a19442d1196a",
   "metadata": {},
   "outputs": [],
   "source": [
    "def perms_list(n, **kwargs):\n",
    "    obstructed = []\n",
    "    p = D.query(nb_squares=n, **kwargs)\n",
    "    for item in p:\n",
    "        if not is_unobstructed(item):\n",
    "            obstructed.append(item)\n",
    "            for perm in item.teichmueller_curve():\n",
    "                obstructed.append(perm)\n",
    "    return obstructed"
   ]
  },
  {
   "cell_type": "code",
   "execution_count": 5,
   "id": "73524e65-e0d4-42bb-9151-44b894f68850",
   "metadata": {},
   "outputs": [
    {
     "data": {
      "text/plain": [
       "92"
      ]
     },
     "execution_count": 5,
     "metadata": {},
     "output_type": "execute_result"
    }
   ],
   "source": [
    "permutations = perms_list(7)\n",
    "len(permutations)"
   ]
  },
  {
   "cell_type": "code",
   "execution_count": null,
   "id": "f59723bc-3020-4f4c-b3e4-cdf9b65baba2",
   "metadata": {},
   "outputs": [],
   "source": [
    "for i in range(len(permutations)):\n",
    "    n_squares = 7\n",
    "    perm = permutations[i]\n",
    "    vecs = vectors(perm,30000)\n",
    "    try:\n",
    "        comp(perm, vecs, 7, i)\n",
    "    except:\n",
    "        continue"
   ]
  },
  {
   "cell_type": "code",
   "execution_count": 6,
   "id": "913c25a2-701b-4d2a-916b-a147fc15f5ad",
   "metadata": {},
   "outputs": [],
   "source": [
    "perm = permutations[0]\n",
    "vecs0 = vectors(perm, 6000)\n",
    "dx = 0.001"
   ]
  },
  {
   "cell_type": "code",
   "execution_count": 7,
   "id": "8b7e440a-153a-4d6e-b9d8-3281431399fa",
   "metadata": {},
   "outputs": [
    {
     "name": "stdout",
     "output_type": "stream",
     "text": [
      "[1, 1, 1, 1, 1, 1, 1, 1, 1, 1]\n",
      "[array([[1],\n",
      "       [0]]), array([[ 1.        ],\n",
      "       [-3.89855072]]), array([[ 1.  ],\n",
      "       [-3.85]]), array([[ 1.   ],\n",
      "       [-3.875]]), array([[0],\n",
      "       [1]]), array([[ 1.        ],\n",
      "       [-3.66666667]]), array([[ 1. ],\n",
      "       [-3.9]]), array([[ 1],\n",
      "       [-4]]), array([[ 1. ],\n",
      "       [-3.8]]), array([[ 1.        ],\n",
      "       [-3.85714286]])]\n",
      "No saddle vec for eigenvector [[ 1.        ]\n",
      " [-3.89855072]]\n",
      "[1, 1, 1, 1, 1, 1, 1, 1, 1, 1]\n",
      "[array([[1],\n",
      "       [0]]), array([[ 1.        ],\n",
      "       [-4.46666667]]), array([[ 1.        ],\n",
      "       [-3.88636364]]), array([[ 1.   ],\n",
      "       [-3.875]]), array([[0],\n",
      "       [1]]), array([[ 1],\n",
      "       [-3]]), array([[ 1. ],\n",
      "       [-4.5]]), array([[ 1],\n",
      "       [-4]]), array([[ 1],\n",
      "       [-5]]), array([[ 1.        ],\n",
      "       [-3.88888889]])]\n",
      "No saddle vec for eigenvector [[ 1.        ]\n",
      " [-3.88636364]]\n",
      "[1, 1, 1, 1, 1, 1, 1, 1, 1, 1]\n",
      "[array([[1],\n",
      "       [0]]), array([[ 1.        ],\n",
      "       [-0.74193548]]), array([[ 1.        ],\n",
      "       [-0.72727273]]), array([[ 1. ],\n",
      "       [-0.7]]), array([[0],\n",
      "       [1]]), array([[ 1.        ],\n",
      "       [-0.83050847]]), array([[ 1.  ],\n",
      "       [-0.75]]), array([[ 1.        ],\n",
      "       [-0.83333333]]), array([[ 1],\n",
      "       [-1]]), array([[ 1.        ],\n",
      "       [-0.71428571]])]\n",
      "[array([[1.],\n",
      "       [0.]]), array([[ 31.],\n",
      "       [-23.]]), array([[11.],\n",
      "       [-8.]]), array([[10.],\n",
      "       [-7.]]), array([[0.],\n",
      "       [1.]]), array([[ 59.],\n",
      "       [-49.]]), array([[ 8.],\n",
      "       [-6.]]), array([[ 6.],\n",
      "       [-5.]]), array([[ 1.],\n",
      "       [-1.]]), array([[ 7.],\n",
      "       [-5.]])]\n"
     ]
    },
    {
     "data": {
      "image/png": "[encoded data removed]",
      "text/plain": [
       "Graphics object consisting of 71 graphics primitives"
      ]
     },
     "metadata": {},
     "output_type": "display_data"
    }
   ],
   "source": [
    "for i in range(20):\n",
    "    try:\n",
    "        alphas, Cs, C_invs, eigs, Ms, generators, eigenvecs = poincare_details(perm, vecs0)\n",
    "        break\n",
    "    except:\n",
    "        continue\n",
    "perm.show()"
   ]
  },
  {
   "cell_type": "code",
   "execution_count": 8,
   "id": "64b36f87-88b1-4d22-81b5-6b162c878248",
   "metadata": {},
   "outputs": [
    {
     "data": {
      "text/plain": [
       "[2.0, 1490.0, 740.0, 298.0, 6.0, 17646.0, 250.0, 732.0, 14.0, 518.0]"
      ]
     },
     "execution_count": 8,
     "metadata": {},
     "output_type": "execute_result"
    }
   ],
   "source": [
    "alphas"
   ]
  },
  {
   "cell_type": "code",
   "execution_count": 15,
   "id": "a41e8e17-0e62-457f-bd68-9373501315a6",
   "metadata": {},
   "outputs": [
    {
     "name": "stdout",
     "output_type": "stream",
     "text": [
      "11110\n",
      "5555\n"
     ]
    },
    {
     "ename": "ValueError",
     "evalue": "No winner",
     "output_type": "error",
     "traceback": [
      "\u001b[0;31m---------------------------------------------------------------------------\u001b[0m",
      "\u001b[0;31mValueError\u001b[0m                                Traceback (most recent call last)",
      "Cell \u001b[0;32mIn[15], line 6\u001b[0m\n\u001b[1;32m      4\u001b[0m vecs, x_vals, m0, m1, x0, y0, dx_y \u001b[38;5;241m=\u001b[39m setup(alphas[i], Cs[i], eigs[i], vecs0, dx)\n\u001b[1;32m      5\u001b[0m t1 \u001b[38;5;241m=\u001b[39m time()\n\u001b[0;32m----> 6\u001b[0m df \u001b[38;5;241m=\u001b[39m \u001b[43mwinners\u001b[49m\u001b[43m(\u001b[49m\u001b[43mvecs\u001b[49m\u001b[43m,\u001b[49m\u001b[43m \u001b[49m\u001b[43mx_vals\u001b[49m\u001b[43m,\u001b[49m\u001b[43m \u001b[49m\u001b[43mm0\u001b[49m\u001b[43m,\u001b[49m\u001b[43m \u001b[49m\u001b[43mm1\u001b[49m\u001b[43m,\u001b[49m\u001b[43m \u001b[49m\u001b[43my0\u001b[49m\u001b[43m,\u001b[49m\u001b[43m \u001b[49m\u001b[43mdx\u001b[49m\u001b[43m,\u001b[49m\u001b[43m \u001b[49m\u001b[43mdx_y\u001b[49m\u001b[43m)\u001b[49m\n\u001b[1;32m      7\u001b[0m t2 \u001b[38;5;241m=\u001b[39m time()\n\u001b[1;32m      8\u001b[0m \u001b[38;5;28mprint\u001b[39m(t2\u001b[38;5;241m-\u001b[39mt1)\n",
      "File \u001b[0;32m~/Poincare.py:287\u001b[0m, in \u001b[0;36mwinners\u001b[0;34m(vecs, x_vals, m0, m1, y0, dx, dx_y)\u001b[0m\n\u001b[1;32m    284\u001b[0m     winners\u001b[38;5;241m.\u001b[39mappend(winner)\n\u001b[1;32m    286\u001b[0m \u001b[38;5;28;01mif\u001b[39;00m \u001b[38;5;28mtype\u001b[39m(winners[\u001b[38;5;241m0\u001b[39m]) \u001b[38;5;241m==\u001b[39m \u001b[38;5;28mtype\u001b[39m(\u001b[38;5;28;01mNone\u001b[39;00m):\n\u001b[0;32m--> 287\u001b[0m     \u001b[38;5;28;01mraise\u001b[39;00m \u001b[38;5;167;01mValueError\u001b[39;00m(\u001b[38;5;124m\"\u001b[39m\u001b[38;5;124mNo winner\u001b[39m\u001b[38;5;124m\"\u001b[39m)\n\u001b[1;32m    288\u001b[0m possible_vecs1 \u001b[38;5;241m=\u001b[39m np\u001b[38;5;241m.\u001b[39munique(winners, axis\u001b[38;5;241m=\u001b[39m\u001b[38;5;241m0\u001b[39m)\n\u001b[1;32m    289\u001b[0m \u001b[38;5;28;01mfor\u001b[39;00m item \u001b[38;5;129;01min\u001b[39;00m possible_vecs1:\n",
      "\u001b[0;31mValueError\u001b[0m: No winner"
     ]
    }
   ],
   "source": [
    "i = 2\n",
    "n_squares = 7\n",
    "index = 0\n",
    "vecs, x_vals, m0, m1, x0, y0, dx_y = setup(alphas[i], Cs[i], eigs[i], vecs0, dx)\n",
    "t1 = time()\n",
    "df = winners(vecs, x_vals, m0, m1, y0, dx, dx_y)\n",
    "t2 = time()\n",
    "print(t2-t1)"
   ]
  },
  {
   "cell_type": "code",
   "execution_count": null,
   "id": "61887807-b58f-4c4a-8903-da7ce9fe54ba",
   "metadata": {},
   "outputs": [],
   "source": [
    "plot(df, vecs, Cs[i], 1, n_squares, index, test = True)"
   ]
  },
  {
   "cell_type": "code",
   "execution_count": null,
   "id": "0acf131e-bae8-4040-ae3e-f993a506f5cc",
   "metadata": {},
   "outputs": [],
   "source": [
    "sec_list = sec_setup(df, dx_y)\n",
    "secs = sec_comp(sec_list, dx)\n",
    "times = time_comp(secs)\n",
    "pdf(list(df[\"time\"]), times, dx)"
   ]
  },
  {
   "cell_type": "code",
   "execution_count": 9,
   "id": "7d0eadc0-3c57-433e-861d-a064470eac2a",
   "metadata": {},
   "outputs": [
    {
     "data": {
      "text/plain": [
       "231.66317488799075"
      ]
     },
     "execution_count": 9,
     "metadata": {},
     "output_type": "execute_result"
    }
   ],
   "source": [
    "54 * 2*math.pi**(2/3)"
   ]
  },
  {
   "cell_type": "code",
   "execution_count": 15,
   "id": "c161a3b5-198d-491b-9d11-2e6327caa8d3",
   "metadata": {},
   "outputs": [
    {
     "data": {
      "text/html": [
       "<div>\n",
       "<style scoped>\n",
       "    .dataframe tbody tr th:only-of-type {\n",
       "        vertical-align: middle;\n",
       "    }\n",
       "\n",
       "    .dataframe tbody tr th {\n",
       "        vertical-align: top;\n",
       "    }\n",
       "\n",
       "    .dataframe thead th {\n",
       "        text-align: right;\n",
       "    }\n",
       "</style>\n",
       "<table border=\"1\" class=\"dataframe\">\n",
       "  <thead>\n",
       "    <tr style=\"text-align: right;\">\n",
       "      <th></th>\n",
       "      <th>x</th>\n",
       "      <th>y</th>\n",
       "      <th>lab</th>\n",
       "      <th>vec</th>\n",
       "      <th>time</th>\n",
       "    </tr>\n",
       "  </thead>\n",
       "  <tbody>\n",
       "  </tbody>\n",
       "</table>\n",
       "</div>"
      ],
      "text/plain": [
       "Empty DataFrame\n",
       "Columns: [x, y, lab, vec, time]\n",
       "Index: []"
      ]
     },
     "execution_count": 15,
     "metadata": {},
     "output_type": "execute_result"
    }
   ],
   "source": [
    "df[df[\"lab\"] != 0]"
   ]
  },
  {
   "cell_type": "code",
   "execution_count": 12,
   "id": "b4d0d9ec-9f8d-48e4-be4f-7a7b0be56374",
   "metadata": {},
   "outputs": [
    {
     "data": {
      "text/html": [
       "<div>\n",
       "<style scoped>\n",
       "    .dataframe tbody tr th:only-of-type {\n",
       "        vertical-align: middle;\n",
       "    }\n",
       "\n",
       "    .dataframe tbody tr th {\n",
       "        vertical-align: top;\n",
       "    }\n",
       "\n",
       "    .dataframe thead th {\n",
       "        text-align: right;\n",
       "    }\n",
       "</style>\n",
       "<table border=\"1\" class=\"dataframe\">\n",
       "  <thead>\n",
       "    <tr style=\"text-align: right;\">\n",
       "      <th></th>\n",
       "      <th>x</th>\n",
       "      <th>y</th>\n",
       "      <th>lab</th>\n",
       "      <th>vec</th>\n",
       "      <th>time</th>\n",
       "    </tr>\n",
       "  </thead>\n",
       "  <tbody>\n",
       "    <tr>\n",
       "      <th>0</th>\n",
       "      <td>0.002</td>\n",
       "      <td>2.251586e+06</td>\n",
       "      <td>0</td>\n",
       "      <td>[[0.9999980497281841], [4.4324268547862866e-07]]</td>\n",
       "      <td>2.216215e-04</td>\n",
       "    </tr>\n",
       "    <tr>\n",
       "      <th>1</th>\n",
       "      <td>0.003</td>\n",
       "      <td>2.249328e+06</td>\n",
       "      <td>0</td>\n",
       "      <td>[[0.9999980497281841], [4.4324268547862866e-07]]</td>\n",
       "      <td>1.477478e-04</td>\n",
       "    </tr>\n",
       "    <tr>\n",
       "      <th>2</th>\n",
       "      <td>0.003</td>\n",
       "      <td>2.249330e+06</td>\n",
       "      <td>0</td>\n",
       "      <td>[[0.9999980497281841], [4.4324268547862866e-07]]</td>\n",
       "      <td>1.477477e-04</td>\n",
       "    </tr>\n",
       "    <tr>\n",
       "      <th>3</th>\n",
       "      <td>0.004</td>\n",
       "      <td>2.247070e+06</td>\n",
       "      <td>0</td>\n",
       "      <td>[[0.9999980497281841], [4.4324268547862866e-07]]</td>\n",
       "      <td>1.108110e-04</td>\n",
       "    </tr>\n",
       "    <tr>\n",
       "      <th>4</th>\n",
       "      <td>0.004</td>\n",
       "      <td>2.247072e+06</td>\n",
       "      <td>0</td>\n",
       "      <td>[[0.9999980497281841], [4.4324268547862866e-07]]</td>\n",
       "      <td>1.108109e-04</td>\n",
       "    </tr>\n",
       "    <tr>\n",
       "      <th>...</th>\n",
       "      <td>...</td>\n",
       "      <td>...</td>\n",
       "      <td>...</td>\n",
       "      <td>...</td>\n",
       "      <td>...</td>\n",
       "    </tr>\n",
       "    <tr>\n",
       "      <th>497868</th>\n",
       "      <td>0.999</td>\n",
       "      <td>2.250316e+03</td>\n",
       "      <td>0</td>\n",
       "      <td>[[0.9999980497281841], [4.4324268547862866e-07]]</td>\n",
       "      <td>4.436884e-07</td>\n",
       "    </tr>\n",
       "    <tr>\n",
       "      <th>497869</th>\n",
       "      <td>0.999</td>\n",
       "      <td>2.252352e+03</td>\n",
       "      <td>0</td>\n",
       "      <td>[[0.9999980497281841], [4.4324268547862866e-07]]</td>\n",
       "      <td>4.436880e-07</td>\n",
       "    </tr>\n",
       "    <tr>\n",
       "      <th>497870</th>\n",
       "      <td>0.999</td>\n",
       "      <td>2.254388e+03</td>\n",
       "      <td>0</td>\n",
       "      <td>[[0.9999980497281841], [4.4324268547862866e-07]]</td>\n",
       "      <td>4.436876e-07</td>\n",
       "    </tr>\n",
       "    <tr>\n",
       "      <th>497871</th>\n",
       "      <td>0.999</td>\n",
       "      <td>2.256424e+03</td>\n",
       "      <td>0</td>\n",
       "      <td>[[0.9999980497281841], [4.4324268547862866e-07]]</td>\n",
       "      <td>4.436872e-07</td>\n",
       "    </tr>\n",
       "    <tr>\n",
       "      <th>497872</th>\n",
       "      <td>0.999</td>\n",
       "      <td>2.258460e+03</td>\n",
       "      <td>0</td>\n",
       "      <td>[[0.9999980497281841], [4.4324268547862866e-07]]</td>\n",
       "      <td>4.436868e-07</td>\n",
       "    </tr>\n",
       "  </tbody>\n",
       "</table>\n",
       "<p>497873 rows × 5 columns</p>\n",
       "</div>"
      ],
      "text/plain": [
       "            x             y  lab  \\\n",
       "0       0.002  2.251586e+06    0   \n",
       "1       0.003  2.249328e+06    0   \n",
       "2       0.003  2.249330e+06    0   \n",
       "3       0.004  2.247070e+06    0   \n",
       "4       0.004  2.247072e+06    0   \n",
       "...       ...           ...  ...   \n",
       "497868  0.999  2.250316e+03    0   \n",
       "497869  0.999  2.252352e+03    0   \n",
       "497870  0.999  2.254388e+03    0   \n",
       "497871  0.999  2.256424e+03    0   \n",
       "497872  0.999  2.258460e+03    0   \n",
       "\n",
       "                                                     vec          time  \n",
       "0       [[0.9999980497281841], [4.4324268547862866e-07]]  2.216215e-04  \n",
       "1       [[0.9999980497281841], [4.4324268547862866e-07]]  1.477478e-04  \n",
       "2       [[0.9999980497281841], [4.4324268547862866e-07]]  1.477477e-04  \n",
       "3       [[0.9999980497281841], [4.4324268547862866e-07]]  1.108110e-04  \n",
       "4       [[0.9999980497281841], [4.4324268547862866e-07]]  1.108109e-04  \n",
       "...                                                  ...           ...  \n",
       "497868  [[0.9999980497281841], [4.4324268547862866e-07]]  4.436884e-07  \n",
       "497869  [[0.9999980497281841], [4.4324268547862866e-07]]  4.436880e-07  \n",
       "497870  [[0.9999980497281841], [4.4324268547862866e-07]]  4.436876e-07  \n",
       "497871  [[0.9999980497281841], [4.4324268547862866e-07]]  4.436872e-07  \n",
       "497872  [[0.9999980497281841], [4.4324268547862866e-07]]  4.436868e-07  \n",
       "\n",
       "[497873 rows x 5 columns]"
      ]
     },
     "execution_count": 12,
     "metadata": {},
     "output_type": "execute_result"
    }
   ],
   "source": [
    "df"
   ]
  },
  {
   "cell_type": "code",
   "execution_count": 20,
   "id": "389696f1-0928-47c3-835d-55cec73342bb",
   "metadata": {},
   "outputs": [],
   "source": [
    "a = np.array([[2],[3]])\n",
    "b = None\n",
    "if type(a) == type(None):\n",
    "    print(1)"
   ]
  },
  {
   "cell_type": "code",
   "execution_count": 16,
   "id": "97afb556-2db9-4d07-a0f4-8755d7846ef6",
   "metadata": {},
   "outputs": [
    {
     "data": {
      "text/plain": [
       "<class 'NoneType'>"
      ]
     },
     "execution_count": 16,
     "metadata": {},
     "output_type": "execute_result"
    }
   ],
   "source": [
    "type(b)"
   ]
  },
  {
   "cell_type": "code",
   "execution_count": null,
   "id": "70a7dfa9-4855-4427-be23-416578bc2d8c",
   "metadata": {},
   "outputs": [],
   "source": []
  }
 ],
 "metadata": {
  "kernelspec": {
   "display_name": "SageMath 10.0",
   "language": "sage",
   "name": "sagemath"
  },
  "language_info": {
   "codemirror_mode": {
    "name": "ipython",
    "version": 3
   },
   "file_extension": ".py",
   "mimetype": "text/x-python",
   "name": "python",
   "nbconvert_exporter": "python",
   "pygments_lexer": "ipython3",
   "version": "3.9.16"
  }
 },
 "nbformat": 4,
 "nbformat_minor": 5
}
