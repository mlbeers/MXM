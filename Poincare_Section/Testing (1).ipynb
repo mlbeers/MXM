{
 "cells": [
  {
   "cell_type": "code",
   "execution_count": 1,
   "id": "686f8b64-ed5a-45c4-ac88-4d7aa3d582b1",
   "metadata": {},
   "outputs": [],
   "source": [
    "import numpy as np\n",
    "from matplotlib import pyplot as plt\n",
    "import pandas as pd\n",
    "from flatsurf import *\n",
    "import numpy as np\n",
    "from matplotlib import pyplot as plt\n",
    "import os\n",
    "import pwlf\n",
    "import sympy as sym\n",
    "from sympy import Symbol\n",
    "from sympy import solve, lambdify\n",
    "import os\n",
    "from Poincare import *\n",
    "from Poincare import Section\n",
    "import math\n",
    "from surface_dynamics.all import *"
   ]
  },
  {
   "cell_type": "code",
   "execution_count": 2,
   "id": "48367d68-06f5-4f2f-b7c8-d7712cc43e94",
   "metadata": {},
   "outputs": [],
   "source": [
    "#Code from Sunrose\n",
    "D = OrigamiDatabase()\n",
    "q = D.query()\n",
    "qlist = q.list()\n",
    "\n",
    "def unit_hor_saddle(O):\n",
    "    count = 0\n",
    "    for vert in O.vertices():\n",
    "        tup = vert.up_right_tuple()\n",
    "        for i in tup:\n",
    "            for vert2 in O.vertices():\n",
    "                tup2 = vert2.up_right_tuple()\n",
    "                if O.r()(i) in tup2:\n",
    "                    return True\n",
    "    return False\n",
    "\n",
    "def is_unobstructed(O):\n",
    "    cusp_reps = O.teichmueller_curve().cusp_representatives()\n",
    "    for item in cusp_reps:\n",
    "        if not unit_hor_saddle(item[0]):\n",
    "            return False\n",
    "    return True\n",
    "\n",
    "def obstructed(n, **kwargs):\n",
    "    obstructed = []\n",
    "    count_obstructed = 0\n",
    "    p = D.query(nb_squares=n, **kwargs)\n",
    "    for item in p:\n",
    "        if not is_unobstructed(item):\n",
    "            obstructed.append(item)\n",
    "            count_obstructed+= item.teichmueller_curve().orbit_graph().num_verts()\n",
    "    return (obstructed, count_obstructed)"
   ]
  },
  {
   "cell_type": "code",
   "execution_count": 3,
   "id": "c92f053c-c8a3-4592-9071-040594af1e30",
   "metadata": {},
   "outputs": [],
   "source": [
    "def vectors(perm, length = 200):\n",
    "    a = str(perm)\n",
    "    h, v = a.split(\"\\n\")\n",
    "    S = SymmetricGroup(len(h))\n",
    "    T = translation_surfaces.origami(S(h), S(v))\n",
    "    T = T.erase_marked_points()\n",
    "    sc_list = T.saddle_connections(length)\n",
    "    slopes_all = []\n",
    "    for item in sc_list:\n",
    "        vec = item.holonomy().n()\n",
    "        direction = item.direction\n",
    "        if vec not in slopes_all:\n",
    "            if vec[0] >= -length/20 and vec[0] <= length/20:\n",
    "                if vec[1] >= -length/20 and vec[1] <= length/20:\n",
    "                    slopes_all.append(item.holonomy().n())         \n",
    "    vecs = []\n",
    "    for vec in slopes_all:\n",
    "        item = np.array([[vec[0]],[vec[1]]])\n",
    "        vecs.append(item)\n",
    "    return vecs"
   ]
  },
  {
   "cell_type": "code",
   "execution_count": 4,
   "id": "5993f9e2-c25c-4cea-ae81-a19442d1196a",
   "metadata": {},
   "outputs": [],
   "source": [
    "def perms_list(n, **kwargs):\n",
    "    obstructed = []\n",
    "    p = D.query(nb_squares=n, **kwargs)\n",
    "    for item in p:\n",
    "        if not is_unobstructed(item):\n",
    "            obstructed.append(item)\n",
    "            for perm in item.teichmueller_curve():\n",
    "                obstructed.append(perm)\n",
    "    return obstructed"
   ]
  },
  {
   "cell_type": "code",
   "execution_count": 8,
   "id": "73524e65-e0d4-42bb-9151-44b894f68850",
   "metadata": {},
   "outputs": [
    {
     "data": {
      "text/plain": [
       "[(1)(2)(3)(4)(5,6)\n",
       " (1,2,3,4,5)(6),\n",
       " (1)(2)(3)(4)(5,6)\n",
       " (1,2,3,4,5)(6),\n",
       " (1)(2)(3)(4)(5,6)\n",
       " (1,2,3,4,5,6),\n",
       " (1)(2)(3)(4,5,6)\n",
       " (1,2,3,4)(5)(6),\n",
       " (1)(2)(3)(4,5,6)\n",
       " (1,2,3,4,5,6),\n",
       " (1)(2)(3)(4,5,6)\n",
       " (1,2,3,4,6,5),\n",
       " (1)(2)(3,4,5,6)\n",
       " (1,2,3)(4)(5)(6),\n",
       " (1)(2)(3,4,5,6)\n",
       " (1,2,3,4,5,6),\n",
       " (1)(2)(3,4,5,6)\n",
       " (1,2,3,5)(4,6),\n",
       " (1)(2)(3,4,5,6)\n",
       " (1,2,3,6,5,4),\n",
       " (1)(2,3,4,5,6)\n",
       " (1,2)(3)(4)(5)(6),\n",
       " (1)(2,3,4,5,6)\n",
       " (1,2,3,4,5,6),\n",
       " (1)(2,3,4,5,6)\n",
       " (1,2,4,6,3,5),\n",
       " (1)(2,3,4,5,6)\n",
       " (1,2,5,3,6,4),\n",
       " (1)(2,3,4,5,6)\n",
       " (1,2,6,5,4,3),\n",
       " (1,2)(3,4,5,6)\n",
       " (1,3,2,4,5,6),\n",
       " (1,2)(3,4,5,6)\n",
       " (1,3,6,5,2,4),\n",
       " (1,2)(3,4,5,6)\n",
       " (1,3,2,6)(4)(5),\n",
       " (1,2)(3,4,5,6)\n",
       " (1,3,5,2,6,4),\n",
       " (1,2,3,4,5,6)\n",
       " (1)(2)(3)(4)(5,6),\n",
       " (1,2,3,4,5,6)\n",
       " (1)(2)(3)(4,5,6),\n",
       " (1,2,3,4,5,6)\n",
       " (1)(2)(3)(4,6,5),\n",
       " (1,2,3,4,5,6)\n",
       " (1)(2)(3,4,5,6),\n",
       " (1,2,3,4,5,6)\n",
       " (1)(2)(3,6,5,4),\n",
       " (1,2,3,4,5,6)\n",
       " (1)(2,3,4,5,6),\n",
       " (1,2,3,4,5,6)\n",
       " (1)(2,4,6,3,5),\n",
       " (1,2,3,4,5,6)\n",
       " (1)(2,5,3,6,4),\n",
       " (1,2,3,4,5,6)\n",
       " (1)(2,6,5,4,3),\n",
       " (1,2,3,4,5,6)\n",
       " (1,2,3,5,4,6),\n",
       " (1,2,3,4,5,6)\n",
       " (1,2,4,6)(3,5),\n",
       " (1,2,3,4,5,6)\n",
       " (1,3,5,6,2,4),\n",
       " (1,2,3,4,5,6)\n",
       " (1,4,6,3,5,2),\n",
       " (1,2,3,4,5,6)\n",
       " (1,4,2,5,6,3),\n",
       " (1,2,3,4,5,6)\n",
       " (1,4,6,3)(2,5),\n",
       " (1,2,3,4,5,6)\n",
       " (1,5,6,4,3,2),\n",
       " (1,2,3,4,5,6)\n",
       " (1,5,3,2)(4,6),\n",
       " (1,2,3,4,5,6)\n",
       " (1,5,3,6,4,2)]"
      ]
     },
     "execution_count": 8,
     "metadata": {},
     "output_type": "execute_result"
    }
   ],
   "source": [
    "permutations = perms_list(6)\n",
    "permutations"
   ]
  },
  {
   "cell_type": "code",
   "execution_count": null,
   "id": "fd7e6337-5b61-4ef1-a913-aae83ab58b04",
   "metadata": {},
   "outputs": [],
   "source": [
    "for i in range(len(permutations)):\n",
    "    n_squares = 6\n",
    "    perm = permutations[i]\n",
    "    vecs = vectors(perm,2500)\n",
    "    comp(perm, vecs, 6, i)"
   ]
  },
  {
   "cell_type": "code",
   "execution_count": 13,
   "id": "913c25a2-701b-4d2a-916b-a147fc15f5ad",
   "metadata": {},
   "outputs": [
    {
     "data": {
      "image/png": "[encoded data removed]",
      "text/plain": [
       "Graphics object consisting of 63 graphics primitives"
      ]
     },
     "metadata": {},
     "output_type": "display_data"
    }
   ],
   "source": [
    "perm = permutations[8]\n",
    "vecs0 = vectors(perm, 1000)\n",
    "vecs0.append(np.array([[2],[1]]))\n",
    "dx = 0.001\n",
    "alphas, Cs, C_invs, eigs, Ms, generators, eigenvecs = poincare_details(perm, vecs0)\n",
    "perm.show()"
   ]
  },
  {
   "cell_type": "code",
   "execution_count": 14,
   "id": "64b36f87-88b1-4d22-81b5-6b162c878248",
   "metadata": {},
   "outputs": [
    {
     "data": {
      "text/plain": [
       "[4.0, 116.0, 15.0, 145.0, 4.0, 30.0, 60.0, 12.0]"
      ]
     },
     "execution_count": 14,
     "metadata": {},
     "output_type": "execute_result"
    }
   ],
   "source": [
    "alphas"
   ]
  },
  {
   "cell_type": "code",
   "execution_count": null,
   "id": "a41e8e17-0e62-457f-bd68-9373501315a6",
   "metadata": {},
   "outputs": [
    {
     "name": "stdout",
     "output_type": "stream",
     "text": [
      "2107\n",
      "148\n"
     ]
    }
   ],
   "source": [
    "i = 0\n",
    "n_squares = 6\n",
    "index = 0\n",
    "vecs, x_vals, m0, m1, x0, y0, dx_y = setup(alphas[i], Cs[i], eigs[i], vecs0, dx)\n",
    "df = winners(vecs, x_vals, m0, m1, y0, dx, dx_y)\n",
    "plot(df, vecs, Cs[i], 1, n_squares, index, test = True)"
   ]
  },
  {
   "cell_type": "code",
   "execution_count": null,
   "id": "0acf131e-bae8-4040-ae3e-f993a506f5cc",
   "metadata": {},
   "outputs": [],
   "source": [
    "sec_list = sec_setup(df, dx_y)\n",
    "secs = sec_comp(sec_list, dx)\n",
    "times = time_comp(secs)\n",
    "pdf(list(df[\"time\"]), times, dx*4)"
   ]
  },
  {
   "cell_type": "code",
   "execution_count": 18,
   "id": "51dd20d4-9bd1-4fb9-ae38-cf841dae4b1a",
   "metadata": {},
   "outputs": [
    {
     "data": {
      "text/html": [
       "<div>\n",
       "<style scoped>\n",
       "    .dataframe tbody tr th:only-of-type {\n",
       "        vertical-align: middle;\n",
       "    }\n",
       "\n",
       "    .dataframe tbody tr th {\n",
       "        vertical-align: top;\n",
       "    }\n",
       "\n",
       "    .dataframe thead th {\n",
       "        text-align: right;\n",
       "    }\n",
       "</style>\n",
       "<table border=\"1\" class=\"dataframe\">\n",
       "  <thead>\n",
       "    <tr style=\"text-align: right;\">\n",
       "      <th></th>\n",
       "      <th>x</th>\n",
       "      <th>y</th>\n",
       "      <th>lab</th>\n",
       "      <th>vec</th>\n",
       "      <th>time</th>\n",
       "    </tr>\n",
       "  </thead>\n",
       "  <tbody>\n",
       "    <tr>\n",
       "      <th>0</th>\n",
       "      <td>0.006</td>\n",
       "      <td>0.978</td>\n",
       "      <td>135</td>\n",
       "      <td>[[3.0], [1.0]]</td>\n",
       "      <td>167.336011</td>\n",
       "    </tr>\n",
       "    <tr>\n",
       "      <th>1</th>\n",
       "      <td>0.006</td>\n",
       "      <td>0.986</td>\n",
       "      <td>69</td>\n",
       "      <td>[[1.0], [1.0]]</td>\n",
       "      <td>168.010753</td>\n",
       "    </tr>\n",
       "    <tr>\n",
       "      <th>2</th>\n",
       "      <td>0.008</td>\n",
       "      <td>0.968</td>\n",
       "      <td>92</td>\n",
       "      <td>[[4.0], [1.0]]</td>\n",
       "      <td>125.000000</td>\n",
       "    </tr>\n",
       "    <tr>\n",
       "      <th>3</th>\n",
       "      <td>0.008</td>\n",
       "      <td>0.976</td>\n",
       "      <td>135</td>\n",
       "      <td>[[3.0], [1.0]]</td>\n",
       "      <td>125.000000</td>\n",
       "    </tr>\n",
       "    <tr>\n",
       "      <th>4</th>\n",
       "      <td>0.008</td>\n",
       "      <td>0.984</td>\n",
       "      <td>69</td>\n",
       "      <td>[[1.0], [1.0]]</td>\n",
       "      <td>126.008065</td>\n",
       "    </tr>\n",
       "    <tr>\n",
       "      <th>...</th>\n",
       "      <td>...</td>\n",
       "      <td>...</td>\n",
       "      <td>...</td>\n",
       "      <td>...</td>\n",
       "      <td>...</td>\n",
       "    </tr>\n",
       "    <tr>\n",
       "      <th>123821</th>\n",
       "      <td>0.998</td>\n",
       "      <td>-0.038</td>\n",
       "      <td>69</td>\n",
       "      <td>[[1.0], [1.0]]</td>\n",
       "      <td>1.043754</td>\n",
       "    </tr>\n",
       "    <tr>\n",
       "      <th>123822</th>\n",
       "      <td>0.998</td>\n",
       "      <td>-0.030</td>\n",
       "      <td>69</td>\n",
       "      <td>[[1.0], [1.0]]</td>\n",
       "      <td>1.035128</td>\n",
       "    </tr>\n",
       "    <tr>\n",
       "      <th>123823</th>\n",
       "      <td>0.998</td>\n",
       "      <td>-0.022</td>\n",
       "      <td>69</td>\n",
       "      <td>[[1.0], [1.0]]</td>\n",
       "      <td>1.026643</td>\n",
       "    </tr>\n",
       "    <tr>\n",
       "      <th>123824</th>\n",
       "      <td>0.998</td>\n",
       "      <td>-0.014</td>\n",
       "      <td>69</td>\n",
       "      <td>[[1.0], [1.0]]</td>\n",
       "      <td>1.018297</td>\n",
       "    </tr>\n",
       "    <tr>\n",
       "      <th>123825</th>\n",
       "      <td>0.998</td>\n",
       "      <td>-0.006</td>\n",
       "      <td>69</td>\n",
       "      <td>[[1.0], [1.0]]</td>\n",
       "      <td>1.010085</td>\n",
       "    </tr>\n",
       "  </tbody>\n",
       "</table>\n",
       "<p>123826 rows × 5 columns</p>\n",
       "</div>"
      ],
      "text/plain": [
       "            x      y  lab             vec        time\n",
       "0       0.006  0.978  135  [[3.0], [1.0]]  167.336011\n",
       "1       0.006  0.986   69  [[1.0], [1.0]]  168.010753\n",
       "2       0.008  0.968   92  [[4.0], [1.0]]  125.000000\n",
       "3       0.008  0.976  135  [[3.0], [1.0]]  125.000000\n",
       "4       0.008  0.984   69  [[1.0], [1.0]]  126.008065\n",
       "...       ...    ...  ...             ...         ...\n",
       "123821  0.998 -0.038   69  [[1.0], [1.0]]    1.043754\n",
       "123822  0.998 -0.030   69  [[1.0], [1.0]]    1.035128\n",
       "123823  0.998 -0.022   69  [[1.0], [1.0]]    1.026643\n",
       "123824  0.998 -0.014   69  [[1.0], [1.0]]    1.018297\n",
       "123825  0.998 -0.006   69  [[1.0], [1.0]]    1.010085\n",
       "\n",
       "[123826 rows x 5 columns]"
      ]
     },
     "execution_count": 18,
     "metadata": {},
     "output_type": "execute_result"
    }
   ],
   "source": [
    "df"
   ]
  },
  {
   "cell_type": "code",
   "execution_count": 26,
   "id": "d2b73939-61a0-4f87-af08-bf2ca43a3253",
   "metadata": {},
   "outputs": [
    {
     "data": {
      "text/plain": [
       "array([346, 511, 254,  48,  34, 494])"
      ]
     },
     "execution_count": 26,
     "metadata": {},
     "output_type": "execute_result"
    }
   ],
   "source": [
    "df[\"lab\"].unique()"
   ]
  },
  {
   "cell_type": "code",
   "execution_count": 56,
   "id": "11ab9cc9-6f55-48df-aadc-56d363256e1f",
   "metadata": {},
   "outputs": [
    {
     "data": {
      "text/html": [
       "<div>\n",
       "<style scoped>\n",
       "    .dataframe tbody tr th:only-of-type {\n",
       "        vertical-align: middle;\n",
       "    }\n",
       "\n",
       "    .dataframe tbody tr th {\n",
       "        vertical-align: top;\n",
       "    }\n",
       "\n",
       "    .dataframe thead th {\n",
       "        text-align: right;\n",
       "    }\n",
       "</style>\n",
       "<table border=\"1\" class=\"dataframe\">\n",
       "  <thead>\n",
       "    <tr style=\"text-align: right;\">\n",
       "      <th></th>\n",
       "      <th>x</th>\n",
       "      <th>y</th>\n",
       "      <th>lab</th>\n",
       "      <th>vec</th>\n",
       "      <th>time</th>\n",
       "    </tr>\n",
       "  </thead>\n",
       "  <tbody>\n",
       "    <tr>\n",
       "      <th>1993312</th>\n",
       "      <td>0.999</td>\n",
       "      <td>-2.995</td>\n",
       "      <td>511</td>\n",
       "      <td>[[3.0], [1.0]]</td>\n",
       "      <td>500.500501</td>\n",
       "    </tr>\n",
       "    <tr>\n",
       "      <th>1993313</th>\n",
       "      <td>0.999</td>\n",
       "      <td>-2.994</td>\n",
       "      <td>511</td>\n",
       "      <td>[[3.0], [1.0]]</td>\n",
       "      <td>333.667000</td>\n",
       "    </tr>\n",
       "    <tr>\n",
       "      <th>1993314</th>\n",
       "      <td>0.999</td>\n",
       "      <td>-2.993</td>\n",
       "      <td>511</td>\n",
       "      <td>[[3.0], [1.0]]</td>\n",
       "      <td>250.250250</td>\n",
       "    </tr>\n",
       "    <tr>\n",
       "      <th>1993315</th>\n",
       "      <td>0.999</td>\n",
       "      <td>-2.992</td>\n",
       "      <td>511</td>\n",
       "      <td>[[3.0], [1.0]]</td>\n",
       "      <td>200.200200</td>\n",
       "    </tr>\n",
       "    <tr>\n",
       "      <th>1993316</th>\n",
       "      <td>0.999</td>\n",
       "      <td>-2.991</td>\n",
       "      <td>511</td>\n",
       "      <td>[[3.0], [1.0]]</td>\n",
       "      <td>166.833500</td>\n",
       "    </tr>\n",
       "    <tr>\n",
       "      <th>...</th>\n",
       "      <td>...</td>\n",
       "      <td>...</td>\n",
       "      <td>...</td>\n",
       "      <td>...</td>\n",
       "      <td>...</td>\n",
       "    </tr>\n",
       "    <tr>\n",
       "      <th>1994306</th>\n",
       "      <td>0.999</td>\n",
       "      <td>-2.001</td>\n",
       "      <td>511</td>\n",
       "      <td>[[3.0], [1.0]]</td>\n",
       "      <td>1.005021</td>\n",
       "    </tr>\n",
       "    <tr>\n",
       "      <th>1994307</th>\n",
       "      <td>0.999</td>\n",
       "      <td>-2.000</td>\n",
       "      <td>511</td>\n",
       "      <td>[[3.0], [1.0]]</td>\n",
       "      <td>1.004013</td>\n",
       "    </tr>\n",
       "    <tr>\n",
       "      <th>1994308</th>\n",
       "      <td>0.999</td>\n",
       "      <td>-1.999</td>\n",
       "      <td>511</td>\n",
       "      <td>[[3.0], [1.0]]</td>\n",
       "      <td>1.003007</td>\n",
       "    </tr>\n",
       "    <tr>\n",
       "      <th>1994309</th>\n",
       "      <td>0.999</td>\n",
       "      <td>-1.998</td>\n",
       "      <td>511</td>\n",
       "      <td>[[3.0], [1.0]]</td>\n",
       "      <td>1.002003</td>\n",
       "    </tr>\n",
       "    <tr>\n",
       "      <th>1994310</th>\n",
       "      <td>0.999</td>\n",
       "      <td>-1.997</td>\n",
       "      <td>511</td>\n",
       "      <td>[[3.0], [1.0]]</td>\n",
       "      <td>1.001001</td>\n",
       "    </tr>\n",
       "  </tbody>\n",
       "</table>\n",
       "<p>999 rows × 5 columns</p>\n",
       "</div>"
      ],
      "text/plain": [
       "             x      y  lab             vec        time\n",
       "1993312  0.999 -2.995  511  [[3.0], [1.0]]  500.500501\n",
       "1993313  0.999 -2.994  511  [[3.0], [1.0]]  333.667000\n",
       "1993314  0.999 -2.993  511  [[3.0], [1.0]]  250.250250\n",
       "1993315  0.999 -2.992  511  [[3.0], [1.0]]  200.200200\n",
       "1993316  0.999 -2.991  511  [[3.0], [1.0]]  166.833500\n",
       "...        ...    ...  ...             ...         ...\n",
       "1994306  0.999 -2.001  511  [[3.0], [1.0]]    1.005021\n",
       "1994307  0.999 -2.000  511  [[3.0], [1.0]]    1.004013\n",
       "1994308  0.999 -1.999  511  [[3.0], [1.0]]    1.003007\n",
       "1994309  0.999 -1.998  511  [[3.0], [1.0]]    1.002003\n",
       "1994310  0.999 -1.997  511  [[3.0], [1.0]]    1.001001\n",
       "\n",
       "[999 rows x 5 columns]"
      ]
     },
     "execution_count": 56,
     "metadata": {},
     "output_type": "execute_result"
    }
   ],
   "source": [
    "a = df[df[\"lab\"] == 511]\n",
    "b = a[a[\"x\"] == max(a[\"x\"])]\n",
    "b"
   ]
  },
  {
   "cell_type": "code",
   "execution_count": 31,
   "id": "77f8f0c9-6a81-44e5-a7ae-36c41be8c84c",
   "metadata": {},
   "outputs": [
    {
     "data": {
      "text/plain": [
       "1.0"
      ]
     },
     "execution_count": 31,
     "metadata": {},
     "output_type": "execute_result"
    }
   ],
   "source": [
    "x0"
   ]
  },
  {
   "cell_type": "code",
   "execution_count": 32,
   "id": "b5e70ef5-378a-457b-9b8b-016cdd5e58a6",
   "metadata": {},
   "outputs": [
    {
     "data": {
      "text/plain": [
       "1.0"
      ]
     },
     "execution_count": 32,
     "metadata": {},
     "output_type": "execute_result"
    }
   ],
   "source": [
    "y0"
   ]
  },
  {
   "cell_type": "code",
   "execution_count": 11,
   "id": "d0195090-57ca-44fe-92eb-25cf73076f6f",
   "metadata": {},
   "outputs": [],
   "source": [
    "G = SymmetricGroup(2)"
   ]
  },
  {
   "cell_type": "code",
   "execution_count": 12,
   "id": "92d86f05-4308-4208-ab9f-1efa3b0248db",
   "metadata": {},
   "outputs": [],
   "source": [
    "perm = translation_surfaces.origami(G('(1)'), G('(1)'))"
   ]
  },
  {
   "cell_type": "code",
   "execution_count": null,
   "id": "7497d434-10a6-4963-a49e-78827dcc79ad",
   "metadata": {},
   "outputs": [],
   "source": []
  }
 ],
 "metadata": {
  "kernelspec": {
   "display_name": "SageMath 10.0",
   "language": "sage",
   "name": "sagemath"
  },
  "language_info": {
   "codemirror_mode": {
    "name": "ipython",
    "version": 3
   },
   "file_extension": ".py",
   "mimetype": "text/x-python",
   "name": "python",
   "nbconvert_exporter": "python",
   "pygments_lexer": "ipython3",
   "version": "3.9.16"
  }
 },
 "nbformat": 4,
 "nbformat_minor": 5
}
