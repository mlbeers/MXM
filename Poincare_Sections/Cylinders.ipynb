{
 "cells": [
  {
   "cell_type": "code",
   "execution_count": 1,
   "id": "9b464994-9c4b-4988-bd9b-cda4e215db57",
   "metadata": {},
   "outputs": [],
   "source": [
    "from sage.all import matrix  # testing\n",
    "from sage.all import *\n",
    "import numpy as np\n",
    "from matplotlib import pyplot as plt\n",
    "import pandas as pd\n",
    "from flatsurf import *\n",
    "import os\n",
    "import pwlf\n",
    "import os\n",
    "from surface_dynamics.all import *\n",
    "from Library import *\n",
    "from Library import Section\n",
    "import math\n",
    "from time import time\n",
    "import copy\n",
    "from scipy import integrate\n",
    "import sympy as sym\n",
    "from sympy import Symbol\n",
    "from sympy import solve, lambdify\n",
    "from sympy import Rational, sqrt\n",
    "import traceback\n",
    "import dill\n",
    "import sys\n",
    "import unittest\n",
    "from surface_dynamics.all import Origami\n",
    "from utils import load_arrays_from_file  # testing\n",
    "from fractions import Fraction as frac"
   ]
  },
  {
   "cell_type": "code",
   "execution_count": 2,
   "id": "c3bfe2ec-d836-422f-9943-53f9c1302bd3",
   "metadata": {},
   "outputs": [],
   "source": [
    "# number of squares for STS\n",
    "n_squares = 7\n",
    "# index to start at\n",
    "index = 0\n",
    "\n",
    "permutations = perms_list(n_squares)\n",
    "\n",
    "perm = permutations[index]\n",
    "\n",
    "# get a list of saddle connections\n",
    "vec_file = \"vecs\" + str(n_squares) + \"-\" + str(index) + \".npy\"\n",
    "vecs0 = load_arrays_from_file(os.path.join(\"vecs\", vec_file))"
   ]
  },
  {
   "cell_type": "code",
   "execution_count": 162,
   "id": "191625f6-1c3b-46e7-ad77-d404faa3ec91",
   "metadata": {},
   "outputs": [],
   "source": [
    "def poincare_details2(perm, vecs0, generators):\n",
    "    M = mathematica\n",
    "    # find the eigenvectors for each generator and make sure they are 1\n",
    "    eigs = []\n",
    "    eigenvecs = []\n",
    "    for matrix in generators:\n",
    "        a = matrix[0][0]\n",
    "        b = matrix[0][1]\n",
    "        c = matrix[1][0]\n",
    "        d = matrix[1][1]\n",
    "\n",
    "        matrix_string = f\"A = {{{{{a}, {b}}}, {{{c}, {d}}}}}\"\n",
    "        A = M(matrix_string)\n",
    "        eigenvalues = M('eigenvalues = Eigenvalues[A]')\n",
    "        eig1 = int(M('eigenvalues[[1]]'))\n",
    "        eig2 = int(M('eigenvalues[[2]]'))\n",
    "\n",
    "        if eig1 == eig2:\n",
    "            if eig1 == 1:\n",
    "                eigs.append(eig1)\n",
    "            else:\n",
    "                raise ValueError(\"Eigenvalue not equal to 1\")\n",
    "        else:\n",
    "            raise ValueError(\"Different eigenvalues\")\n",
    "        \n",
    "        eigenvectors = M('eigenvectors = Eigenvectors[A]')\n",
    "        scaledEigenvector = M('scaledEigenvectors = Map[LCM @@ Denominator[#]*# &, eigenvectors][[1]]')\n",
    "        scaled_x = int(scaledEigenvector.sage()[0])\n",
    "        scaled_y = int(scaledEigenvector.sage()[1])\n",
    "        vec = np.array([[scaled_x], [scaled_y]])\n",
    "        eigenvecs.append(vec)\n",
    "\n",
    "    # find the magnitude, slope, x-direction, and y-direction of each eigenvector\n",
    "    def get_magnitude_slope_sign(vectors):\n",
    "        # Stack the list of 2D numpy arrays into a 2D array\n",
    "        vectors = np.hstack(vectors)  # Concatenate into a 2D array\n",
    "        \n",
    "        magnitudes = np.linalg.norm(vectors, axis=0)\n",
    "        \n",
    "        # Make sure the output array for division is explicitly float\n",
    "        slopes = np.divide(vectors[1], vectors[0], out=np.full_like(vectors[1], float('inf'), dtype=np.float64), where=vectors[0] != 0)\n",
    "        \n",
    "        x_signs = np.sign(vectors[0])\n",
    "        y_signs = np.sign(vectors[1])\n",
    "        \n",
    "        return magnitudes, slopes, x_signs, y_signs\n",
    "\n",
    "    eigen_mags, eigen_slopes, eigen_x_signs, eigen_y_signs = get_magnitude_slope_sign(eigenvecs)\n",
    "    saddle_mags, saddle_slopes, saddle_x_signs, saddle_y_signs = get_magnitude_slope_sign(vecs0)\n",
    "\n",
    "    # Find corresponding saddle vectors for eigenvectors\n",
    "    saddle_vecs = []\n",
    "    for i in range(len(eigenvecs)):\n",
    "        slope_vec = eigen_slopes[i]\n",
    "        x_sign_vec = eigen_x_signs[i]\n",
    "        y_sign_vec = eigen_y_signs[i]\n",
    "\n",
    "        # Identify matches by slope, x, and y direction\n",
    "        slope_matches = (slope_vec == saddle_slopes)\n",
    "        x_sign_matches = x_sign_vec == saddle_x_signs\n",
    "        y_sign_matches = y_sign_vec == saddle_y_signs\n",
    "\n",
    "        valid_saddles = np.where(slope_matches & x_sign_matches & y_sign_matches)[0]\n",
    "\n",
    "        if len(valid_saddles) == 0:\n",
    "            raise DetailsError(f\"No saddle vec for eigenvector {eigenvecs[i]}\")\n",
    "\n",
    "        # Select saddle with smallest magnitude\n",
    "        smallest_idx = valid_saddles[np.argmin(saddle_mags[valid_saddles])]\n",
    "        saddle_vecs.append(vecs0[smallest_idx])\n",
    "\n",
    "    saddle_vecs = np.array(saddle_vecs)\n",
    "    \n",
    "    # find c_inv and c\n",
    "    Cs = []\n",
    "    C0s = []\n",
    "    alphas = []\n",
    "    Ms = []\n",
    "    Ss = []\n",
    "    S0s = []\n",
    "    Ss = []\n",
    "    scales = []\n",
    "    mults = []\n",
    "    Js = []\n",
    "    for matrix, saddle_vec, eigen_vec in zip(generators, saddle_vecs, eigenvecs):\n",
    "        a = matrix[0][0]\n",
    "        b = matrix[0][1]\n",
    "        c = matrix[1][0]\n",
    "        d = matrix[1][1]\n",
    "    \n",
    "        matrix_string = f\"A = {{{{{a}, {b}}}, {{{c}, {d}}}}}\"\n",
    "        A = M(matrix_string)\n",
    "    \n",
    "        S0, J = M('{S0, J} = JordanDecomposition[A]')\n",
    "        S = M('S = Inverse[S0]')\n",
    "\n",
    "        # print(S0)\n",
    "        # print(S)\n",
    "        # print()\n",
    "        # print(\"-----------------------\")\n",
    "    \n",
    "        S_np = np.array(S.sage())\n",
    "        a_ = frac(str(S_np[0][0]))\n",
    "        b_ = frac(str(S_np[0][1]))\n",
    "        c_ = frac(str(S_np[1][0]))\n",
    "        d_ = frac(str(S_np[1][1]))\n",
    "        S = np.array([[a_, b_], [c_, d_]], dtype=object)\n",
    "    \n",
    "        M_np = np.array(J.sage())\n",
    "        a_1 = int(M_np[0][0])\n",
    "        b_1 = int(M_np[0][1])\n",
    "        c_1 = int(M_np[1][0])\n",
    "        d_1 = int(M_np[1][1])\n",
    "        J = np.array([[a_1, b_1], [c_1, d_1]])\n",
    "\n",
    "        S0_np = np.array(S0.sage())\n",
    "        a_2 = frac(str(S0_np[0][0]))\n",
    "        b_2 = frac(str(S0_np[0][1]))\n",
    "        c_2 = frac(str(S0_np[1][0]))\n",
    "        d_2 = frac(str(S0_np[1][1]))\n",
    "        S0 = np.array([[a_2, b_2], [c_2, d_2]], dtype=object)\n",
    "    \n",
    "        if a_1 != 1 or c_1 != 0 or d_1 != 1:\n",
    "            raise ValueError(f\"wrong J: {J}\")\n",
    "\n",
    "        detC = (a_2*d_2) - (b_2*c_2)\n",
    "        factor = int(1)/sqrt(detC)\n",
    "        c0 = (factor * S0)\n",
    "        x_ = (c0@np.array([[1],[0]]))[0][0]\n",
    "        y_ = (c0@np.array([[1],[0]]))[1][0]\n",
    "        mult0 = saddle_vec[0][0]/x_\n",
    "        mult1 = saddle_vec[1][0]/y_\n",
    "        if x_ != 0:\n",
    "            mult = mult0\n",
    "        elif y_ != 0:\n",
    "            mult = mult1\n",
    "        else:\n",
    "            raise ValueError(\"Both coordinates in saddle_vec are zero. Division by zero is not defined.\")\n",
    "        scale = np.array([[mult, 0], [0, int(1)/mult]], dtype=object)\n",
    "        c0 = c0 @ scale\n",
    "        c = np.array([[c0[1][1], -c0[0][1]], [-c0[1][0], c0[0][0]]], dtype=object)\n",
    "\n",
    "        J_new = c@matrix@c0\n",
    "        a_1 = int(J_new[0][0])\n",
    "        b_1 = int(J_new[0][1])\n",
    "        c_1 = int(J_new[1][0])\n",
    "        d_1 = int(J_new[1][1])\n",
    "\n",
    "        if a_1 != 1 or c_1 != 0 or d_1 != 1:\n",
    "            raise ValueError(f\"wrong J_new: {J_new}\")\n",
    "        \n",
    "        Cs.append(c)\n",
    "        C0s.append(c0)\n",
    "        Ms.append(J_new)\n",
    "        Js.append(J)\n",
    "        S0s.append(S0)\n",
    "        Ss.append(S)\n",
    "        scales.append(scale)\n",
    "        mults.append(mult)\n",
    "        alphas.append(J_new[0][1])\n",
    "                    \n",
    "    return alphas, Cs, C0s, Ss, S0s, eigs, Ms, Js, generators, eigenvecs, saddle_vecs, scales, mults"
   ]
  },
  {
   "cell_type": "code",
   "execution_count": 163,
   "id": "728359a2-9281-40bb-8268-872ba6653b39",
   "metadata": {},
   "outputs": [
    {
     "name": "stdout",
     "output_type": "stream",
     "text": [
      "0\n",
      "1\n",
      "2\n",
      "3\n",
      "4\n",
      "5\n",
      "6\n",
      "7\n",
      "8\n",
      "9\n",
      "10\n",
      "11\n",
      "12\n",
      "13\n",
      "14\n",
      "15\n",
      "16\n",
      "17\n",
      "18\n",
      "19\n",
      "20\n",
      "21\n",
      "22\n",
      "23\n",
      "24\n",
      "25\n",
      "26\n",
      "27\n",
      "28\n",
      "29\n",
      "30\n",
      "31\n",
      "32\n",
      "33\n",
      "34\n",
      "35\n",
      "36\n",
      "37\n",
      "38\n",
      "39\n",
      "40\n",
      "41\n",
      "42\n",
      "43\n",
      "44\n",
      "45\n",
      "46\n",
      "47\n",
      "48\n",
      "49\n",
      "50\n",
      "51\n",
      "52\n",
      "53\n",
      "54\n",
      "55\n",
      "56\n",
      "57\n",
      "58\n",
      "59\n",
      "60\n",
      "61\n",
      "62\n",
      "63\n",
      "64\n",
      "65\n",
      "66\n",
      "67\n",
      "68\n",
      "69\n",
      "70\n",
      "71\n",
      "72\n",
      "73\n",
      "74\n",
      "75\n",
      "76\n",
      "77\n",
      "78\n",
      "79\n",
      "80\n",
      "81\n",
      "82\n",
      "83\n",
      "84\n",
      "85\n",
      "86\n",
      "87\n",
      "88\n",
      "89\n",
      "90\n",
      "91\n",
      "92\n",
      "93\n",
      "94\n",
      "95\n",
      "96\n",
      "97\n",
      "98\n",
      "99\n"
     ]
    }
   ],
   "source": [
    "for i in range(100):\n",
    "    gs = generators(perm, vecs0)\n",
    "    alphas, Cs, C0s, Ss, S0s, eigs, Ms, Js, gens, eigenvecs, saddle_vecs, scales, mults = poincare_details2(perm, vecs0, gs)\n",
    "    print(i)"
   ]
  },
  {
   "cell_type": "code",
   "execution_count": 209,
   "id": "ff626eef-4490-45a4-abfe-281ff52e6d37",
   "metadata": {},
   "outputs": [
    {
     "data": {
      "text/plain": [
       "array([[1, 7],\n",
       "       [0, 1]], dtype=object)"
      ]
     },
     "execution_count": 209,
     "metadata": {},
     "output_type": "execute_result"
    }
   ],
   "source": [
    "i = 9\n",
    "Cs[i]@gens[i]@C0s[i]"
   ]
  },
  {
   "cell_type": "code",
   "execution_count": 210,
   "id": "68a4aad3-0bed-48fd-8641-4def141a1c16",
   "metadata": {},
   "outputs": [
    {
     "data": {
      "text/plain": [
       "array([[0, 1/35],\n",
       "       [-35, -9]], dtype=object)"
      ]
     },
     "execution_count": 210,
     "metadata": {},
     "output_type": "execute_result"
    }
   ],
   "source": [
    "Cs[i]"
   ]
  },
  {
   "cell_type": "code",
   "execution_count": 211,
   "id": "204085bc-3073-4896-ab9f-c6f19c2e7a95",
   "metadata": {},
   "outputs": [
    {
     "data": {
      "text/plain": [
       "array([[-9, -1/35],\n",
       "       [35, 0]], dtype=object)"
      ]
     },
     "execution_count": 211,
     "metadata": {},
     "output_type": "execute_result"
    }
   ],
   "source": [
    "C0s[i]"
   ]
  },
  {
   "cell_type": "code",
   "execution_count": 212,
   "id": "b0a9212b-e708-4eb3-8868-716bb713973a",
   "metadata": {},
   "outputs": [
    {
     "data": {
      "text/plain": [
       "(array([[1, 7],\n",
       "        [0, 1]], dtype=object),\n",
       " array([[1, 1],\n",
       "        [0, 1]]))"
      ]
     },
     "execution_count": 212,
     "metadata": {},
     "output_type": "execute_result"
    }
   ],
   "source": [
    "Ms[i], Js[i]"
   ]
  },
  {
   "cell_type": "code",
   "execution_count": 213,
   "id": "3f829f7c-8387-47e8-8c88-7a3367f3d029",
   "metadata": {},
   "outputs": [
    {
     "data": {
      "text/plain": [
       "array([[-9],\n",
       "       [35]])"
      ]
     },
     "execution_count": 213,
     "metadata": {},
     "output_type": "execute_result"
    }
   ],
   "source": [
    "saddle_vecs[i]"
   ]
  },
  {
   "cell_type": "code",
   "execution_count": 128,
   "id": "0114de97-c144-46c1-af88-1c47bfad5c3c",
   "metadata": {},
   "outputs": [
    {
     "data": {
      "text/plain": [
       "[1 2]\n",
       "[0 1]"
      ]
     },
     "execution_count": 128,
     "metadata": {},
     "output_type": "execute_result"
    }
   ],
   "source": [
    "gens[i]"
   ]
  },
  {
   "cell_type": "code",
   "execution_count": 129,
   "id": "8cd17a56-e00c-410a-925b-98b64a327e79",
   "metadata": {},
   "outputs": [
    {
     "data": {
      "text/plain": [
       "array([[1, 1],\n",
       "       [0, 1]])"
      ]
     },
     "execution_count": 129,
     "metadata": {},
     "output_type": "execute_result"
    }
   ],
   "source": [
    "Ms[i]"
   ]
  },
  {
   "cell_type": "code",
   "execution_count": 130,
   "id": "a7f61da1-9d53-408a-a4bd-ccc6caf51a57",
   "metadata": {},
   "outputs": [
    {
     "data": {
      "text/plain": [
       "array([[sqrt(2)/2, 0],\n",
       "       [0, sqrt(2)]], dtype=object)"
      ]
     },
     "execution_count": 130,
     "metadata": {},
     "output_type": "execute_result"
    }
   ],
   "source": [
    "scales[i]"
   ]
  },
  {
   "cell_type": "code",
   "execution_count": 131,
   "id": "c2fa2c67-4a29-4a6d-8bc6-11447933d422",
   "metadata": {},
   "outputs": [
    {
     "data": {
      "text/latex": [
       "$\\displaystyle \\frac{\\sqrt{2}}{2}$"
      ],
      "text/plain": [
       "sqrt(2)/2"
      ]
     },
     "execution_count": 131,
     "metadata": {},
     "output_type": "execute_result"
    }
   ],
   "source": [
    "mults[i]"
   ]
  }
 ],
 "metadata": {
  "kernelspec": {
   "display_name": "SageMath 10.0",
   "language": "sage",
   "name": "sagemath"
  },
  "language_info": {
   "codemirror_mode": {
    "name": "ipython",
    "version": 3
   },
   "file_extension": ".py",
   "mimetype": "text/x-python",
   "name": "python",
   "nbconvert_exporter": "python",
   "pygments_lexer": "ipython3",
   "version": "3.9.18"
  }
 },
 "nbformat": 4,
 "nbformat_minor": 5
}
