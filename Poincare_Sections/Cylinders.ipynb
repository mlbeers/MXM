{
 "cells": [
  {
   "cell_type": "code",
   "execution_count": 1,
   "id": "9b464994-9c4b-4988-bd9b-cda4e215db57",
   "metadata": {},
   "outputs": [],
   "source": [
    "# 7-0, 7-3, 7-7, 7-19, 7-29, 7-41\n",
    "\n",
    "import numpy as np\n",
    "from matplotlib import pyplot as plt\n",
    "import pandas as pd\n",
    "from flatsurf import *\n",
    "import numpy as np\n",
    "from matplotlib import pyplot as plt\n",
    "import os\n",
    "import pwlf\n",
    "import os\n",
    "from surface_dynamics.all import *\n",
    "from Library import *\n",
    "from Library import Section\n",
    "import math\n",
    "from time import time\n",
    "import copy\n",
    "from scipy import integrate\n",
    "\n",
    "import sympy as sym\n",
    "from sympy import Symbol\n",
    "from sympy import solve, lambdify"
   ]
  },
  {
   "cell_type": "code",
   "execution_count": 2,
   "id": "3bcb9a99-5a3b-4dac-981e-ee7e263c1de0",
   "metadata": {},
   "outputs": [],
   "source": [
    "#Code from Sunrose \n",
    "#Gives non-visibility tori for testing\n",
    "D = OrigamiDatabase()\n",
    "q = D.query()\n",
    "qlist = q.list()\n",
    "\n",
    "def unit_hor_saddle(O):\n",
    "    count = 0\n",
    "    for vert in O.vertices():\n",
    "        tup = vert.up_right_tuple()\n",
    "        for i in tup:\n",
    "            for vert2 in O.vertices():\n",
    "                tup2 = vert2.up_right_tuple()\n",
    "                if O.r()(i) in tup2:\n",
    "                    return True\n",
    "    return False\n",
    "\n",
    "def is_unobstructed(O):\n",
    "    cusp_reps = O.teichmueller_curve().cusp_representatives()\n",
    "    for item in cusp_reps:\n",
    "        if not unit_hor_saddle(item[0]):\n",
    "            return False\n",
    "    return True\n",
    "\n",
    "def obstructed(n, **kwargs):\n",
    "    obstructed = []\n",
    "    count_obstructed = 0\n",
    "    p = D.query(nb_squares=n, **kwargs)\n",
    "    for item in p:\n",
    "        if not is_unobstructed(item):\n",
    "            obstructed.append(item)\n",
    "            count_obstructed+= item.teichmueller_curve().orbit_graph().num_verts()\n",
    "    return (obstructed, count_obstructed)"
   ]
  },
  {
   "cell_type": "code",
   "execution_count": 3,
   "id": "966b5886-1647-4a90-a533-67f6039602ba",
   "metadata": {},
   "outputs": [],
   "source": [
    "# list of permutations\n",
    "def perms_list(n, **kwargs):\n",
    "    obstructed = []\n",
    "    p = D.query(nb_squares=n, **kwargs)\n",
    "    for item in p:\n",
    "        if not is_unobstructed(item):\n",
    "            obstructed.append(item)\n",
    "            for perm in item.teichmueller_curve():\n",
    "                obstructed.append(perm)\n",
    "    return obstructed"
   ]
  },
  {
   "cell_type": "code",
   "execution_count": 4,
   "id": "9aa221d7-6702-49c3-94ce-cdc8415d16e4",
   "metadata": {},
   "outputs": [
    {
     "data": {
      "text/plain": [
       "(1)(2)(3)(4)(5)(6,7)\n",
       "(1,2,3,4,5,6)(7)"
      ]
     },
     "execution_count": 4,
     "metadata": {},
     "output_type": "execute_result"
    }
   ],
   "source": [
    "permutations = perms_list(7)\n",
    "perm = permutations[0]\n",
    "perm"
   ]
  },
  {
   "cell_type": "code",
   "execution_count": 36,
   "id": "57e92962-2c5d-49a8-a976-f32ed5a90c71",
   "metadata": {},
   "outputs": [],
   "source": [
    "from surface_dynamics.all import Origami\n",
    "\n",
    "# Define the horizontal and vertical permutations\n",
    "horizontal = '(1,2)(3)'  # Identity except for 6 <-> 7\n",
    "vertical = '(1,3)(2)'  # Cyclic on 1-6, fixed 7\n",
    "\n",
    "horizontal = '(1)(2)(3)(4)(5)(6,7)'  # Identity except for 6 <-> 7\n",
    "vertical = '(1,2,3,4,5,6)(7)'  # Cyclic on 1-6, fixed 7\n",
    "\n",
    "# Create the Origami object\n",
    "s = Origami(horizontal, vertical)\n",
    "\n",
    "# Print details about the surface\n",
    "c = square_tiled_surface.cylinder_diagram()\n",
    "separatrix_diagram = c.separatrix_diagram()"
   ]
  },
  {
   "cell_type": "code",
   "execution_count": 37,
   "id": "6e36e653-007f-4a93-bd41-7ee7028f0ad0",
   "metadata": {},
   "outputs": [
    {
     "data": {
      "image/png": "[encoded data removed]",
      "text/plain": [
       "Graphics object consisting of 71 graphics primitives"
      ]
     },
     "metadata": {},
     "output_type": "display_data"
    }
   ],
   "source": [
    "s.show()"
   ]
  },
  {
   "cell_type": "code",
   "execution_count": 38,
   "id": "c1de477e-5bbe-49cf-bd4e-ece577ca8a63",
   "metadata": {},
   "outputs": [
    {
     "data": {
      "text/plain": [
       "(0)-(0)"
      ]
     },
     "execution_count": 38,
     "metadata": {},
     "output_type": "execute_result"
    }
   ],
   "source": [
    "separatrix_diagram"
   ]
  },
  {
   "cell_type": "code",
   "execution_count": 44,
   "id": "48d5b210-8dcf-49a1-82b6-dde196e5e80f",
   "metadata": {},
   "outputs": [
    {
     "data": {
      "text/plain": [
       "(\n",
       "[ 10   3]      \n",
       "[-27  -8], 3, 1\n",
       ")"
      ]
     },
     "execution_count": 44,
     "metadata": {},
     "output_type": "execute_result"
    }
   ],
   "source": [
    "v = s.veech_group()\n",
    "cusps = v.cusps()\n",
    "for cu\n",
    "v.cusp_data(cusp[5])"
   ]
  },
  {
   "cell_type": "code",
   "execution_count": 45,
   "id": "373db052-e331-4171-81e2-7dd66752446d",
   "metadata": {},
   "outputs": [],
   "source": [
    "generators = []\n",
    "a = s.veech_group().cusps()\n",
    "for item in a:\n",
    "    m = s.veech_group().cusp_data(item)[0]\n",
    "    generators.append(m.matrix())"
   ]
  },
  {
   "cell_type": "code",
   "execution_count": 46,
   "id": "1dedf44f-1bc7-4a51-8351-2d08ff8b40ef",
   "metadata": {},
   "outputs": [
    {
     "data": {
      "text/plain": [
       "[\n",
       "[1 2]  [-344  225]  [-10359   4900]  [-271  128]  [ 1  0]  [ 10   3]\n",
       "[0 1], [-529  346], [-21904  10361], [-578  273], [-6  1], [-27  -8],\n",
       "\n",
       "[-59  40]  [-23  12]  [-6  7]  [-1196   567]\n",
       "[-90  61], [-48  25], [-7  8], [-2527  1198]\n",
       "]"
      ]
     },
     "execution_count": 46,
     "metadata": {},
     "output_type": "execute_result"
    }
   ],
   "source": [
    "generators"
   ]
  },
  {
   "cell_type": "code",
   "execution_count": 47,
   "id": "e2e09362-0485-4861-b5d9-ecde5821b4eb",
   "metadata": {},
   "outputs": [],
   "source": [
    "eigs = []\n",
    "for matrix in generators:\n",
    "    eig1, eig2 = matrix.eigenvalues()\n",
    "    if eig1 == eig2:\n",
    "        if eig1 == 1:\n",
    "            eigs.append(eig1)\n",
    "        else:\n",
    "            raise ValueError(\"Eigenvalue not equal to 1\")\n",
    "    else:\n",
    "        raise ValueError(\"Different eigenvalues\")\n",
    "# find the eigenvectors for each generator\n",
    "eigenvecs = []\n",
    "for matrix in generators:\n",
    "    vec = matrix.eigenvectors_right()[0][1][0]\n",
    "    vec = np.array([[vec[0]], [vec[1]]])\n",
    "    eigenvecs.append(vec)"
   ]
  },
  {
   "cell_type": "code",
   "execution_count": 52,
   "id": "c30ac9bf-59f9-4bb0-b538-48f2260d6933",
   "metadata": {},
   "outputs": [
    {
     "name": "stdout",
     "output_type": "stream",
     "text": [
      "generator: \n",
      "[1 2]\n",
      "[0 1]\n",
      " eigenvector: \n",
      "[[1]\n",
      " [0]]\n",
      "\n",
      "\n",
      "generator: \n",
      "[-344  225]\n",
      "[-529  346]\n",
      " eigenvector: \n",
      "[[1.        ]\n",
      " [1.53333333]]\n",
      "\n",
      "\n",
      "generator: \n",
      "[-10359   4900]\n",
      "[-21904  10361]\n",
      " eigenvector: \n",
      "[[1.        ]\n",
      " [2.11428571]]\n",
      "\n",
      "\n",
      "generator: \n",
      "[-271  128]\n",
      "[-578  273]\n",
      " eigenvector: \n",
      "[[1.   ]\n",
      " [2.125]]\n",
      "\n",
      "\n",
      "generator: \n",
      "[ 1  0]\n",
      "[-6  1]\n",
      " eigenvector: \n",
      "[[0]\n",
      " [1]]\n",
      "\n",
      "\n",
      "generator: \n",
      "[ 10   3]\n",
      "[-27  -8]\n",
      " eigenvector: \n",
      "[[ 1]\n",
      " [-3]]\n",
      "\n",
      "\n",
      "generator: \n",
      "[-59  40]\n",
      "[-90  61]\n",
      " eigenvector: \n",
      "[[1. ]\n",
      " [1.5]]\n",
      "\n",
      "\n",
      "generator: \n",
      "[-23  12]\n",
      "[-48  25]\n",
      " eigenvector: \n",
      "[[1]\n",
      " [2]]\n",
      "\n",
      "\n",
      "generator: \n",
      "[-6  7]\n",
      "[-7  8]\n",
      " eigenvector: \n",
      "[[1]\n",
      " [1]]\n",
      "\n",
      "\n",
      "generator: \n",
      "[-1196   567]\n",
      "[-2527  1198]\n",
      " eigenvector: \n",
      "[[1.        ]\n",
      " [2.11111111]]\n",
      "\n",
      "\n"
     ]
    }
   ],
   "source": [
    "for gen, vec in zip(generators, eigenvecs):\n",
    "    print(f\"generator: \\n{gen}\\n eigenvector: \\n{vec}\\n\\n\")"
   ]
  },
  {
   "cell_type": "code",
   "execution_count": null,
   "id": "a2cd745b-a6df-4911-9f62-3087b55fb6eb",
   "metadata": {},
   "outputs": [],
   "source": []
  }
 ],
 "metadata": {
  "kernelspec": {
   "display_name": "SageMath 10.0",
   "language": "sage",
   "name": "sagemath"
  },
  "language_info": {
   "codemirror_mode": {
    "name": "ipython",
    "version": 3
   },
   "file_extension": ".py",
   "mimetype": "text/x-python",
   "name": "python",
   "nbconvert_exporter": "python",
   "pygments_lexer": "ipython3",
   "version": "3.9.18"
  }
 },
 "nbformat": 4,
 "nbformat_minor": 5
}
