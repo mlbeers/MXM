{
 "cells": [
  {
   "cell_type": "code",
   "execution_count": 1,
   "id": "15043db2-8a0f-4d8a-a06a-747d76aba712",
   "metadata": {},
   "outputs": [],
   "source": [
    "import numpy as np\n",
    "from matplotlib import pyplot as plt\n",
    "import pandas as pd\n",
    "from flatsurf import *\n",
    "import numpy as np\n",
    "from matplotlib import pyplot as plt\n",
    "import os\n",
    "import pwlf\n",
    "import os\n",
    "from surface_dynamics.all import *\n",
    "from Library import *\n",
    "from Library import Section\n",
    "import math\n",
    "from time import time\n",
    "import copy\n",
    "from scipy import integrate\n",
    "import sympy as sym\n",
    "from sympy import Symbol\n",
    "from sympy import solve, lambdify\n",
    "import traceback\n",
    "import dill\n",
    "import sys"
   ]
  },
  {
   "cell_type": "code",
   "execution_count": 2,
   "id": "c6bcdc6a-8d25-447a-af22-c06ab7245542",
   "metadata": {},
   "outputs": [],
   "source": [
    "# list of permutations\n",
    "def perms_list(n, **kwargs):\n",
    "    obstructed = []\n",
    "    p = D.query(nb_squares=n, **kwargs)\n",
    "    for item in p:\n",
    "        if not is_unobstructed(item):\n",
    "            obstructed.append(item)\n",
    "            for perm in item.teichmueller_curve():\n",
    "                obstructed.append(perm)\n",
    "    return obstructed"
   ]
  },
  {
   "cell_type": "code",
   "execution_count": 3,
   "id": "22e2a384",
   "metadata": {},
   "outputs": [],
   "source": [
    "# take files from saddle.py and load them into notebook\n",
    "def load_arrays_from_file(file_path):\n",
    "    # Load arrays from the NumPy file\n",
    "    arrays_list = np.load(file_path, allow_pickle=True)\n",
    "    \n",
    "    # Ensure each element in the list is a NumPy array\n",
    "    arrays_list = [np.array(array) for array in arrays_list]\n",
    "    \n",
    "    return arrays_list"
   ]
  },
  {
   "cell_type": "code",
   "execution_count": 4,
   "id": "0dd7d9c4-0adb-4419-8505-a5f6545b2179",
   "metadata": {},
   "outputs": [],
   "source": [
    "# 7-0, 7-3, 7-7, 7-19, 7-29, 7-41\n",
    "n_squares = 7\n",
    "index = 0\n",
    "j = 0\n",
    "dx = 0.0005"
   ]
  },
  {
   "cell_type": "code",
   "execution_count": 5,
   "id": "1dae44cb",
   "metadata": {},
   "outputs": [],
   "source": [
    "permutations = perms_list(n_squares)\n",
    "perm = permutations[index]\n",
    "\n",
    "vec_file = \"vecs\" + str(n_squares) + \"-\" + str(index) + \".npy\"\n",
    "vecs0 = load_arrays_from_file(os.path.join(\"vecs\", vec_file))"
   ]
  },
  {
   "cell_type": "code",
   "execution_count": 6,
   "id": "85fb72ba-3614-4539-ae36-f6225d012980",
   "metadata": {},
   "outputs": [
    {
     "data": {
      "text/plain": [
       "11928828"
      ]
     },
     "execution_count": 6,
     "metadata": {},
     "output_type": "execute_result"
    }
   ],
   "source": [
    "len(vecs0)"
   ]
  },
  {
   "cell_type": "code",
   "execution_count": 7,
   "id": "675f436e",
   "metadata": {},
   "outputs": [
    {
     "data": {
      "text/plain": [
       "1000000"
      ]
     },
     "execution_count": 7,
     "metadata": {},
     "output_type": "execute_result"
    }
   ],
   "source": [
    "# can change the value\n",
    "vecs = vecs0[:1000000]\n",
    "len(vecs)"
   ]
  },
  {
   "cell_type": "code",
   "execution_count": null,
   "id": "100456c5",
   "metadata": {},
   "outputs": [
    {
     "name": "stdout",
     "output_type": "stream",
     "text": [
      "\n",
      "num: 0\n"
     ]
    }
   ],
   "source": [
    "#generate a list of alpha, c matrices, and eigenvectors for each cusp of the STS to experiment with to find \"nice\" sections for our poincare sections\n",
    "a = []\n",
    "c = []\n",
    "e = []\n",
    "g = []\n",
    "m = []\n",
    "\n",
    "a1 = []\n",
    "c1 = []\n",
    "e1 = []\n",
    "g1 = []\n",
    "m1 = []\n",
    "\n",
    "# can change the number of iterations as you see fit\n",
    "for num in range(5):\n",
    "    print()\n",
    "    print(f'num: {num}')\n",
    "    gs = generators(perm, vecs0)\n",
    "    try:\n",
    "        t0 = time()\n",
    "        alphas, Cs, C_invs, eigs, Ms, gens, eigenvecs = poincare_details(perm, vecs0, gs)\n",
    "        t1 = time()\n",
    "        print(f'old: {t1-t0}')\n",
    "        a.append(alphas)\n",
    "        c.append(Cs)\n",
    "        e.append(eigenvecs)\n",
    "        g.append(gens)\n",
    "        m.append(Ms)\n",
    "    except DetailsError as e:\n",
    "        print(\"custom\")\n",
    "\n",
    "    try:\n",
    "        t2 = time()\n",
    "        alphas1, Cs1, C_invs1, eigs1, Ms1, gens1, eigenvecs1 = poincare_details1(perm, vecs0, gs)\n",
    "        t3 = time()\n",
    "        print()\n",
    "        print(f'new: {t3-t2}')\n",
    "        a1.append(alphas1)\n",
    "        c1.append(Cs1)\n",
    "        e1.append(eigenvecs1)\n",
    "        g1.append(gens1)\n",
    "        m1.append(Ms1)\n",
    "    except DetailsError as e:\n",
    "        print(\"custom\")\n",
    "    \n",
    "print(len(a))\n",
    "print(len(a1))"
   ]
  },
  {
   "cell_type": "code",
   "execution_count": null,
   "id": "9a00bdef-0974-4479-964a-5f7bf0557f4a",
   "metadata": {},
   "outputs": [],
   "source": [
    "alphas[3], Cs[3], C_invs[3], eigs[3], Ms[3], gens[3], eigenvecs[3]"
   ]
  },
  {
   "cell_type": "code",
   "execution_count": null,
   "id": "0f509541-35f1-46ca-a749-ba98827962a6",
   "metadata": {},
   "outputs": [],
   "source": [
    "for c in m1:\n",
    "    for i in range(len(c)):\n",
    "        print(f'{i}: {c[i]}')\n",
    "        print()"
   ]
  },
  {
   "cell_type": "code",
   "execution_count": null,
   "id": "d2c7cfd1",
   "metadata": {},
   "outputs": [],
   "source": [
    "# each run of the details function will produce a list of alphas for each cusps, in this case 10 items.\n",
    "# The generators fucntion outputs a different result each time so we run it multiple times and test output. \n",
    "# It is not an error in the code if you run the details function 10 times and only get one result, it does happen.\n",
    "# using more vectors in your calculations should give you more consistent results\n",
    "\n",
    "# i is the number of alpha lists you have\n",
    "# j is the alpha value at that cusp\n",
    "\n",
    "for i in range(len(a)):\n",
    "    for j in range(len(a[0])):\n",
    "        if a[i][j] != a1[i][j]:\n",
    "            print(f'old: {a[i][j]}, new: {a1[i][j]}, i: {i}, j: {j}')\n",
    "print(\"done\")"
   ]
  },
  {
   "cell_type": "code",
   "execution_count": null,
   "id": "3dc05522-d071-4fbd-8b66-415b2c8e594f",
   "metadata": {},
   "outputs": [],
   "source": [
    "a"
   ]
  },
  {
   "cell_type": "code",
   "execution_count": null,
   "id": "73b16c50-7547-4e97-a3f0-27166dd2d887",
   "metadata": {},
   "outputs": [],
   "source": [
    "a1"
   ]
  },
  {
   "cell_type": "code",
   "execution_count": null,
   "id": "371348f2-e654-468f-8264-e50ba2b786be",
   "metadata": {},
   "outputs": [],
   "source": [
    "c"
   ]
  },
  {
   "cell_type": "code",
   "execution_count": null,
   "id": "4e7a91e4-86f0-4825-ab12-282051157fae",
   "metadata": {},
   "outputs": [],
   "source": []
  }
 ],
 "metadata": {
  "kernelspec": {
   "display_name": "SageMath 10.0",
   "language": "sage",
   "name": "sagemath"
  },
  "language_info": {
   "codemirror_mode": {
    "name": "ipython",
    "version": 3
   },
   "file_extension": ".py",
   "mimetype": "text/x-python",
   "name": "python",
   "nbconvert_exporter": "python",
   "pygments_lexer": "ipython3",
   "version": "3.9.18"
  }
 },
 "nbformat": 4,
 "nbformat_minor": 5
}
