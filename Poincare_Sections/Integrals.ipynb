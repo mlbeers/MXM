{
 "cells": [
  {
   "cell_type": "code",
   "execution_count": 1,
   "id": "67dabc07-f9ed-4ae8-b5d1-ff7c4d60515c",
   "metadata": {},
   "outputs": [],
   "source": [
    "import numpy as np\n",
    "from matplotlib import pyplot as plt\n",
    "import pandas as pd\n",
    "from flatsurf import *\n",
    "import numpy as np\n",
    "from matplotlib import pyplot as plt\n",
    "import os\n",
    "import pwlf\n",
    "import os\n",
    "from surface_dynamics.all import *\n",
    "from Library import *\n",
    "from Library import Section\n",
    "import math\n",
    "from time import time\n",
    "import copy\n",
    "from scipy import integrate\n",
    "import sympy as sym\n",
    "from sympy import Symbol\n",
    "from sympy import solve, lambdify\n",
    "import traceback\n",
    "import dill"
   ]
  },
  {
   "cell_type": "code",
   "execution_count": 2,
   "id": "b6a0506b-dcc0-4115-bdb1-d2bbaa66459e",
   "metadata": {},
   "outputs": [],
   "source": [
    "# 7-0, 7-3, 7-7, 7-19, 7-29, 7-41\n",
    "n_squares = 7\n",
    "index = 1\n",
    "j = 0\n",
    "dx = 0.0005"
   ]
  },
  {
   "cell_type": "code",
   "execution_count": 3,
   "id": "8ec5d5ef-ef63-4750-a38b-baffcc9032db",
   "metadata": {},
   "outputs": [
    {
     "ename": "NameError",
     "evalue": "name 'print_secs' is not defined",
     "output_type": "error",
     "traceback": [
      "\u001b[0;31m---------------------------------------------------------------------------\u001b[0m",
      "\u001b[0;31mNameError\u001b[0m                                 Traceback (most recent call last)",
      "Cell \u001b[0;32mIn[3], line 16\u001b[0m\n\u001b[1;32m     13\u001b[0m \u001b[38;5;28;01mwith\u001b[39;00m \u001b[38;5;28mopen\u001b[39m(os\u001b[38;5;241m.\u001b[39mpath\u001b[38;5;241m.\u001b[39mjoin(\u001b[38;5;124m\"\u001b[39m\u001b[38;5;124mresults\u001b[39m\u001b[38;5;124m\"\u001b[39m, \u001b[38;5;124mf\u001b[39m\u001b[38;5;124m\"\u001b[39m\u001b[38;5;132;01m{\u001b[39;00mn_squares\u001b[38;5;132;01m}\u001b[39;00m\u001b[38;5;124m - \u001b[39m\u001b[38;5;132;01m{\u001b[39;00mindex\u001b[38;5;132;01m}\u001b[39;00m\u001b[38;5;124m\"\u001b[39m, \u001b[38;5;124mf\u001b[39m\u001b[38;5;124m\"\u001b[39m\u001b[38;5;124msecs - \u001b[39m\u001b[38;5;132;01m{\u001b[39;00mj\u001b[38;5;132;01m}\u001b[39;00m\u001b[38;5;124m.dill\u001b[39m\u001b[38;5;124m\"\u001b[39m), \u001b[38;5;124m'\u001b[39m\u001b[38;5;124mrb\u001b[39m\u001b[38;5;124m'\u001b[39m) \u001b[38;5;28;01mas\u001b[39;00m f:\n\u001b[1;32m     14\u001b[0m     secs \u001b[38;5;241m=\u001b[39m dill\u001b[38;5;241m.\u001b[39mload(f)\n\u001b[0;32m---> 16\u001b[0m \u001b[43mprint_secs\u001b[49m(secs)\n",
      "\u001b[0;31mNameError\u001b[0m: name 'print_secs' is not defined"
     ]
    }
   ],
   "source": [
    "permutations = perms_list(n_squares)\n",
    "perm = permutations[index]\n",
    "\n",
    "vec_file = \"vecs\" + str(n_squares) + \"-\" + str(index) + \".npy\"\n",
    "vecs0 = load_arrays_from_file(os.path.join(\"vecs\", vec_file))\n",
    "\n",
    "with open(os.path.join(\"results\", f\"{n_squares} - {index}\", \"setup.dill\"), 'rb') as f:\n",
    "    loaded_data = dill.load(f)\n",
    "a,c,e,g = loaded_data\n",
    "\n",
    "df = read_df(n_squares, index, j)\n",
    "\n",
    "with open(os.path.join(\"results\", f\"{n_squares} - {index}\", f\"secs - {j}.dill\"), 'rb') as f:\n",
    "    secs = dill.load(f)"
   ]
  },
  {
   "cell_type": "code",
   "execution_count": 9,
   "id": "0e21e66b-60cb-4de5-ba54-6f8247853283",
   "metadata": {},
   "outputs": [
    {
     "data": {
      "image/png": "[encoded data removed]",
      "text/plain": [
       "Graphics object consisting of 71 graphics primitives"
      ]
     },
     "metadata": {},
     "output_type": "display_data"
    }
   ],
   "source": [
    "perm.show()"
   ]
  },
  {
   "cell_type": "code",
   "execution_count": 8,
   "id": "e6d791c6-bafb-45c1-973a-a9709aa5137c",
   "metadata": {},
   "outputs": [
    {
     "name": "stdout",
     "output_type": "stream",
     "text": [
      "1.\n",
      "x0 = 2;\n",
      "y0 = 1;\n",
      "\n",
      "top = -2*x + 1;\n",
      "bottomL = -3*x + 1;\n",
      "left = 0;\n",
      "\n",
      "--------------------------------------------------\n",
      "\n",
      "2.\n",
      "x0 = 1;\n",
      "y0 = 1;\n",
      "\n",
      "top = -1*x + 1;\n",
      "bottomL = -2*x + 1;\n",
      "left = 0;\n",
      "\n",
      "--------------------------------------------------\n",
      "\n"
     ]
    }
   ],
   "source": [
    "print_secs(secs)"
   ]
  },
  {
   "cell_type": "code",
   "execution_count": null,
   "id": "d555371a-1eec-4d62-81f6-3888a119819b",
   "metadata": {},
   "outputs": [],
   "source": [
    "len(vecs0)"
   ]
  },
  {
   "cell_type": "code",
   "execution_count": 4,
   "id": "7f31bf71-6a9f-44d7-a2f8-7b49f3c512c4",
   "metadata": {},
   "outputs": [],
   "source": [
    "def print_secs(secs):\n",
    "    j = 0\n",
    "    for sec in secs:\n",
    "        j+=1\n",
    "        output = str(j) + \".\\n\"\n",
    "        output = output + \"x0 = \" + str(simplify(sec.vec[0][0])) + \";\\n\"\n",
    "        output = output + \"y0 = \" + str(simplify(sec.vec[1][0])) + \";\\n\"\n",
    "        output = output + \"\\n\"\n",
    "        output = output + \"top = \" + str(simplify_eq(sec.top[0])) + \";\\n\"\n",
    "        for i in range(len(sec.bottom)):\n",
    "            if (i==0):\n",
    "                output = output + \"bottom\" + str(\"L\") + \" = \" + str(simplify_eq(sec.bottom[i])) + \";\\n\"\n",
    "            else:\n",
    "                output = output + \"bottom\" + str(\"R\") + \" = \" + str(simplify_eq(sec.bottom[i])) + \";\\n\"\n",
    "        if (i != 0):\n",
    "            output = output + \"point = \" + str(simplify(sec.points_bottom[1])) + \";\\n\"\n",
    "        output = output + \"left = \" + str(simplify(sec.points_bottom[0])) + \";\\n\"\n",
    "        print(output)\n",
    "        print(\"--------------------------------------------------\\n\")"
   ]
  },
  {
   "cell_type": "code",
   "execution_count": 6,
   "id": "02a934d5-18c5-4edd-bb5d-96f96b4895db",
   "metadata": {},
   "outputs": [],
   "source": [
    "def simplify_eq(expr):\n",
    "    dict = expr.as_coefficients_dict()\n",
    "    b = dict[1]\n",
    "    m = dict[x]\n",
    "\n",
    "    m1 = None\n",
    "    b1 = None\n",
    "\n",
    "    m_num = None\n",
    "    m_den = None\n",
    "    b_num = None\n",
    "    b_den = None\n",
    "    \n",
    "    m_diff = 1\n",
    "    b_diff = 1\n",
    "    m_decimal = m - int(m)\n",
    "    b_decimal = b - int(b)\n",
    "    \n",
    "    for i in range(10, 0, -1):\n",
    "        for j in range(i+1):\n",
    "            if(m < 0):\n",
    "                m_result = abs(j/i + m_decimal)\n",
    "            else:\n",
    "                m_result = abs(j/i - m_decimal)\n",
    "\n",
    "            if(b < 0):\n",
    "                b_result = abs(j/i + b_decimal)\n",
    "            else:\n",
    "                b_result = abs(j/i - b_decimal)\n",
    "\n",
    "            if(m_result <= m_diff):\n",
    "                m_diff = m_result\n",
    "                if (m < 0):\n",
    "                    m_num = int(m)*i - j\n",
    "                    m_den = i\n",
    "                else:\n",
    "                    m_num = int(m)*i + j\n",
    "                    m_den = i\n",
    "\n",
    "            if(b_result <= b_diff):\n",
    "                b_diff = b_result\n",
    "                if (b < 0):\n",
    "                    b_num = int(b)*i - j\n",
    "                    b_den = i\n",
    "                else:\n",
    "                    b_num = int(b)*i + j\n",
    "                    b_den = i\n",
    "                    \n",
    "    if(m_den == 1):\n",
    "        m1 = str(m_num)\n",
    "    else:\n",
    "        m1 = str(m_num) + \"/\" + str(m_den)\n",
    "\n",
    "    if(b_den == 1):\n",
    "        b1 = str(b_num)\n",
    "    else:\n",
    "        b1 = str(b_num) + \"/\" + str(b_den)\n",
    "        \n",
    "    return  m1 + \"*x + \" + b1"
   ]
  },
  {
   "cell_type": "code",
   "execution_count": 7,
   "id": "13fc30c0-d6b8-4a0d-a59a-449446f1f1d4",
   "metadata": {},
   "outputs": [],
   "source": [
    "def simplify(m):\n",
    "\n",
    "    m1 = None\n",
    "\n",
    "    m_num = None\n",
    "    m_den = None\n",
    "    \n",
    "    m_diff = 1\n",
    "    m_decimal = m - int(m)\n",
    "    \n",
    "    for i in range(10, 0, -1):\n",
    "        for j in range(i+1):\n",
    "            if(m < 0):\n",
    "                m_result = abs(j/i + m_decimal)\n",
    "            else:\n",
    "                m_result = abs(j/i - m_decimal)\n",
    "\n",
    "            if(m_result <= m_diff):\n",
    "                m_diff = m_result\n",
    "                if (m < 0):\n",
    "                    m_num = int(m)*i - j\n",
    "                    m_den = i\n",
    "                else:\n",
    "                    m_num = int(m)*i + j\n",
    "                    m_den = i\n",
    "                    \n",
    "    if(m_den == 1):\n",
    "        m1 = str(m_num)\n",
    "    else:\n",
    "        m1 = str(m_num) + \"/\" + str(m_den)\n",
    "        \n",
    "    return  m1"
   ]
  },
  {
   "cell_type": "code",
   "execution_count": null,
   "id": "3b63468a-eff6-4d76-bb40-c117c3966fe3",
   "metadata": {},
   "outputs": [],
   "source": []
  }
 ],
 "metadata": {
  "kernelspec": {
   "display_name": "SageMath 10.0",
   "language": "sage",
   "name": "sagemath"
  },
  "language_info": {
   "codemirror_mode": {
    "name": "ipython",
    "version": 3
   },
   "file_extension": ".py",
   "mimetype": "text/x-python",
   "name": "python",
   "nbconvert_exporter": "python",
   "pygments_lexer": "ipython3",
   "version": "3.9.18"
  }
 },
 "nbformat": 4,
 "nbformat_minor": 5
}
