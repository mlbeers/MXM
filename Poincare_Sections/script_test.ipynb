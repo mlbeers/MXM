{
 "cells": [
  {
   "cell_type": "code",
   "execution_count": 2,
   "id": "f1c90d49-d158-4554-b880-98a69a80ae57",
   "metadata": {},
   "outputs": [],
   "source": [
    "import numpy as np\n",
    "from matplotlib import pyplot as plt\n",
    "import pandas as pd\n",
    "from flatsurf import *\n",
    "import numpy as np\n",
    "from matplotlib import pyplot as plt\n",
    "import os\n",
    "import pwlf\n",
    "import os\n",
    "from surface_dynamics.all import *\n",
    "from Library import *\n",
    "from Library import Section\n",
    "import math\n",
    "from time import time\n",
    "import copy\n",
    "from scipy import integrate\n",
    "import sympy as sym\n",
    "from sympy import Symbol\n",
    "from sympy import solve, lambdify\n",
    "import traceback\n",
    "import dill"
   ]
  },
  {
   "cell_type": "code",
   "execution_count": 6,
   "id": "4472543f-2363-428e-b5ad-2fd58906b8d2",
   "metadata": {},
   "outputs": [],
   "source": [
    "n_squares = 9\n",
    "index = 0\n",
    "j = 1\n",
    "dx = 0.0005"
   ]
  },
  {
   "cell_type": "code",
   "execution_count": 7,
   "id": "e3568a41-da20-4e1c-be12-89eecca5df24",
   "metadata": {},
   "outputs": [],
   "source": [
    "permutations = perms_list(n_squares)\n",
    "perm = permutations[index]\n",
    "\n",
    "vec_file = \"vecs\" + str(n_squares) + \"-\" + str(index) + \".npy\"\n",
    "vecs0 = load_arrays_from_file(os.path.join(\"vecs\", vec_file))\n",
    "\n",
    "with open(os.path.join(\"results\", f\"{n_squares} - {index}\", \"setup.dill\"), 'rb') as f:\n",
    "    loaded_data = dill.load(f)\n",
    "a,c,e,g = loaded_data\n",
    "\n",
    "df = read_df(n_squares, index, j)\n",
    "\n",
    "with open(os.path.join(\"results\", f\"{n_squares} - {index}\", f\"secs - {j}.dill\"), 'rb') as f:\n",
    "    secs = dill.load(f)"
   ]
  },
  {
   "cell_type": "code",
   "execution_count": 5,
   "id": "3bfd3583-445f-4310-b5a9-bc78eb1c93af",
   "metadata": {},
   "outputs": [],
   "source": [
    "times = [1]\n",
    "if j = 0:\n",
    "    times = time_comp(secs)\n",
    "a = pdf(list(df[\"time\"]), times, dx*2, n_squares, index, j)"
   ]
  },
  {
   "cell_type": "code",
   "execution_count": 6,
   "id": "c980a68d-d7b3-4b3d-adfb-f0005016d182",
   "metadata": {},
   "outputs": [
    {
     "data": {
      "text/plain": [
       "[1.00086582305395]"
      ]
     },
     "execution_count": 6,
     "metadata": {},
     "output_type": "execute_result"
    }
   ],
   "source": [
    "times"
   ]
  },
  {
   "cell_type": "code",
   "execution_count": 4,
   "id": "af001b72-0255-4c1f-978e-b6c2a93c8895",
   "metadata": {},
   "outputs": [
    {
     "data": {
      "text/plain": [
       "81"
      ]
     },
     "execution_count": 4,
     "metadata": {},
     "output_type": "execute_result"
    }
   ],
   "source": [
    "perm.veech_group().index()"
   ]
  },
  {
   "cell_type": "code",
   "execution_count": 8,
   "id": "358bf366-0ed5-457f-af4d-2d18e95563c7",
   "metadata": {},
   "outputs": [
    {
     "data": {
      "text/plain": [
       "3.1316113024841647"
      ]
     },
     "execution_count": 8,
     "metadata": {},
     "output_type": "execute_result"
    }
   ],
   "source": [
    "covolume(secs)"
   ]
  },
  {
   "cell_type": "code",
   "execution_count": null,
   "id": "5acc7403-f0e0-4cd4-833a-c6364c8d3097",
   "metadata": {},
   "outputs": [],
   "source": []
  }
 ],
 "metadata": {
  "kernelspec": {
   "display_name": "SageMath 10.0",
   "language": "sage",
   "name": "sagemath"
  },
  "language_info": {
   "codemirror_mode": {
    "name": "ipython",
    "version": 3
   },
   "file_extension": ".py",
   "mimetype": "text/x-python",
   "name": "python",
   "nbconvert_exporter": "python",
   "pygments_lexer": "ipython3",
   "version": "3.9.18"
  }
 },
 "nbformat": 4,
 "nbformat_minor": 5
}
