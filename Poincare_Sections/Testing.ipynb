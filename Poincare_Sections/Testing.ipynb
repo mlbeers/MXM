{
 "cells": [
  {
   "cell_type": "code",
   "execution_count": 1,
   "id": "686f8b64-ed5a-45c4-ac88-4d7aa3d582b1",
   "metadata": {},
   "outputs": [],
   "source": [
    "import numpy as np\n",
    "from matplotlib import pyplot as plt\n",
    "import pandas as pd\n",
    "from flatsurf import *\n",
    "import numpy as np\n",
    "from matplotlib import pyplot as plt\n",
    "import os\n",
    "import pwlf\n",
    "import sympy as sym\n",
    "from sympy import Symbol\n",
    "from sympy import solve, lambdify\n",
    "import os\n",
    "from Poincare import *\n",
    "from Poincare import Section\n",
    "import math\n",
    "from surface_dynamics.all import *\n",
    "from time import time"
   ]
  },
  {
   "cell_type": "code",
   "execution_count": 2,
   "id": "48367d68-06f5-4f2f-b7c8-d7712cc43e94",
   "metadata": {},
   "outputs": [],
   "source": [
    "#Code from Sunrose \n",
    "#Gives non-visibility tori for testing\n",
    "D = OrigamiDatabase()\n",
    "q = D.query()\n",
    "qlist = q.list()\n",
    "\n",
    "def unit_hor_saddle(O):\n",
    "    count = 0\n",
    "    for vert in O.vertices():\n",
    "        tup = vert.up_right_tuple()\n",
    "        for i in tup:\n",
    "            for vert2 in O.vertices():\n",
    "                tup2 = vert2.up_right_tuple()\n",
    "                if O.r()(i) in tup2:\n",
    "                    return True\n",
    "    return False\n",
    "\n",
    "def is_unobstructed(O):\n",
    "    cusp_reps = O.teichmueller_curve().cusp_representatives()\n",
    "    for item in cusp_reps:\n",
    "        if not unit_hor_saddle(item[0]):\n",
    "            return False\n",
    "    return True\n",
    "\n",
    "def obstructed(n, **kwargs):\n",
    "    obstructed = []\n",
    "    count_obstructed = 0\n",
    "    p = D.query(nb_squares=n, **kwargs)\n",
    "    for item in p:\n",
    "        if not is_unobstructed(item):\n",
    "            obstructed.append(item)\n",
    "            count_obstructed+= item.teichmueller_curve().orbit_graph().num_verts()\n",
    "    return (obstructed, count_obstructed)"
   ]
  },
  {
   "cell_type": "code",
   "execution_count": 3,
   "id": "c92f053c-c8a3-4592-9071-040594af1e30",
   "metadata": {},
   "outputs": [],
   "source": [
    "# generate vectors for saddle connections on STS\n",
    "def vectors(perm, length = 200):\n",
    "    a = str(perm)\n",
    "    h, v = a.split(\"\\n\")\n",
    "    S = SymmetricGroup(len(h))\n",
    "    T = translation_surfaces.origami(S(h), S(v))\n",
    "    T = T.erase_marked_points()\n",
    "    sc_list = T.saddle_connections(length)\n",
    "    slopes_all = []\n",
    "    for item in sc_list:\n",
    "        vec = item.holonomy().n()\n",
    "        direction = item.direction\n",
    "        if vec not in slopes_all:\n",
    "            if vec[0] >= -length/20 and vec[0] <= length/20:\n",
    "                if vec[1] >= -length/20 and vec[1] <= length/20:\n",
    "                    slopes_all.append(item.holonomy().n())         \n",
    "    vecs = []\n",
    "    for vec in slopes_all:\n",
    "        item = np.array([[vec[0]],[vec[1]]])\n",
    "        vecs.append(item)\n",
    "    return vecs"
   ]
  },
  {
   "cell_type": "code",
   "execution_count": 4,
   "id": "5993f9e2-c25c-4cea-ae81-a19442d1196a",
   "metadata": {},
   "outputs": [],
   "source": [
    "# list of permutations\n",
    "def perms_list(n, **kwargs):\n",
    "    obstructed = []\n",
    "    p = D.query(nb_squares=n, **kwargs)\n",
    "    for item in p:\n",
    "        if not is_unobstructed(item):\n",
    "            obstructed.append(item)\n",
    "            for perm in item.teichmueller_curve():\n",
    "                obstructed.append(perm)\n",
    "    return obstructed"
   ]
  },
  {
   "cell_type": "code",
   "execution_count": 5,
   "id": "a16af9b3-38e7-492f-b489-cf9775476171",
   "metadata": {},
   "outputs": [],
   "source": [
    "# take files from saddle.py and load them into notebook\n",
    "def load_arrays_from_file(file_path):\n",
    "    # Load arrays from the NumPy file\n",
    "    arrays_list = np.load(file_path, allow_pickle=True)\n",
    "    \n",
    "    # Ensure each element in the list is a NumPy array\n",
    "    arrays_list = [np.array(array) for array in arrays_list]\n",
    "    \n",
    "    return arrays_list"
   ]
  },
  {
   "cell_type": "code",
   "execution_count": 6,
   "id": "73524e65-e0d4-42bb-9151-44b894f68850",
   "metadata": {},
   "outputs": [
    {
     "data": {
      "text/plain": [
       "92"
      ]
     },
     "execution_count": 6,
     "metadata": {},
     "output_type": "execute_result"
    }
   ],
   "source": [
    "# get list of permutations for STS with 7 squares\n",
    "permutations = perms_list(7)\n",
    "len(permutations)"
   ]
  },
  {
   "cell_type": "code",
   "execution_count": 7,
   "id": "913c25a2-701b-4d2a-916b-a147fc15f5ad",
   "metadata": {
    "scrolled": true
   },
   "outputs": [
    {
     "data": {
      "image/png": "[encoded data removed]",
      "text/plain": [
       "Graphics object consisting of 71 graphics primitives"
      ]
     },
     "metadata": {},
     "output_type": "display_data"
    }
   ],
   "source": [
    "perm = permutations[4]\n",
    "perm.show()"
   ]
  },
  {
   "cell_type": "code",
   "execution_count": 8,
   "id": "1561bca8-4c76-451d-8df8-3a16bb28f5f4",
   "metadata": {},
   "outputs": [],
   "source": [
    "vecs0 = load_arrays_from_file(os.path.join(\"vecs\", \"vecs7-4.npy\"))\n",
    "vecs1 = load_arrays_from_file(os.path.join(\"vecs\", \"vecs7-3.npy\"))"
   ]
  },
  {
   "cell_type": "code",
   "execution_count": 9,
   "id": "8692e2a0-6d2c-4ed5-8cb7-d071e6717d27",
   "metadata": {},
   "outputs": [
    {
     "data": {
      "text/plain": [
       "3618904"
      ]
     },
     "execution_count": 9,
     "metadata": {},
     "output_type": "execute_result"
    }
   ],
   "source": [
    "len(vecs0)"
   ]
  },
  {
   "cell_type": "code",
   "execution_count": 10,
   "id": "4c09710d-3705-4548-9a32-811911e0f37c",
   "metadata": {},
   "outputs": [
    {
     "data": {
      "text/plain": [
       "907654"
      ]
     },
     "execution_count": 10,
     "metadata": {},
     "output_type": "execute_result"
    }
   ],
   "source": [
    "len(vecs1)"
   ]
  },
  {
   "cell_type": "code",
   "execution_count": 11,
   "id": "f0e5a66b-b1df-4d1c-ad4a-ec999b41e248",
   "metadata": {},
   "outputs": [],
   "source": [
    "# load these values after kernel crashes\n",
    "%store -r a\n",
    "%store -r c\n",
    "%store -r e\n",
    "%store -r g"
   ]
  },
  {
   "cell_type": "code",
   "execution_count": 29,
   "id": "546a7d14-368a-43e1-aca6-6b37d25861c5",
   "metadata": {},
   "outputs": [
    {
     "data": {
      "text/plain": [
       "[[4.0, 2426.0, 890.0, 50.0, 14430.0, 7446.0, 610.0, 492.0, 1414.0, 14.0],\n",
       " [4.0, 6458.0, 106.0, 56290.0, 59718.0, 20550.0, 50.0, 3468.0, 1526.0, 14.0],\n",
       " [4.0, 6010.0, 13978.0, 50.0, 5622.0, 7446.0, 3170.0, 492.0, 51086.0, 14.0],\n",
       " [4.0, 466.0, 106.0, 50.0, 2670.0, 1590.0, 50.0, 156.0, 238.0, 70.0],\n",
       " [4.0,\n",
       "  6458.0,\n",
       "  106.0,\n",
       "  56290.0,\n",
       "  59718.0,\n",
       "  20550.0,\n",
       "  50.0,\n",
       "  3468.0,\n",
       "  1526.0,\n",
       "  238966.0],\n",
       " [4.0,\n",
       "  6458.0,\n",
       "  106.0,\n",
       "  56290.0,\n",
       "  30750.0,\n",
       "  20550.0,\n",
       "  50.0,\n",
       "  3468.0,\n",
       "  1526.0,\n",
       "  159110.0],\n",
       " [4.0, 466.0, 106.0, 146.0, 534.0, 2742.0, 50.0, 156.0, 238.0, 70.0],\n",
       " [4.0, 6458.0, 106.0, 146.0, 10614.0, 2742.0, 50.0, 156.0, 1526.0, 70.0],\n",
       " [4.0, 3418.0, 106.0, 50.0, 534.0, 510.0, 50.0, 492.0, 238.0, 14.0],\n",
       " [4.0, 850.0, 146.0, 50.0, 4782.0, 55302.0, 50.0, 15420.0, 406.0, 14.0],\n",
       " [4.0, 6010.0, 146.0, 50.0, 5622.0, 4110.0, 50.0, 492.0, 51086.0, 14.0],\n",
       " [4.0, 6458.0, 106.0, 50.0, 10614.0, 510.0, 50.0, 156.0, 1526.0, 14.0],\n",
       " [4.0, 6010.0, 106.0, 50.0, 5622.0, 4110.0, 50.0, 492.0, 1526.0, 14.0],\n",
       " [4.0, 6586.0, 146.0, 50.0, 1014.0, 1230.0, 50.0, 156.0, 406.0, 14.0],\n",
       " [4.0, 6010.0, 890.0, 50.0, 5622.0, 4110.0, 610.0, 492.0, 51086.0, 14.0],\n",
       " [4.0, 6458.0, 106.0, 50.0, 6054.0, 7134.0, 50.0, 3468.0, 1526.0, 14.0],\n",
       " [4.0, 11090.0, 106.0, 6290.0, 1014.0, 1014.0, 50.0, 348.0, 11158.0, 70.0],\n",
       " [4.0, 2138.0, 3170.0, 146.0, 9750.0, 70806.0, 2210.0, 348.0, 406.0, 70.0],\n",
       " [4.0, 16354.0, 890.0, 2930.0, 8166.0, 1230.0, 610.0, 156.0, 113470.0, 14.0],\n",
       " [4.0, 466.0, 106.0, 50.0, 534.0, 5694.0, 50.0, 156.0, 238.0, 14.0],\n",
       " [4.0, 6458.0, 106.0, 50.0, 30750.0, 7446.0, 50.0, 492.0, 1526.0, 14.0],\n",
       " [4.0, 6458.0, 106.0, 2626.0, 6054.0, 20550.0, 50.0, 3468.0, 1526.0, 2590.0],\n",
       " [4.0, 33602.0, 106.0, 146.0, 16806.0, 2550.0, 50.0, 348.0, 1526.0, 70.0],\n",
       " [4.0, 6458.0, 106.0, 146.0, 30750.0, 20550.0, 50.0, 3468.0, 1526.0, 70.0],\n",
       " [4.0, 5386.0, 146.0, 50.0, 7494.0, 8790.0, 50.0, 4236.0, 116998.0, 14.0],\n",
       " [4.0, 466.0, 106.0, 2930.0, 534.0, 510.0, 50.0, 156.0, 238.0, 14.0],\n",
       " [4.0, 6458.0, 106.0, 50.0, 30750.0, 221286.0, 50.0, 3468.0, 1526.0, 14.0],\n",
       " [4.0, 2482.0, 106.0, 50.0, 2262.0, 1590.0, 50.0, 156.0, 238.0, 14.0],\n",
       " [4.0, 6458.0, 106.0, 50.0, 10614.0, 1590.0, 50.0, 156.0, 1526.0, 14.0],\n",
       " [4.0, 291938.0, 106.0, 146.0, 59718.0, 7134.0, 50.0, 3468.0, 1625078.0, 70.0],\n",
       " [4.0, 291938.0, 106.0, 56290.0, 59718.0, 7134.0, 50.0, 3468.0, 1526.0, 70.0],\n",
       " [4.0, 466.0, 106.0, 2930.0, 534.0, 5694.0, 50.0, 156.0, 238.0, 14.0],\n",
       " [4.0, 6458.0, 106.0, 146.0, 10614.0, 2742.0, 50.0, 156.0, 1526.0, 70.0],\n",
       " [4.0, 60554.0, 890.0, 50.0, 534.0, 510.0, 610.0, 156.0, 14462.0, 14.0],\n",
       " [4.0, 2426.0, 890.0, 50.0, 5622.0, 7446.0, 610.0, 492.0, 1414.0, 14.0],\n",
       " [4.0, 466.0, 106.0, 50.0, 2670.0, 7134.0, 50.0, 3468.0, 238.0, 14.0],\n",
       " [4.0, 850.0, 106.0, 146.0, 1014.0, 2550.0, 50.0, 348.0, 7910.0, 70.0],\n",
       " [4.0, 6458.0, 106.0, 146.0, 6870.0, 2742.0, 50.0, 156.0, 1526.0, 70.0],\n",
       " [4.0, 466.0, 106.0, 50.0, 2670.0, 2742.0, 50.0, 156.0, 238.0, 70.0],\n",
       " [4.0, 8186.0, 146.0, 2930.0, 3414.0, 510.0, 50.0, 156.0, 1918.0, 14.0],\n",
       " [4.0, 466.0, 106.0, 56290.0, 59718.0, 20550.0, 50.0, 3468.0, 238.0, 2590.0],\n",
       " [4.0, 28250.0, 106.0, 50.0, 18966.0, 4110.0, 50.0, 492.0, 27454.0, 14.0],\n",
       " [4.0, 16354.0, 890.0, 2930.0, 8166.0, 1230.0, 610.0, 156.0, 238.0, 14.0],\n",
       " [4.0, 466.0, 106.0, 50.0, 5622.0, 7446.0, 50.0, 492.0, 238.0, 14.0],\n",
       " [4.0, 3418.0, 106.0, 2930.0, 534.0, 510.0, 50.0, 156.0, 238.0, 14.0],\n",
       " [4.0, 11386.0, 106.0, 50.0, 2262.0, 1590.0, 50.0, 156.0, 1750.0, 14.0],\n",
       " [4.0, 6458.0, 106.0, 50.0, 18966.0, 7446.0, 50.0, 492.0, 1526.0, 14.0],\n",
       " [4.0, 466.0, 106.0, 2626.0, 534.0, 510.0, 50.0, 3468.0, 238.0, 2590.0],\n",
       " [4.0, 291938.0, 106.0, 56290.0, 59718.0, 7134.0, 50.0, 3468.0, 1526.0, 70.0],\n",
       " [4.0, 466.0, 106.0, 50.0, 6870.0, 2742.0, 50.0, 156.0, 238.0, 14.0],\n",
       " [4.0, 2482.0, 106.0, 146.0, 2262.0, 1590.0, 50.0, 156.0, 1526.0, 70.0],\n",
       " [4.0, 11386.0, 106.0, 50.0, 6870.0, 2742.0, 50.0, 156.0, 1750.0, 14.0],\n",
       " [4.0, 466.0, 106.0, 2930.0, 534.0, 510.0, 50.0, 156.0, 238.0, 14.0],\n",
       " [4.0, 3418.0, 106.0, 50.0, 534.0, 1590.0, 50.0, 156.0, 238.0, 2590.0],\n",
       " [4.0, 28250.0, 146.0, 50.0, 18966.0, 7446.0, 50.0, 492.0, 27454.0, 14.0],\n",
       " [4.0, 6458.0, 106.0, 56290.0, 10614.0, 7134.0, 50.0, 3468.0, 1526.0, 14.0],\n",
       " [4.0,\n",
       "  35258.0,\n",
       "  17042.0,\n",
       "  6290.0,\n",
       "  7158.0,\n",
       "  1014.0,\n",
       "  20530.0,\n",
       "  348.0,\n",
       "  11158.0,\n",
       "  70.0],\n",
       " [4.0, 95474.0, 890.0, 50.0, 18966.0, 4110.0, 610.0, 492.0, 14462.0, 14.0],\n",
       " [4.0, 5266.0, 146.0, 50.0, 8166.0, 1230.0, 50.0, 156.0, 5278.0, 14.0],\n",
       " [4.0, 466.0, 106.0, 6290.0, 534.0, 510.0, 50.0, 348.0, 238.0, 70.0],\n",
       " [4.0, 35258.0, 106.0, 146.0, 7158.0, 2550.0, 50.0, 348.0, 238.0, 70.0],\n",
       " [4.0, 2482.0, 106.0, 50.0, 2262.0, 2742.0, 50.0, 156.0, 9814.0, 518.0],\n",
       " [4.0, 2138.0, 106.0, 146.0, 7158.0, 2550.0, 50.0, 348.0, 406.0, 70.0],\n",
       " [4.0, 17218.0, 106.0, 2930.0, 2334.0, 510.0, 50.0, 156.0, 238.0, 14.0],\n",
       " [4.0, 466.0, 890.0, 2930.0, 534.0, 1230.0, 610.0, 156.0, 5278.0, 14.0],\n",
       " [4.0, 8186.0, 146.0, 50.0, 18966.0, 7446.0, 50.0, 492.0, 1918.0, 14.0]]"
      ]
     },
     "execution_count": 29,
     "metadata": {},
     "output_type": "execute_result"
    }
   ],
   "source": [
    "a"
   ]
  },
  {
   "cell_type": "code",
   "execution_count": 21,
   "id": "e096cc4c-d3e3-4578-842f-b859b95981fe",
   "metadata": {},
   "outputs": [
    {
     "name": "stdout",
     "output_type": "stream",
     "text": [
      "3618904\n",
      "24.318975120683252 0.0003713330857748817\n",
      "[array([[0.31897512],\n",
      "       [0.00037133]]), array([[1.31897512e+00],\n",
      "       [3.71333086e-04]]), array([[2.31897512e+00],\n",
      "       [3.71333086e-04]])]\n"
     ]
    }
   ],
   "source": [
    "#Run computations for individual cusps and see if the output is decent\n",
    "#j represents the jth cusps\n",
    "#change i to get new output for the jth cusp\n",
    "\n",
    "# 0, 24, 24, 0, 6, 13, 0, 3, 3, 1\n",
    "i = 24\n",
    "j = 1\n",
    "n_squares = 7\n",
    "dx = 0.0005\n",
    "index = 4\n",
    "vecs, x_vals, m0, m1, x0, y0, dx_y = setup(a[i][j], c[i][j], e[i][j], vecs0, dx, False)\n",
    "df = winners(vecs, x_vals, m0, m1, y0, dx, dx_y)\n",
    "\n",
    "# output is:\n",
    "# number of vectors\n",
    "# the x and y coords of the \"section vector\"\n",
    "# poincare section plot\n"
   ]
  },
  {
   "cell_type": "code",
   "execution_count": 22,
   "id": "099ca11a-3ae1-42b7-8836-6aaf88122861",
   "metadata": {},
   "outputs": [
    {
     "name": "stdout",
     "output_type": "stream",
     "text": [
      "[[0.3189751206832529, 0.0003713330857779071], [1.3189751206832527, 0.00037133308577786545], [2.3189751206832527, 0.00037133308577774055]]\n"
     ]
    },
    {
     "data": {
      "image/png": "[encoded data removed]",
      "text/plain": [
       "<Figure size 1000x1000 with 1 Axes>"
      ]
     },
     "metadata": {},
     "output_type": "display_data"
    }
   ],
   "source": [
    "#plot the poincare section for the cusp represenation\n",
    "plot(df, vecs, c[i][j], j, n_squares, index, test = True)"
   ]
  },
  {
   "cell_type": "code",
   "execution_count": 23,
   "id": "85428c62-9c24-4132-a9ae-f7c3056f3304",
   "metadata": {},
   "outputs": [
    {
     "data": {
      "image/png": "[encoded data removed]",
      "text/plain": [
       "<Figure size 1000x1000 with 1 Axes>"
      ]
     },
     "metadata": {},
     "output_type": "display_data"
    }
   ],
   "source": [
    "# plot the pdf for this cusp\n",
    "sec_list = sec_setup(df, dx_y)\n",
    "secs = sec_comp(sec_list, dx)\n",
    "times = time_comp(secs)\n",
    "pdf(list(df[\"time\"]), times, dx*2)\n",
    "plt.savefig(os.path.join(\"results\", f\"{n_squares} - {index}\", f\"pdf {j}\"))"
   ]
  },
  {
   "cell_type": "code",
   "execution_count": 24,
   "id": "1270dcae-87ff-4cc9-8bb7-b60be42fabbf",
   "metadata": {},
   "outputs": [
    {
     "data": {
      "text/plain": [
       "array([[2.31897512e+00],\n",
       "       [3.71333086e-04]])"
      ]
     },
     "execution_count": 24,
     "metadata": {},
     "output_type": "execute_result"
    }
   ],
   "source": [
    "i = 0\n",
    "secs[i].vec"
   ]
  },
  {
   "cell_type": "code",
   "execution_count": 25,
   "id": "e49868af-a8f6-4785-a1eb-f12411bd23aa",
   "metadata": {},
   "outputs": [
    {
     "data": {
      "text/plain": [
       "array([0.0015    , 0.43170488, 0.99949998])"
      ]
     },
     "execution_count": 25,
     "metadata": {},
     "output_type": "execute_result"
    }
   ],
   "source": [
    "secs[i].points_top"
   ]
  },
  {
   "cell_type": "code",
   "execution_count": 26,
   "id": "61f20911-813e-4e0c-952f-31b5657844c6",
   "metadata": {},
   "outputs": [
    {
     "data": {
      "text/plain": [
       "[-3.0421142578125*x - 3.03457538410035, 2691.64472067716 - 6244.98986816406*x]"
      ]
     },
     "execution_count": 26,
     "metadata": {},
     "output_type": "execute_result"
    }
   ],
   "source": [
    "secs[i].top"
   ]
  },
  {
   "cell_type": "code",
   "execution_count": 27,
   "id": "6f6b4ae8-dcd5-4da7-95ea-5a1a52a17da5",
   "metadata": {},
   "outputs": [
    {
     "data": {
      "text/plain": [
       "array([0.0015, 0.9995], dtype=float32)"
      ]
     },
     "execution_count": 27,
     "metadata": {},
     "output_type": "execute_result"
    }
   ],
   "source": [
    "secs[i].points_bottom"
   ]
  },
  {
   "cell_type": "code",
   "execution_count": 28,
   "id": "43a4ff30-734d-4e28-80ab-fddd8991d3ab",
   "metadata": {},
   "outputs": [
    {
     "data": {
      "text/plain": [
       "[3.6926604744308 - 5386.001953125*x]"
      ]
     },
     "execution_count": 28,
     "metadata": {},
     "output_type": "execute_result"
    }
   ],
   "source": [
    "secs[i].bottom"
   ]
  },
  {
   "cell_type": "code",
   "execution_count": 17,
   "id": "77cdf3e3-9b7c-4278-bcb6-5e57608902f2",
   "metadata": {},
   "outputs": [
    {
     "data": {
      "text/plain": [
       "6"
      ]
     },
     "execution_count": 17,
     "metadata": {},
     "output_type": "execute_result"
    }
   ],
   "source": [
    "len(sec_list)"
   ]
  },
  {
   "cell_type": "code",
   "execution_count": null,
   "id": "f1dd46da-25d3-45f3-974d-742291af0309",
   "metadata": {},
   "outputs": [],
   "source": [
    "# For an STS, repeatedly run the poincare_details function and get the \n",
    "#different representations of cusps and other values and store them in lists\n",
    "#takes awhile\n",
    "a = []\n",
    "c = []\n",
    "e = []\n",
    "g = []\n",
    "for i in range(100):\n",
    "    try:\n",
    "        alphas, Cs, C_invs, eigs, Ms, generators, eigenvecs = poincare_details(perm, vecs0)\n",
    "    except:\n",
    "        continue\n",
    "    a.append(alphas)\n",
    "    c.append(Cs)\n",
    "    e.append(eigenvecs)\n",
    "    g.append(generators)"
   ]
  },
  {
   "cell_type": "code",
   "execution_count": null,
   "id": "a76a0e2e-de25-4676-be0f-8bab63bdf0d0",
   "metadata": {},
   "outputs": [],
   "source": [
    "# store these values in case kernel crashes\n",
    "%store a\n",
    "%store c\n",
    "%store e\n",
    "%store g"
   ]
  },
  {
   "cell_type": "code",
   "execution_count": 7,
   "id": "ec8806d4-3a80-41da-9ac6-ada96e647a33",
   "metadata": {},
   "outputs": [
    {
     "name": "stdout",
     "output_type": "stream",
     "text": [
      "256\n"
     ]
    }
   ],
   "source": [
    "print(256R)"
   ]
  },
  {
   "cell_type": "code",
   "execution_count": 22,
   "id": "23204158-1224-4eb2-88fe-1e55674e39fb",
   "metadata": {},
   "outputs": [],
   "source": [
    "mag_saddle = ((vecs0[0][0]**2 + vecs0[0][1]**2)**0.5)[0]"
   ]
  },
  {
   "cell_type": "code",
   "execution_count": 23,
   "id": "85a53683-b0ec-4601-bfa7-a909dd0a4e1f",
   "metadata": {},
   "outputs": [
    {
     "data": {
      "text/plain": [
       "3.0"
      ]
     },
     "execution_count": 23,
     "metadata": {},
     "output_type": "execute_result"
    }
   ],
   "source": [
    "mag_saddle"
   ]
  },
  {
   "cell_type": "code",
   "execution_count": 26,
   "id": "166bf8cd-a8ac-41eb-9c0d-7670082b9099",
   "metadata": {},
   "outputs": [],
   "source": [
    "vecs0 = vectors(perm, 20)"
   ]
  },
  {
   "cell_type": "code",
   "execution_count": 27,
   "id": "62d00c70-c158-4e5d-9967-f97d6aa12af8",
   "metadata": {},
   "outputs": [
    {
     "ename": "ValueError",
     "evalue": "No saddle vec for eigenvector [[1.       ]\n [0.4057971]]",
     "output_type": "error",
     "traceback": [
      "\u001b[0;31m---------------------------------------------------------------------------\u001b[0m",
      "\u001b[0;31mValueError\u001b[0m                                Traceback (most recent call last)",
      "Cell \u001b[0;32mIn[27], line 1\u001b[0m\n\u001b[0;32m----> 1\u001b[0m alphas, Cs, C_invs, eigs, Ms, generators, eigenvecs \u001b[38;5;241m=\u001b[39m \u001b[43mpoincare_details\u001b[49m\u001b[43m(\u001b[49m\u001b[43mperm\u001b[49m\u001b[43m,\u001b[49m\u001b[43m \u001b[49m\u001b[43mvecs0\u001b[49m\u001b[43m)\u001b[49m\n",
      "File \u001b[0;32m~/Poincare.py:145\u001b[0m, in \u001b[0;36mpoincare_details\u001b[0;34m(perm, vecs0)\u001b[0m\n\u001b[1;32m    143\u001b[0m                         mag \u001b[38;5;241m=\u001b[39m mag_saddle\n\u001b[1;32m    144\u001b[0m     \u001b[38;5;28;01mif\u001b[39;00m check \u001b[38;5;241m==\u001b[39m \u001b[38;5;241m0\u001b[39m:\n\u001b[0;32m--> 145\u001b[0m         \u001b[38;5;28;01mraise\u001b[39;00m \u001b[38;5;167;01mValueError\u001b[39;00m(\u001b[38;5;124mf\u001b[39m\u001b[38;5;124m\"\u001b[39m\u001b[38;5;124mNo saddle vec for eigenvector \u001b[39m\u001b[38;5;132;01m{\u001b[39;00mvec\u001b[38;5;132;01m}\u001b[39;00m\u001b[38;5;124m\"\u001b[39m)\n\u001b[1;32m    146\u001b[0m     saddle_vecs\u001b[38;5;241m.\u001b[39mappend(saddle_vec)\n\u001b[1;32m    147\u001b[0m \u001b[38;5;66;03m#find the counter-clockwise angle from the x-axis to the eigenvectors\u001b[39;00m\n",
      "\u001b[0;31mValueError\u001b[0m: No saddle vec for eigenvector [[1.       ]\n [0.4057971]]"
     ]
    }
   ],
   "source": [
    "alphas, Cs, C_invs, eigs, Ms, generators, eigenvecs = poincare_details(perm, vecs0)"
   ]
  },
  {
   "cell_type": "code",
   "execution_count": 14,
   "id": "b0130a70-b430-4f7b-82f0-1caa823adca3",
   "metadata": {},
   "outputs": [
    {
     "name": "stderr",
     "output_type": "stream",
     "text": [
      "/tmp/ipykernel_7817/1025111670.py:4: RuntimeWarning: divide by zero encountered in divide\n",
      "  slope = vec[Integer(1)]/vec[Integer(0)]\n"
     ]
    }
   ],
   "source": [
    "slopes = []\n",
    "for vec in vecs0:\n",
    "    try:\n",
    "        slope = vec[1]/vec[0]\n",
    "        slopes.append(slope)\n",
    "    except:\n",
    "        continue"
   ]
  },
  {
   "cell_type": "code",
   "execution_count": 15,
   "id": "e1416779-4228-4a1a-9dba-035c9ce762cd",
   "metadata": {},
   "outputs": [
    {
     "data": {
      "text/plain": [
       "3618904"
      ]
     },
     "execution_count": 15,
     "metadata": {},
     "output_type": "execute_result"
    }
   ],
   "source": [
    "len(slopes)"
   ]
  },
  {
   "cell_type": "code",
   "execution_count": 16,
   "id": "b1a3fd72-6e0d-43ab-9f18-1126e78717f5",
   "metadata": {},
   "outputs": [],
   "source": [
    "def compute(seq):\n",
    "    gaps = list()\n",
    "    for i in range(0,len(seq) - 1):\n",
    "        gap = seq[i+1] - seq[i]\n",
    "        gaps.append(abs(gap))\n",
    "    return gaps\n",
    "\n",
    "# given a list of gaps and binwidth, this creates a dictionary where keys are bin gap lengths and values are how many gaps are in that bin\n",
    "def graphing_dict(gaps_list, binwidth):\n",
    "    #Create a dictionary\n",
    "    bins_dict = {}\n",
    "    #Create bins of width \"binwidth\" to add slope differences\n",
    "    bins = list(np.arange(0, 1, binwidth))\n",
    "    for bin in bins:\n",
    "        bins_dict[bin] = 0\n",
    "    #add slope gaps to respective bins\n",
    "    for gap in gaps_list:\n",
    "        for bin in bins:\n",
    "            if gap < bin:\n",
    "                bins_dict[bin] += 1\n",
    "                break\n",
    "    return bins_dict\n",
    "\n",
    "# given a sorted list of slopes and a binwidth, this function creates a scatter plot\n",
    "def plot_distribution(slopes, binwidth):\n",
    "    gaps = compute(slopes)\n",
    "    gaps_dict = graphing_dict(gaps, binwidth)\n",
    "    # this for-loop finds the smallest gap. By multiplying by 4, we find the second non-differentiable point and by multiplying by 8, we         get a good window of the distribution\n",
    "    for bin in gaps_dict.keys():\n",
    "        if gaps_dict[bin] != 0:\n",
    "            bound = int(bin*8/binwidth)\n",
    "            break\n",
    "    plt.scatter(list(gaps_dict.keys())[:bound], list(gaps_dict.values())[:bound], s = 5)"
   ]
  },
  {
   "cell_type": "code",
   "execution_count": null,
   "id": "d4c89b6c-ab72-47dc-9209-339e8ba87298",
   "metadata": {},
   "outputs": [],
   "source": [
    "fig, ax = plt.subplots(figsize=(6, 4))\n",
    "plot_distribution(slopes, 0.01)"
   ]
  },
  {
   "cell_type": "code",
   "execution_count": 23,
   "id": "e0d3b1db-a0c1-412a-a41b-fb9580846606",
   "metadata": {},
   "outputs": [],
   "source": [
    "slopes1 = sorted(slopes)"
   ]
  },
  {
   "cell_type": "code",
   "execution_count": 24,
   "id": "9f680ee5-ac3e-42af-ba7a-04ba0a172c24",
   "metadata": {},
   "outputs": [
    {
     "data": {
      "text/plain": [
       "[]"
      ]
     },
     "execution_count": 24,
     "metadata": {},
     "output_type": "execute_result"
    }
   ],
   "source": [
    "slopes1"
   ]
  },
  {
   "cell_type": "code",
   "execution_count": null,
   "id": "f8c83da8-0597-412c-80bf-bed05d1b443b",
   "metadata": {},
   "outputs": [],
   "source": [
    "i = 0\n",
    "j = 0\n",
    "points_top = [0, 1, 3, 5]\n",
    "points_bottom = [0, 1, 2, 3, 4, 5]\n",
    "top = [10, 11, 12]\n",
    "bottom = [20, 21, 22, 23, 24]\n",
    "\n",
    "all_points = points_top.extend(points_bottom)\n",
    "all_points.sort()\n",
    "\n",
    "for point in all_points:\n",
    "    print(point)"
   ]
  }
 ],
 "metadata": {
  "kernelspec": {
   "display_name": "SageMath 10.0",
   "language": "sage",
   "name": "sagemath"
  },
  "language_info": {
   "codemirror_mode": {
    "name": "ipython",
    "version": 3
   },
   "file_extension": ".py",
   "mimetype": "text/x-python",
   "name": "python",
   "nbconvert_exporter": "python",
   "pygments_lexer": "ipython3",
   "version": "3.9.16"
  }
 },
 "nbformat": 4,
 "nbformat_minor": 5
}
