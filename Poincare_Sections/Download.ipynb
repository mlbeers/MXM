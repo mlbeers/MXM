{
 "cells": [
  {
   "cell_type": "code",
   "execution_count": 3,
   "id": "86d008d0-ea74-4cbf-afc7-fbcefbcc22cf",
   "metadata": {},
   "outputs": [],
   "source": [
    "import os\n",
    "import shutil\n",
    "\n",
    "# Define the top-level folder and where to save the files\n",
    "main_dir = 'results'\n",
    "output_dir = 'downloaded_files'\n",
    "\n",
    "# Loop through each subfolder in the main \"results\" folder\n",
    "for subfolder in os.listdir(main_dir):\n",
    "    subfolder_path = os.path.join(main_dir, subfolder)\n",
    "\n",
    "    if os.path.isdir(subfolder_path):\n",
    "        # Create a corresponding subfolder in the output directory\n",
    "        output_subfolder = os.path.join(output_dir, subfolder)\n",
    "        os.makedirs(output_subfolder, exist_ok=True)\n",
    "\n",
    "        # Only go one level deep: look at files directly in this subfolder\n",
    "        for file in os.listdir(subfolder_path):\n",
    "            if file.endswith('.png') or file.endswith('.txt'):\n",
    "                src = os.path.join(subfolder_path, file)\n",
    "                dst = os.path.join(output_subfolder, file)\n",
    "                shutil.copy2(src, dst)"
   ]
  },
  {
   "cell_type": "code",
   "execution_count": 4,
   "id": "c85c1b49-52b3-4834-ab3f-880f51b1e042",
   "metadata": {},
   "outputs": [
    {
     "data": {
      "text/plain": [
       "'/home/mlbeers/MXM/Poincare_Sections/downloaded_files.zip'"
      ]
     },
     "execution_count": 4,
     "metadata": {},
     "output_type": "execute_result"
    }
   ],
   "source": [
    "import shutil\n",
    "\n",
    "shutil.make_archive('downloaded_files', 'zip', 'downloaded_files')"
   ]
  },
  {
   "cell_type": "code",
   "execution_count": null,
   "id": "16063afe-828f-4026-9551-e887b9435b9d",
   "metadata": {},
   "outputs": [],
   "source": [
    "# scp mlbeers@wurc3.math.wisc.edu:/home/mlbeers/MXM/Poincare_Sections/downloaded_files.zip ~/Downloads/"
   ]
  }
 ],
 "metadata": {
  "kernelspec": {
   "display_name": "Python 3 (ipykernel)",
   "language": "python",
   "name": "python3"
  },
  "language_info": {
   "codemirror_mode": {
    "name": "ipython",
    "version": 3
   },
   "file_extension": ".py",
   "mimetype": "text/x-python",
   "name": "python",
   "nbconvert_exporter": "python",
   "pygments_lexer": "ipython3",
   "version": "3.9.18"
  }
 },
 "nbformat": 4,
 "nbformat_minor": 5
}
