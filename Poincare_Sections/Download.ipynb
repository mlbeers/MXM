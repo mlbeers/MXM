{
 "cells": [
  {
   "cell_type": "code",
   "execution_count": 14,
   "id": "c85c1b49-52b3-4834-ab3f-880f51b1e042",
   "metadata": {},
   "outputs": [
    {
     "data": {
      "text/plain": [
       "'/home/mlbeers/MXM/Poincare_Sections/results/7 - 15.zip'"
      ]
     },
     "execution_count": 14,
     "metadata": {},
     "output_type": "execute_result"
    }
   ],
   "source": [
    "import shutil\n",
    "\n",
    "num_squares = 7\n",
    "index = 15\n",
    "\n",
    "shutil.make_archive(f'results/{num_squares} - {index}', 'zip', f'results/{num_squares} - {index}')"
   ]
  },
  {
   "cell_type": "code",
   "execution_count": 1,
   "id": "ceec0b70-f900-4493-8bf7-d9568a9c2ce0",
   "metadata": {},
   "outputs": [],
   "source": [
    "import sympy as sp\n",
    "import dill\n",
    "import os\n",
    "from Library import *"
   ]
  },
  {
   "cell_type": "code",
   "execution_count": 2,
   "id": "22de3473-d5ea-4881-80e4-d4b6ea6c028b",
   "metadata": {},
   "outputs": [],
   "source": [
    "n_squares = 7\n",
    "index = 15\n",
    "with open(os.path.join(\"results\", f\"{n_squares} - {index}\", \"final_eq.dill\"), 'rb') as f:\n",
    "    eq_15 = dill.load(f)"
   ]
  },
  {
   "cell_type": "code",
   "execution_count": 7,
   "id": "40b53651-cf05-47cf-bb83-f4c376f44743",
   "metadata": {},
   "outputs": [],
   "source": [
    "permutations = perms_list(n_squares)\n",
    "perm = permutations[15]\n",
    "plot = perm.plot()"
   ]
  },
  {
   "cell_type": "code",
   "execution_count": 10,
   "id": "20ea25b4-7fe4-43bd-859c-dbc14a0ff5d1",
   "metadata": {},
   "outputs": [],
   "source": [
    "plot.save(os.path.join(\"results\", \"7 - 15\", \"permutation.png\"))"
   ]
  },
  {
   "cell_type": "code",
   "execution_count": null,
   "id": "66b1b5c6-9b62-435c-915a-44071e2f3758",
   "metadata": {},
   "outputs": [],
   "source": []
  }
 ],
 "metadata": {
  "kernelspec": {
   "display_name": "SageMath 10.0",
   "language": "sage",
   "name": "sagemath"
  },
  "language_info": {
   "codemirror_mode": {
    "name": "ipython",
    "version": 3
   },
   "file_extension": ".py",
   "mimetype": "text/x-python",
   "name": "python",
   "nbconvert_exporter": "python",
   "pygments_lexer": "ipython3",
   "version": "3.9.18"
  }
 },
 "nbformat": 4,
 "nbformat_minor": 5
}
