{
 "cells": [
  {
   "cell_type": "code",
   "execution_count": 1,
   "id": "98654102-bda5-4aee-b476-231797f90727",
   "metadata": {},
   "outputs": [],
   "source": [
    "import numpy as np\n",
    "from fractions import Fraction as frac\n",
    "from matplotlib import pyplot as plt\n",
    "import pandas as pd\n",
    "from flatsurf import *\n",
    "import numpy as np\n",
    "from matplotlib import pyplot as plt\n",
    "import os\n",
    "import pwlf\n",
    "import os\n",
    "from surface_dynamics.all import *\n",
    "from Library import *\n",
    "from Library import Section\n",
    "import math\n",
    "from time import time\n",
    "import copy\n",
    "from scipy import integrate\n",
    "import sympy as sym\n",
    "from sympy import Symbol\n",
    "from sympy import solve, lambdify, Eq\n",
    "import traceback\n",
    "import dill\n",
    "Integer = int\n",
    "import re"
   ]
  },
  {
   "cell_type": "code",
   "execution_count": 2,
   "id": "54db4b5a-4602-457e-b242-f9023a52b84a",
   "metadata": {},
   "outputs": [],
   "source": [
    "permutations = perms_list(11)"
   ]
  },
  {
   "cell_type": "code",
   "execution_count": 3,
   "id": "316aaab1-8a0f-451b-a1f3-f4f9f0c04549",
   "metadata": {},
   "outputs": [
    {
     "name": "stdout",
     "output_type": "stream",
     "text": [
      "index: 0, veech: 180\n",
      "index: 181, veech: 225\n",
      "index: 407, veech: 180\n",
      "index: 588, veech: 2565\n",
      "index: 3154, veech: 1560\n",
      "index: 4715, veech: 420\n",
      "index: 5136, veech: 3400\n",
      "index: 8537, veech: 7800\n",
      "index: 16338, veech: 200\n",
      "index: 16539, veech: 1200\n",
      "index: 17740, veech: 240\n"
     ]
    }
   ],
   "source": [
    "current = None\n",
    "for i, perm in enumerate(permutations):\n",
    "    v = int(re.findall(r'index (\\d+)', str(perm.veech_group()))[0])\n",
    "    if current is None:\n",
    "        current = v\n",
    "        print(f\"index: {i}, veech: {v}\")\n",
    "    if current != v:\n",
    "        current = v\n",
    "        print(f\"index: {i}, veech: {v}\")"
   ]
  },
  {
   "cell_type": "code",
   "execution_count": 4,
   "id": "030ed67c-96fd-414b-a010-4018db88747c",
   "metadata": {},
   "outputs": [
    {
     "ename": "NameError",
     "evalue": "name 'permutation' is not defined",
     "output_type": "error",
     "traceback": [
      "\u001b[0;31m---------------------------------------------------------------------------\u001b[0m",
      "\u001b[0;31mNameError\u001b[0m                                 Traceback (most recent call last)",
      "Cell \u001b[0;32mIn[4], line 1\u001b[0m\n\u001b[0;32m----> 1\u001b[0m \u001b[43mpermutation\u001b[49m[Integer(\u001b[38;5;241m0\u001b[39m)]\n",
      "\u001b[0;31mNameError\u001b[0m: name 'permutation' is not defined"
     ]
    }
   ],
   "source": [
    "permutation[0]"
   ]
  },
  {
   "cell_type": "code",
   "execution_count": 11,
   "id": "cfce054f-91ab-418c-a18c-eb0db6402ccf",
   "metadata": {},
   "outputs": [
    {
     "data": {
      "text/plain": [
       "False"
      ]
     },
     "execution_count": 11,
     "metadata": {},
     "output_type": "execute_result"
    }
   ],
   "source": [
    "current != v"
   ]
  },
  {
   "cell_type": "code",
   "execution_count": null,
   "id": "076c6274-2b7b-4d1a-873f-f20cf65b2a3d",
   "metadata": {},
   "outputs": [],
   "source": []
  }
 ],
 "metadata": {
  "kernelspec": {
   "display_name": "SageMath 10.0",
   "language": "sage",
   "name": "sagemath"
  },
  "language_info": {
   "codemirror_mode": {
    "name": "ipython",
    "version": 3
   },
   "file_extension": ".py",
   "mimetype": "text/x-python",
   "name": "python",
   "nbconvert_exporter": "python",
   "pygments_lexer": "ipython3",
   "version": "3.9.18"
  }
 },
 "nbformat": 4,
 "nbformat_minor": 5
}
