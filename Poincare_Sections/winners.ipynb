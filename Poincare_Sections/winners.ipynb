{
 "cells": [
  {
   "cell_type": "code",
   "execution_count": 1,
   "id": "6c026f06-c3cd-4e1a-9d84-cbb2f25b2948",
   "metadata": {},
   "outputs": [],
   "source": [
    "import numpy as np\n",
    "from matplotlib import pyplot as plt\n",
    "import pandas as pd\n",
    "from flatsurf import *\n",
    "import numpy as np\n",
    "from matplotlib import pyplot as plt\n",
    "import os\n",
    "import pwlf\n",
    "import os\n",
    "from surface_dynamics.all import *\n",
    "from Library import *\n",
    "from Library import Section\n",
    "import math\n",
    "from time import time\n",
    "import copy\n",
    "from scipy import integrate\n",
    "import sympy as sym\n",
    "from sympy import Symbol\n",
    "from sympy import solve, lambdify\n",
    "import traceback\n",
    "import dill\n",
    "import sys"
   ]
  },
  {
   "cell_type": "code",
   "execution_count": 2,
   "id": "912a47e2-8274-4112-aa09-72fb37aeb275",
   "metadata": {},
   "outputs": [],
   "source": [
    "# list of permutations\n",
    "def perms_list(n, **kwargs):\n",
    "    obstructed = []\n",
    "    p = D.query(nb_squares=n, **kwargs)\n",
    "    for item in p:\n",
    "        if not is_unobstructed(item):\n",
    "            obstructed.append(item)\n",
    "            for perm in item.teichmueller_curve():\n",
    "                obstructed.append(perm)\n",
    "    return obstructed"
   ]
  },
  {
   "cell_type": "code",
   "execution_count": 3,
   "id": "c2361962-9fce-4d23-b9d6-62ddc679b43a",
   "metadata": {},
   "outputs": [],
   "source": [
    "# take files from saddle.py and load them into notebook\n",
    "def load_arrays_from_file(file_path):\n",
    "    # Load arrays from the NumPy file\n",
    "    arrays_list = np.load(file_path, allow_pickle=True)\n",
    "    \n",
    "    # Ensure each element in the list is a NumPy array\n",
    "    arrays_list = [np.array(array) for array in arrays_list]\n",
    "    \n",
    "    return arrays_list"
   ]
  },
  {
   "cell_type": "code",
   "execution_count": 4,
   "id": "44f939f6-ebeb-4573-adfe-0b35c229414f",
   "metadata": {},
   "outputs": [],
   "source": [
    "# 7-0, 7-3, 7-7, 7-19, 7-29, 7-41\n",
    "n_squares = 7\n",
    "index = 0\n",
    "j = 0\n",
    "dx = 0.0005"
   ]
  },
  {
   "cell_type": "code",
   "execution_count": 5,
   "id": "51c7e3dc-dd62-4a8d-a90e-3c250cad82e8",
   "metadata": {},
   "outputs": [],
   "source": [
    "permutations = perms_list(n_squares)\n",
    "perm = permutations[index]\n",
    "\n",
    "vec_file = \"vecs\" + str(n_squares) + \"-\" + str(index) + \".npy\"\n",
    "vecs0 = load_arrays_from_file(os.path.join(\"vecs\", vec_file))\n",
    "\n",
    "with open(os.path.join(\"results\", f\"{n_squares} - {index}\", \"setup.dill\"), 'rb') as f:\n",
    "    loaded_data = dill.load(f)\n",
    "a,c,e,g = loaded_data"
   ]
  },
  {
   "cell_type": "code",
   "execution_count": 6,
   "id": "02fbc67c-7281-4acc-a04b-3644d10cff30",
   "metadata": {},
   "outputs": [
    {
     "data": {
      "text/plain": [
       "100000"
      ]
     },
     "execution_count": 6,
     "metadata": {},
     "output_type": "execute_result"
    }
   ],
   "source": [
    "vecs0 = vecs0[:100000]\n",
    "len(vecs0)"
   ]
  },
  {
   "cell_type": "code",
   "execution_count": 7,
   "id": "91f17e7a-b1c5-410b-89b7-5ec3b1c6308c",
   "metadata": {},
   "outputs": [
    {
     "name": "stdout",
     "output_type": "stream",
     "text": [
      "new\n",
      "top done: 0.09845614433288574\n",
      "side done: 0.14677071571350098\n",
      "22.062817096710205\n",
      "\n",
      "old\n",
      "top done: 26.09654664993286\n",
      "side done: 24.292970418930054\n",
      "71.42422080039978\n",
      "\n",
      "new\n",
      "top done: 0.10621857643127441\n",
      "side done: 0.11758875846862793\n",
      "15.73839783668518\n",
      "\n",
      "old\n",
      "top done: 24.503048181533813\n",
      "side done: 23.98878812789917\n",
      "63.804540395736694\n",
      "\n",
      "new\n",
      "top done: 0.15865278244018555\n",
      "side done: 0.06875777244567871\n",
      "15.212928771972656\n",
      "\n",
      "old\n",
      "top done: 24.67700719833374\n",
      "side done: 24.095340490341187\n",
      "63.94930028915405\n",
      "\n",
      "new\n",
      "top done: 0.12073397636413574\n",
      "side done: 0.06903338432312012\n",
      "15.175829887390137\n",
      "\n",
      "old\n",
      "top done: 24.415343284606934\n",
      "side done: 24.167150735855103\n",
      "63.406490087509155\n",
      "\n",
      "new\n",
      "top done: 0.06885075569152832\n",
      "side done: 0.09192013740539551\n"
     ]
    },
    {
     "ename": "KeyboardInterrupt",
     "evalue": "",
     "output_type": "error",
     "traceback": [
      "\u001b[0;31m---------------------------------------------------------------------------\u001b[0m",
      "\u001b[0;31mKeyboardInterrupt\u001b[0m                         Traceback (most recent call last)",
      "Cell \u001b[0;32mIn[7], line 22\u001b[0m\n\u001b[1;32m     20\u001b[0m \u001b[38;5;28mprint\u001b[39m(\u001b[38;5;124m\"\u001b[39m\u001b[38;5;124mnew\u001b[39m\u001b[38;5;124m\"\u001b[39m)\n\u001b[1;32m     21\u001b[0m t0 \u001b[38;5;241m=\u001b[39m time()\n\u001b[0;32m---> 22\u001b[0m dfs1\u001b[38;5;241m.\u001b[39mappend(\u001b[43mwinners1\u001b[49m\u001b[43m(\u001b[49m\u001b[43mvecs\u001b[49m\u001b[43m,\u001b[49m\u001b[43m \u001b[49m\u001b[43mx_vals\u001b[49m\u001b[43m,\u001b[49m\u001b[43m \u001b[49m\u001b[43mm0\u001b[49m\u001b[43m,\u001b[49m\u001b[43m \u001b[49m\u001b[43mm1\u001b[49m\u001b[43m,\u001b[49m\u001b[43m \u001b[49m\u001b[43my0\u001b[49m\u001b[43m,\u001b[49m\u001b[43m \u001b[49m\u001b[43mdx\u001b[49m\u001b[43m,\u001b[49m\u001b[43m \u001b[49m\u001b[43mdx_y\u001b[49m\u001b[43m)\u001b[49m)\n\u001b[1;32m     23\u001b[0m t1 \u001b[38;5;241m=\u001b[39m time()\n\u001b[1;32m     24\u001b[0m \u001b[38;5;28mprint\u001b[39m(t1\u001b[38;5;241m-\u001b[39mt0)\n",
      "File \u001b[0;32m~/MXM/Poincare_Sections/Library.py:991\u001b[0m, in \u001b[0;36mwinners1\u001b[0;34m(vecs0, x_vals, m0, m1, y0, dx, dx_y)\u001b[0m\n\u001b[1;32m    989\u001b[0m saddle_dict[\u001b[38;5;124m\"\u001b[39m\u001b[38;5;124mvec\u001b[39m\u001b[38;5;124m\"\u001b[39m]\u001b[38;5;241m.\u001b[39mappend(winner)\n\u001b[1;32m    990\u001b[0m \u001b[38;5;28;01mfor\u001b[39;00m i \u001b[38;5;129;01min\u001b[39;00m \u001b[38;5;28mrange\u001b[39m(\u001b[38;5;28mlen\u001b[39m(possible_vecs)):\n\u001b[0;32m--> 991\u001b[0m     \u001b[38;5;28;01mif\u001b[39;00m np\u001b[38;5;241m.\u001b[39marray_equal(winner, possible_vecs[i]):\n\u001b[1;32m    992\u001b[0m         check \u001b[38;5;241m+\u001b[39m\u001b[38;5;241m=\u001b[39m \u001b[38;5;241m1\u001b[39m\n\u001b[1;32m    993\u001b[0m         saddle_dict[\u001b[38;5;124m\"\u001b[39m\u001b[38;5;124mlab\u001b[39m\u001b[38;5;124m\"\u001b[39m]\u001b[38;5;241m.\u001b[39mappend(i)\n",
      "File \u001b[0;32m/usr/local/mambaforge/envs/flatsurf/lib/python3.9/site-packages/numpy/core/numeric.py:2439\u001b[0m, in \u001b[0;36marray_equal\u001b[0;34m(a1, a2, equal_nan)\u001b[0m\n\u001b[1;32m   2437\u001b[0m     \u001b[38;5;28;01mreturn\u001b[39;00m \u001b[38;5;28;01mFalse\u001b[39;00m\n\u001b[1;32m   2438\u001b[0m \u001b[38;5;28;01mif\u001b[39;00m \u001b[38;5;129;01mnot\u001b[39;00m equal_nan:\n\u001b[0;32m-> 2439\u001b[0m     \u001b[38;5;28;01mreturn\u001b[39;00m \u001b[38;5;28mbool\u001b[39m(asarray(\u001b[43ma1\u001b[49m\u001b[43m \u001b[49m\u001b[38;5;241;43m==\u001b[39;49m\u001b[43m \u001b[49m\u001b[43ma2\u001b[49m)\u001b[38;5;241m.\u001b[39mall())\n\u001b[1;32m   2440\u001b[0m \u001b[38;5;66;03m# Handling NaN values if equal_nan is True\u001b[39;00m\n\u001b[1;32m   2441\u001b[0m a1nan, a2nan \u001b[38;5;241m=\u001b[39m isnan(a1), isnan(a2)\n",
      "File \u001b[0;32msrc/cysignals/signals.pyx:310\u001b[0m, in \u001b[0;36mcysignals.signals.python_check_interrupt\u001b[0;34m()\u001b[0m\n",
      "\u001b[0;31mKeyboardInterrupt\u001b[0m: "
     ]
    }
   ],
   "source": [
    "#go thorugh all cusps\n",
    "dfs = []\n",
    "dfs1 = []\n",
    "for j in range(len(a[0])):\n",
    "\n",
    "    #change back to False in future\n",
    "    improved = False\n",
    "    if j == 0:\n",
    "        improved = True\n",
    "        \n",
    "    for i in range(len(a)):\n",
    "\n",
    "        #get dimensions of section \n",
    "        vecs, x_vals, m0, m1, x0, y0, dx_y, z = setup(a[i][j], c[i][j], e[i][j], vecs0, dx, improved)\n",
    "\n",
    "        if float(z) <= float(1/50000):\n",
    "            print(\"too small\")\n",
    "            continue\n",
    "\n",
    "        print(\"new\")\n",
    "        t0 = time()\n",
    "        dfs1.append(winners1(vecs, x_vals, m0, m1, y0, dx, dx_y))\n",
    "        t1 = time()\n",
    "        print(t1-t0)\n",
    "        print()\n",
    "        print(\"old\")\n",
    "        t2 = time()\n",
    "        dfs.append(winners(vecs, x_vals, m0, m1, y0, dx, dx_y))\n",
    "        t3 = time()\n",
    "        print(t3-t2)\n",
    "        print()\n",
    "        break"
   ]
  },
  {
   "cell_type": "code",
   "execution_count": null,
   "id": "44674a21-38c9-4baf-bddb-52bdb333f6c2",
   "metadata": {},
   "outputs": [],
   "source": [
    "for j in range(len(dfs)):\n",
    "    df1 = dfs[j]\n",
    "    df2 = dfs1[j]\n",
    "    \n",
    "    for i in range(len(df1)):\n",
    "        for col in df1.columns:\n",
    "            if col == \"vec\":\n",
    "                if np.array_equal(df1.loc[i, col], df2.loc[i, col]):\n",
    "                    continue\n",
    "                else:\n",
    "                    print(i)\n",
    "                    break\n",
    "            else: \n",
    "                if df1.loc[i, col] == df2.loc[i, col]:\n",
    "                    continue\n",
    "                else: \n",
    "                    print(i)\n",
    "                    break\n",
    "    print(str(j) + \" done\")"
   ]
  }
 ],
 "metadata": {
  "kernelspec": {
   "display_name": "SageMath 10.0",
   "language": "sage",
   "name": "sagemath"
  },
  "language_info": {
   "codemirror_mode": {
    "name": "ipython",
    "version": 3
   },
   "file_extension": ".py",
   "mimetype": "text/x-python",
   "name": "python",
   "nbconvert_exporter": "python",
   "pygments_lexer": "ipython3",
   "version": "3.9.18"
  }
 },
 "nbformat": 4,
 "nbformat_minor": 5
}
