{
 "cells": [
  {
   "cell_type": "code",
   "execution_count": 1,
   "id": "79d725ec-9868-4ab1-addb-b90f38007a34",
   "metadata": {},
   "outputs": [],
   "source": [
    "import numpy as np\n",
    "from matplotlib import pyplot as plt\n",
    "import pandas as pd\n",
    "from flatsurf import *\n",
    "import os\n",
    "import pwlf\n",
    "import os\n",
    "from surface_dynamics.all import *\n",
    "from Library import *\n",
    "from Library import Section\n",
    "import math\n",
    "from time import time\n",
    "import copy\n",
    "from scipy import integrate\n",
    "import sympy as sym\n",
    "from sympy import Symbol\n",
    "from sympy import solve, lambdify\n",
    "import traceback\n",
    "import dill\n",
    "import sys\n",
    "import unittest\n",
    "from surface_dynamics.all import Origami\n",
    "from utils import load_arrays_from_file  # testing\n",
    "from sage.all import matrix  # testing"
   ]
  },
  {
   "cell_type": "code",
   "execution_count": 2,
   "id": "5bce3c38-1d89-4577-bb3f-be09f979d77e",
   "metadata": {},
   "outputs": [],
   "source": [
    "# 7-0, 7-3, 7-7, 7-19, 7-29, 7-41\n",
    "n_squares = 7\n",
    "index = 1\n",
    "j = 8\n",
    "dx = 0.0005"
   ]
  },
  {
   "cell_type": "code",
   "execution_count": 3,
   "id": "0daadaf1-f26d-4091-9f1b-cbf40f034425",
   "metadata": {},
   "outputs": [],
   "source": [
    "permutations = perms_list(n_squares)\n",
    "perm = permutations[index]\n",
    "\n",
    "vec_file = \"vecs\" + str(n_squares) + \"-\" + str(index) + \".npy\"\n",
    "vecs0 = load_arrays_from_file(os.path.join(\"vecs\", vec_file))\n",
    "\n",
    "with open(os.path.join(\"results\", f\"{n_squares} - {index}\", \"setup.dill\"), 'rb') as f:\n",
    "    loaded_data = dill.load(f)\n",
    "a,c,e,g = loaded_data"
   ]
  },
  {
   "cell_type": "code",
   "execution_count": null,
   "id": "91cad05c-0e12-447a-90f4-830d2656195d",
   "metadata": {},
   "outputs": [
    {
     "name": "stdout",
     "output_type": "stream",
     "text": [
      "0\n",
      "37198595\n"
     ]
    }
   ],
   "source": [
    "i_list = [0,3,4,8,11,18]\n",
    "i_list = [0]\n",
    "for i in i_list:\n",
    "    print(i)\n",
    "    # get dimensions of section\n",
    "    vecs, x_vals, m0, m1, x0, y0, dx_y, z = setup(\n",
    "        a[i][j], np.round(c[i][j], decimals = 5), e[i][j], vecs0, dx, True)\n",
    "    #print(z)\n",
    "    print(\"i = \" + str(i), \"j = \" + str(j))\n",
    "    \n",
    "    #if float(z) <= float(1/50000):\n",
    "     #   print(\"too small\")\n",
    "      #  continue\n",
    "    \n",
    "    # create a dataframe with winning vector at certain points in the section\n",
    "    df = winners1(vecs, x_vals, m0, m1, y0, dx, dx_y)\n",
    "    \n",
    "    # plot poincare section and save\n",
    "    try:\n",
    "        plot(df, vecs, c[i][j], j, n_squares, index, test=False)\n",
    "    except Exception as error:\n",
    "        print(error)\n",
    "        continue\n",
    "    df.to_csv(os.path.join(\n",
    "        \"results\", f\"{n_squares} - {index}\", \"df - \" + str(j)), index=False)\n",
    "    \n",
    "    # make section object that define winning vector and line equations for boundaries of subsections\n",
    "    sec_list = sec_setup(df, dx_y)\n",
    "    secs = sec_comp(sec_list, dx)\n",
    "    with open(os.path.join(\"results\", f\"{n_squares} - {index}\", \"secs - \" + str(j) + \".dill\"), 'wb') as f:\n",
    "        dill.dump(secs, f)\n",
    "    \n",
    "    times = [1]\n",
    "    if improved:\n",
    "        times = time_comp(secs)\n",
    "    \n",
    "    # plot the pdf for each cusp\n",
    "    pdf(list(df[\"time\"]), times, dx*2, n_squares, index, j)"
   ]
  }
 ],
 "metadata": {
  "kernelspec": {
   "display_name": "SageMath 10.0",
   "language": "sage",
   "name": "sagemath"
  },
  "language_info": {
   "codemirror_mode": {
    "name": "ipython",
    "version": 3
   },
   "file_extension": ".py",
   "mimetype": "text/x-python",
   "name": "python",
   "nbconvert_exporter": "python",
   "pygments_lexer": "ipython3",
   "version": "3.9.18"
  }
 },
 "nbformat": 4,
 "nbformat_minor": 5
}
