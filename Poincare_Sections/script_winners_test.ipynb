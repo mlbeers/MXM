{
 "cells": [
  {
   "cell_type": "code",
   "execution_count": 2,
   "id": "a6ec6079-331d-47a3-ad1b-68a96a6bced0",
   "metadata": {},
   "outputs": [],
   "source": [
    "from multiprocessing import Pool\n",
    "from sage.all import matrix  # testing\n",
    "from sage.all import *\n",
    "import numpy as np\n",
    "from matplotlib import pyplot as plt\n",
    "import pandas as pd\n",
    "from flatsurf import *\n",
    "import os\n",
    "import pwlf\n",
    "from surface_dynamics.all import *\n",
    "import math\n",
    "from time import time\n",
    "import copy\n",
    "from scipy import integrate\n",
    "import traceback\n",
    "import dill\n",
    "import sys\n",
    "import unittest\n",
    "from surface_dynamics.all import Origami\n",
    "from utils import load_arrays_from_file  # testing\n",
    "from fractions import Fraction as frac\n",
    "import sympy as sym\n",
    "from sympy import Symbol\n",
    "from sympy import solve, lambdify, Eq\n",
    "from sympy import Rational, sqrt\n",
    "from Library import *\n",
    "from Library import Section"
   ]
  },
  {
   "cell_type": "code",
   "execution_count": 3,
   "id": "9664a96a-17a3-448d-b339-f85947d6ba3f",
   "metadata": {},
   "outputs": [],
   "source": [
    "# number of squares for STS\n",
    "n_squares = 7\n",
    "# index to start at\n",
    "index = 0\n",
    "dx = 0.0005"
   ]
  },
  {
   "cell_type": "code",
   "execution_count": 4,
   "id": "5aa9d724-84ea-45ac-ad0a-734f15352391",
   "metadata": {},
   "outputs": [
    {
     "data": {
      "image/png": "[encoded data removed]",
      "text/plain": [
       "Graphics object consisting of 71 graphics primitives"
      ]
     },
     "metadata": {},
     "output_type": "display_data"
    }
   ],
   "source": [
    "permutations = perms_list(n_squares)\n",
    "perm = permutations[index]\n",
    "perm.show()"
   ]
  },
  {
   "cell_type": "code",
   "execution_count": 5,
   "id": "504e5066-0be5-488a-83f2-df86f625cafb",
   "metadata": {},
   "outputs": [
    {
     "ename": "FileNotFoundError",
     "evalue": "[Errno 2] No such file or directory: 'vecs/vecs7-0.npy'",
     "output_type": "error",
     "traceback": [
      "\u001b[0;31m---------------------------------------------------------------------------\u001b[0m",
      "\u001b[0;31mFileNotFoundError\u001b[0m                         Traceback (most recent call last)",
      "Cell \u001b[0;32mIn[5], line 2\u001b[0m\n\u001b[1;32m      1\u001b[0m vec_file \u001b[38;5;241m=\u001b[39m \u001b[38;5;124m\"\u001b[39m\u001b[38;5;124mvecs\u001b[39m\u001b[38;5;124m\"\u001b[39m \u001b[38;5;241m+\u001b[39m \u001b[38;5;28mstr\u001b[39m(n_squares) \u001b[38;5;241m+\u001b[39m \u001b[38;5;124m\"\u001b[39m\u001b[38;5;124m-\u001b[39m\u001b[38;5;124m\"\u001b[39m \u001b[38;5;241m+\u001b[39m \u001b[38;5;28mstr\u001b[39m(index) \u001b[38;5;241m+\u001b[39m \u001b[38;5;124m\"\u001b[39m\u001b[38;5;124m.npy\u001b[39m\u001b[38;5;124m\"\u001b[39m\n\u001b[0;32m----> 2\u001b[0m vecs0 \u001b[38;5;241m=\u001b[39m \u001b[43mload_arrays_from_file\u001b[49m\u001b[43m(\u001b[49m\u001b[43mos\u001b[49m\u001b[38;5;241;43m.\u001b[39;49m\u001b[43mpath\u001b[49m\u001b[38;5;241;43m.\u001b[39;49m\u001b[43mjoin\u001b[49m\u001b[43m(\u001b[49m\u001b[38;5;124;43m\"\u001b[39;49m\u001b[38;5;124;43mvecs\u001b[39;49m\u001b[38;5;124;43m\"\u001b[39;49m\u001b[43m,\u001b[49m\u001b[43m \u001b[49m\u001b[43mvec_file\u001b[49m\u001b[43m)\u001b[49m\u001b[43m)\u001b[49m\n",
      "File \u001b[0;32m~/MXM/Poincare_Sections/Library.py:1170\u001b[0m, in \u001b[0;36mload_arrays_from_file\u001b[0;34m(file_path)\u001b[0m\n\u001b[1;32m   1168\u001b[0m \u001b[38;5;28;01mdef\u001b[39;00m \u001b[38;5;21mload_arrays_from_file\u001b[39m(file_path):\n\u001b[1;32m   1169\u001b[0m     \u001b[38;5;66;03m# Load arrays from the NumPy file\u001b[39;00m\n\u001b[0;32m-> 1170\u001b[0m     arrays_list \u001b[38;5;241m=\u001b[39m \u001b[43mnp\u001b[49m\u001b[38;5;241;43m.\u001b[39;49m\u001b[43mload\u001b[49m\u001b[43m(\u001b[49m\u001b[43mfile_path\u001b[49m\u001b[43m,\u001b[49m\u001b[43m \u001b[49m\u001b[43mallow_pickle\u001b[49m\u001b[38;5;241;43m=\u001b[39;49m\u001b[38;5;28;43;01mTrue\u001b[39;49;00m\u001b[43m)\u001b[49m\n\u001b[1;32m   1171\u001b[0m     \u001b[38;5;66;03m# Ensure each element in the list is a NumPy array\u001b[39;00m\n\u001b[1;32m   1172\u001b[0m     arrays_list \u001b[38;5;241m=\u001b[39m [np\u001b[38;5;241m.\u001b[39marray(array) \u001b[38;5;28;01mfor\u001b[39;00m array \u001b[38;5;129;01min\u001b[39;00m arrays_list]\n",
      "File \u001b[0;32m/usr/local/mambaforge/envs/flatsurf/lib/python3.9/site-packages/numpy/lib/npyio.py:427\u001b[0m, in \u001b[0;36mload\u001b[0;34m(file, mmap_mode, allow_pickle, fix_imports, encoding, max_header_size)\u001b[0m\n\u001b[1;32m    425\u001b[0m     own_fid \u001b[38;5;241m=\u001b[39m \u001b[38;5;28;01mFalse\u001b[39;00m\n\u001b[1;32m    426\u001b[0m \u001b[38;5;28;01melse\u001b[39;00m:\n\u001b[0;32m--> 427\u001b[0m     fid \u001b[38;5;241m=\u001b[39m stack\u001b[38;5;241m.\u001b[39menter_context(\u001b[38;5;28;43mopen\u001b[39;49m\u001b[43m(\u001b[49m\u001b[43mos_fspath\u001b[49m\u001b[43m(\u001b[49m\u001b[43mfile\u001b[49m\u001b[43m)\u001b[49m\u001b[43m,\u001b[49m\u001b[43m \u001b[49m\u001b[38;5;124;43m\"\u001b[39;49m\u001b[38;5;124;43mrb\u001b[39;49m\u001b[38;5;124;43m\"\u001b[39;49m\u001b[43m)\u001b[49m)\n\u001b[1;32m    428\u001b[0m     own_fid \u001b[38;5;241m=\u001b[39m \u001b[38;5;28;01mTrue\u001b[39;00m\n\u001b[1;32m    430\u001b[0m \u001b[38;5;66;03m# Code to distinguish from NumPy binary files and pickles.\u001b[39;00m\n",
      "\u001b[0;31mFileNotFoundError\u001b[0m: [Errno 2] No such file or directory: 'vecs/vecs7-0.npy'"
     ]
    }
   ],
   "source": [
    "vec_file = \"vecs\" + str(n_squares) + \"-\" + str(index) + \".npy\"\n",
    "vecs0 = load_arrays_from_file(os.path.join(\"vecs\", vec_file))"
   ]
  },
  {
   "cell_type": "code",
   "execution_count": null,
   "id": "381ddcef-f0c3-4206-b531-76e3ec56e0c2",
   "metadata": {},
   "outputs": [],
   "source": [
    "# generate a list of alpha, c matrices, and eigenvectors for each cusp of the STS to experiment with to find \"nice\" sections for our poincare sections\n",
    "\n",
    "with open(os.path.join(\"results\", f\"{n_squares} - {index}\", \"setup.dill\"), 'rb') as f:\n",
    "    a,c,e,gs = dill.load(f)\n",
    "\n",
    "a = []\n",
    "c = []\n",
    "e = []\n",
    "g = []\n",
    "for num in range(10):\n",
    "    try:\n",
    "        alphas, Cs, Ss, eigs, Ms, gens, eigenvecs = poincare_setup(perm, vecs0, g)\n",
    "        print(alphas)\n",
    "    except Exception as ex:\n",
    "        print(ex)\n",
    "        continue\n",
    "    a.append(alphas)\n",
    "    c.append(Cs)\n",
    "    e.append(eigenvecs)\n",
    "    g.append(generators)\n",
    "print(f'length of alphas: {len(a)}')"
   ]
  },
  {
   "cell_type": "code",
   "execution_count": 6,
   "id": "f14db4a5-7b82-40fe-b450-65ff00ce7beb",
   "metadata": {},
   "outputs": [],
   "source": [
    "with open(os.path.join(\"results\", f\"{n_squares} - {index}\", \"setup.dill\"), 'rb') as f:\n",
    "    a,c,e,gs = dill.load(f)\n",
    "\n",
    "if a == a:\n",
    "    print(\"a passed\")\n",
    "else:\n",
    "    print(\"a FAILED\")\n",
    "if c == c:\n",
    "    print(\"c passed\")\n",
    "else:\n",
    "    print(\"c FAILED\")\n",
    "if e == e:\n",
    "    print(\"e passed\")\n",
    "else:\n",
    "    print(\"e FAILED\")"
   ]
  },
  {
   "cell_type": "code",
   "execution_count": null,
   "id": "7f80016b-a5ef-43b8-93fc-fc28b61d3007",
   "metadata": {},
   "outputs": [],
   "source": [
    "# list to check all output\n",
    "all_output = []\n",
    "\n",
    "# can change j to look at only one cusp\n",
    "for j in range(len(a[0]])):\n",
    "    \n",
    "    # list to collect output at each cusp\n",
    "    cusp_output = []\n",
    "    \n",
    "    list_as = []\n",
    "    list_cs = []\n",
    "    list_es = []\n",
    "    for a_, c_, e_ in zip(a, c, e):\n",
    "        list_as.append(a_[j])\n",
    "        list_cs.append(c_[j])\n",
    "        list_es.append(e_[j])\n",
    "    \n",
    "    # Sort a, c, and e together based on the absolute value of the lower-right entry of c\n",
    "    sorted_pairs = sorted(zip(list_as, list_cs, list_es), key=lambda pair: abs(pair[1][1, 1]) + abs(pair[1][1,0]))\n",
    "    \n",
    "    # Unzip back into separate sorted lists\n",
    "    sorted_a, sorted_c, sorted_e = zip(*sorted_pairs)\n",
    "    \n",
    "    # Convert tuples to lists\n",
    "    sorted_a = list(sorted_a)\n",
    "    sorted_c = list(sorted_c)\n",
    "    sorted_e = list(sorted_e)\n",
    "    \n",
    "    for i in range(len(sorted_a)):\n",
    "        # get dimensions of section\n",
    "        vecs, x_vals, m0, m1, x0, y0, dx_y, z = setup(\n",
    "            sorted_a[i], sorted_c[i], sorted_e[i], vecs0, dx, True)\n",
    "        \n",
    "        print(\"i = \" + str(i), \"j = \" + str(j))\n",
    "    \n",
    "        if float(z) <= float(1/50000):\n",
    "            print(\"too small\")\n",
    "            continue\n",
    "    \n",
    "        # create a dataframe with winning vector at certain points in the section\n",
    "        df = winners(vecs, x_vals, m0, m1, y0, dx, dx_y)\n",
    "        cusp_output.append(df)\n",
    "        # plot poincare section and save\n",
    "        try:\n",
    "            plot(df, vecs, sorted_c[i], j, n_squares, index, test=False)\n",
    "        except Exception as error:\n",
    "            print(error)\n",
    "            continue\n",
    "    \n",
    "        # make section object that define winning vector and line equations for boundaries of subsections\n",
    "        sec_list = sec_setup(df, dx_y)\n",
    "        secs = sec_comp(sec_list, dx)\n",
    "        sec_list2, vec_order, vec_dict = sec_setup2(df, dx_y)\n",
    "        secs2 = sec_comp2(df, sec_list2, vec_order, vec_dict, dx, dx_y, m1, y0)\n",
    "\n",
    "        cusp_output.extend([secs, secs2])\n",
    "    \n",
    "        times = time_comp(secs)\n",
    "    \n",
    "        # plot the pdf for each cusp\n",
    "        pdf(list(df[\"time\"]), times, dx*2, n_squares, index, j)\n",
    "        \n",
    "        print(f\"section {j} done\")\n",
    "\n",
    "        all_output.append(cusp_output)\n",
    "        \n",
    "        break"
   ]
  },
  {
   "cell_type": "code",
   "execution_count": null,
   "id": "08376a9a-7c52-4c71-8f0e-ac7ee8915bbc",
   "metadata": {},
   "outputs": [],
   "source": [
    "for i, results in enumerate(all_output):\n",
    "    df = results[0]\n",
    "    secs = results[1]\n",
    "    secs2 = results[2]\n",
    "\n",
    "    df0 = pd.read_csv(os.path.join(\"results\", f\"{n_squares} - {index}\", f\"df - {i}.csv\"))\n",
    "    \n",
    "    with open(os.path.join(\"results\", f\"{n_squares} - {index}\", f\"secs - {i}.dill\"), 'rb') as f:\n",
    "        secs0 = dill.load(f)\n",
    "\n",
    "    with open(os.path.join(\"results\", f\"{n_squares} - {index}\", f\"secs_integrals - {i}.dill\"), 'rb') as f:\n",
    "        secs2_0 = dill.load(f)\n",
    "\n",
    "    print(f\"cusp: {i}\")\n",
    "    if df == df0:\n",
    "        print(\"df passed\")\n",
    "    else:\n",
    "        print(\"df FAILED\")\n",
    "    if secs == secs0:\n",
    "        print(\"secs passed\")\n",
    "    else:\n",
    "        print(\"secs FAILED\")\n",
    "    if secs2 == secs2_0:\n",
    "        print(\"secs2 passed\")\n",
    "    else:\n",
    "        print(\"secs2 FAILED\")"
   ]
  }
 ],
 "metadata": {
  "kernelspec": {
   "display_name": "SageMath 10.0",
   "language": "sage",
   "name": "sagemath"
  },
  "language_info": {
   "codemirror_mode": {
    "name": "ipython",
    "version": 3
   },
   "file_extension": ".py",
   "mimetype": "text/x-python",
   "name": "python",
   "nbconvert_exporter": "python",
   "pygments_lexer": "ipython3",
   "version": "3.9.18"
  }
 },
 "nbformat": 4,
 "nbformat_minor": 5
}
