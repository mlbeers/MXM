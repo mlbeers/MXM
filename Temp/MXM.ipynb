{
 "cells": [
  {
   "cell_type": "code",
   "execution_count": 1,
   "id": "1f648747-c0ab-43e1-a1e2-cfebbf7c565d",
   "metadata": {},
   "outputs": [],
   "source": [
    "import numpy as np\n",
    "from matplotlib import pyplot as plt\n",
    "import pandas as pd\n",
    "from flatsurf import *\n",
    "import numpy as np\n",
    "from matplotlib import pyplot as plt\n",
    "import os\n",
    "import pwlf\n",
    "import sympy as sym\n",
    "from sympy import Symbol\n",
    "from sympy import solve, lambdify\n",
    "import os\n",
    "from Poincare import *\n",
    "from Poincare import Section\n",
    "import math\n",
    "from surface_dynamics.all import *\n",
    "from time import time"
   ]
  },
  {
   "cell_type": "code",
   "execution_count": 3,
   "id": "36d9a07e-54d0-4cd2-99ca-f692216ee094",
   "metadata": {},
   "outputs": [],
   "source": [
    "def load_arrays_from_file(file_path):\n",
    "    # Load arrays from the NumPy file\n",
    "    arrays_list = np.load(file_path, allow_pickle=True)\n",
    "    \n",
    "    # Ensure each element in the list is a NumPy array\n",
    "    arrays_list = [np.array(array) for array in arrays_list]\n",
    "    \n",
    "    return arrays_list"
   ]
  },
  {
   "cell_type": "code",
   "execution_count": 4,
   "id": "d25c8102-ada7-4b91-8828-61c49e1a451c",
   "metadata": {},
   "outputs": [
    {
     "ename": "KeyboardInterrupt",
     "evalue": "",
     "output_type": "error",
     "traceback": [
      "\u001b[0;31m---------------------------------------------------------------------------\u001b[0m",
      "\u001b[0;31mKeyboardInterrupt\u001b[0m                         Traceback (most recent call last)",
      "Cell \u001b[0;32mIn[4], line 1\u001b[0m\n\u001b[0;32m----> 1\u001b[0m vecs0 \u001b[38;5;241m=\u001b[39m \u001b[43mload_arrays_from_file\u001b[49m\u001b[43m(\u001b[49m\u001b[43mos\u001b[49m\u001b[38;5;241;43m.\u001b[39;49m\u001b[43mpath\u001b[49m\u001b[38;5;241;43m.\u001b[39;49m\u001b[43mjoin\u001b[49m\u001b[43m(\u001b[49m\u001b[38;5;124;43m\"\u001b[39;49m\u001b[38;5;124;43mvecs\u001b[39;49m\u001b[38;5;124;43m\"\u001b[39;49m\u001b[43m,\u001b[49m\u001b[43m \u001b[49m\u001b[38;5;124;43m\"\u001b[39;49m\u001b[38;5;124;43mvecs7-4.npy\u001b[39;49m\u001b[38;5;124;43m\"\u001b[39;49m\u001b[43m)\u001b[49m\u001b[43m)\u001b[49m\n",
      "Cell \u001b[0;32mIn[3], line 6\u001b[0m, in \u001b[0;36mload_arrays_from_file\u001b[0;34m(file_path)\u001b[0m\n\u001b[1;32m      3\u001b[0m arrays_list \u001b[38;5;241m=\u001b[39m np\u001b[38;5;241m.\u001b[39mload(file_path, allow_pickle\u001b[38;5;241m=\u001b[39m\u001b[38;5;28;01mTrue\u001b[39;00m)\n\u001b[1;32m      5\u001b[0m \u001b[38;5;66;03m# Ensure each element in the list is a NumPy array\u001b[39;00m\n\u001b[0;32m----> 6\u001b[0m arrays_list \u001b[38;5;241m=\u001b[39m [np\u001b[38;5;241m.\u001b[39marray(array) \u001b[38;5;28;01mfor\u001b[39;00m array \u001b[38;5;129;01min\u001b[39;00m arrays_list]\n\u001b[1;32m      8\u001b[0m \u001b[38;5;28;01mreturn\u001b[39;00m arrays_list\n",
      "Cell \u001b[0;32mIn[3], line 6\u001b[0m, in \u001b[0;36m<listcomp>\u001b[0;34m(.0)\u001b[0m\n\u001b[1;32m      3\u001b[0m arrays_list \u001b[38;5;241m=\u001b[39m np\u001b[38;5;241m.\u001b[39mload(file_path, allow_pickle\u001b[38;5;241m=\u001b[39m\u001b[38;5;28;01mTrue\u001b[39;00m)\n\u001b[1;32m      5\u001b[0m \u001b[38;5;66;03m# Ensure each element in the list is a NumPy array\u001b[39;00m\n\u001b[0;32m----> 6\u001b[0m arrays_list \u001b[38;5;241m=\u001b[39m [\u001b[43mnp\u001b[49m\u001b[38;5;241m.\u001b[39marray(array) \u001b[38;5;28;01mfor\u001b[39;00m array \u001b[38;5;129;01min\u001b[39;00m arrays_list]\n\u001b[1;32m      8\u001b[0m \u001b[38;5;28;01mreturn\u001b[39;00m arrays_list\n",
      "File \u001b[0;32msrc/cysignals/signals.pyx:310\u001b[0m, in \u001b[0;36mcysignals.signals.python_check_interrupt\u001b[0;34m()\u001b[0m\n",
      "\u001b[0;31mKeyboardInterrupt\u001b[0m: "
     ]
    }
   ],
   "source": [
    "vecs0 = load_arrays_from_file(os.path.join(\"vecs\", \"vecs7-4.npy\"))"
   ]
  },
  {
   "cell_type": "code",
   "execution_count": null,
   "id": "6cccd8a3-524e-4003-9d3a-2d455f535846",
   "metadata": {},
   "outputs": [],
   "source": [
    "slopes = []\n",
    "for vec in vecs0:\n",
    "    if vec[0] == 0:\n",
    "        continue\n",
    "    slope = vec[1] / vec[0]\n",
    "    slopes.append(slope)"
   ]
  },
  {
   "cell_type": "code",
   "execution_count": null,
   "id": "d65497aa-dd05-4115-95bd-ba068eda4484",
   "metadata": {},
   "outputs": [],
   "source": [
    "len(vecs0)"
   ]
  },
  {
   "cell_type": "code",
   "execution_count": null,
   "id": "530a277c-d047-4dca-9664-dc5a91521cff",
   "metadata": {},
   "outputs": [],
   "source": [
    "len(slopes)"
   ]
  },
  {
   "cell_type": "code",
   "execution_count": null,
   "id": "ca574502-bcbe-4a3a-90ff-8b2b55d7fa1b",
   "metadata": {},
   "outputs": [],
   "source": [
    "def compute(seq):\n",
    "    gaps = list()\n",
    "    for i in range(0,len(seq) - 1):\n",
    "        gap = seq[i+1] - seq[i]\n",
    "        gaps.append(abs(gap))\n",
    "    return gaps"
   ]
  },
  {
   "cell_type": "code",
   "execution_count": null,
   "id": "0807d639-e371-4905-9038-8c4b3cfe3edf",
   "metadata": {},
   "outputs": [],
   "source": [
    "def graphing_dict(gaps_list, binwidth):\n",
    "    #Create a dictionary\n",
    "    bins_dict = {}\n",
    "    #Create bins of width \"binwidth\" to add slope differences\n",
    "    bins = list(np.arange(0, 1, binwidth))\n",
    "    for bin in bins:\n",
    "        bins_dict[bin] = 0\n",
    "    #add slope gaps to respective bins\n",
    "    for gap in gaps_list:\n",
    "        for bin in bins:\n",
    "            if gap < bin:\n",
    "                bins_dict[bin] += 1\n",
    "                break\n",
    "    return bins_dict"
   ]
  },
  {
   "cell_type": "code",
   "execution_count": null,
   "id": "17d44893-bb1b-44e0-ab61-ad7c58117863",
   "metadata": {},
   "outputs": [],
   "source": [
    "def plot_distribution(slopes, binwidth):\n",
    "    gaps = compute(slopes)\n",
    "    gaps_dict = graphing_dict(gaps, binwidth)\n",
    "    # this for-loop finds the smallest gap. By multiplying by 4, we find the second non-differentiable point and by multiplying by 8, we         get a good window of the distribution\n",
    "    for bin in gaps_dict.keys():\n",
    "        if gaps_dict[bin] != 0:\n",
    "            bound = int(bin*8/binwidth)\n",
    "            break\n",
    "    plt.scatter(list(gaps_dict.keys())[:bound], list(gaps_dict.values())[:bound], s = 5)"
   ]
  },
  {
   "cell_type": "code",
   "execution_count": null,
   "id": "a21c93ce-5015-4490-978f-810d9138b251",
   "metadata": {},
   "outputs": [],
   "source": [
    "plot_distribution(slopes, 0.0000001)"
   ]
  },
  {
   "cell_type": "code",
   "execution_count": 1,
   "id": "1b3224b4-fa63-45b5-b960-d482d38e0e74",
   "metadata": {
    "editable": true,
    "slideshow": {
     "slide_type": ""
    },
    "tags": []
   },
   "outputs": [],
   "source": [
    "import numpy as np\n",
    "from matplotlib import pyplot as plt\n",
    "import pandas as pd\n",
    "from time import time\n",
    "#!/bin/env -S sage -python\n",
    "from flatsurf import *\n",
    "from sage.all import *\n",
    "import sys\n",
    "import pandas as pd\n",
    "import re\n",
    "import os\n",
    "\n",
    "def load_arrays_from_file(file_path):\n",
    "    # Load arrays from the NumPy file\n",
    "    arrays_list = np.load(file_path, allow_pickle=True)\n",
    "    \n",
    "    # Ensure each element in the list is a NumPy array\n",
    "    arrays_list = [np.array(array) for array in arrays_list]\n",
    "    \n",
    "    return arrays_list\n",
    "\n",
    "def compute(seq):\n",
    "    gaps = list()\n",
    "    for i in range(0,len(seq) - 1):\n",
    "        gap = seq[i+1] - seq[i]\n",
    "        gaps.append(abs(gap))\n",
    "    return gaps\n",
    "\n",
    "def graphing_dict(gaps_list, points):\n",
    "    #Create a dictionary\n",
    "    bins_dict = {}\n",
    "    #Create bins of width \"binwidth\" to add slope differences\n",
    "    bins = list(np.arange(0, min(gaps_list)*10, min(gaps_list)*10/points))\n",
    "    for bin in bins:\n",
    "        bins_dict[bin] = 0\n",
    "    #add slope gaps to respective bins\n",
    "    for gap in gaps_list:\n",
    "        for bin in bins:\n",
    "            if gap < bin:\n",
    "                bins_dict[bin] += 1\n",
    "                break\n",
    "    return bins_dict\n",
    "\n",
    "def plot_distribution(slopes, binwidth):\n",
    "    fig, ax = plt.subplots(figsize=(10, 10))\n",
    "    gaps = compute(slopes)\n",
    "    gaps_dict = graphing_dict(gaps, binwidth)\n",
    "    for bin in gaps_dict.keys():\n",
    "        if gaps_dict[bin] != 0:\n",
    "            bound = int(bin*8/binwidth)\n",
    "            break\n",
    "    ax.scatter(list(gaps_dict.keys())[:bound], list(gaps_dict.values())[:bound], s = 5)\n",
    "    plt.savefig(os.path.join(\"gaps\", f\"{n_squares} - {index}\"))\n",
    "\n",
    "def slopes(vecs):\n",
    "    slopes = set()\n",
    "    for vec in vecs:\n",
    "        if vec[0] == 0:\n",
    "            continue\n",
    "        x = vec[0][0]\n",
    "        y = vec[1][0]\n",
    "        #if x <= 1000 and y <= 1000:\n",
    "        slopes.add(y/x)\n",
    "    slopes = list(slopes)\n",
    "    slopes.sort()\n",
    "    return slopes"
   ]
  },
  {
   "cell_type": "code",
   "execution_count": 2,
   "id": "cab8a513-b2ed-411a-a516-59e513831960",
   "metadata": {},
   "outputs": [],
   "source": [
    "n_squares = 7\n",
    "index = 4\n",
    "path = \"vecs7-4.npy\"\n",
    "\n",
    "vecs = load_arrays_from_file(os.path.join(\"vecs\", path))"
   ]
  },
  {
   "cell_type": "code",
   "execution_count": 3,
   "id": "e31f3c5b-5b0d-4a4b-8262-a2ba7374fc7b",
   "metadata": {},
   "outputs": [
    {
     "data": {
      "text/plain": [
       "3618904"
      ]
     },
     "execution_count": 3,
     "metadata": {},
     "output_type": "execute_result"
    }
   ],
   "source": [
    "len(vecs)"
   ]
  },
  {
   "cell_type": "code",
   "execution_count": 4,
   "id": "2dbd7f5d-63ba-4403-92bc-8d7f8c21e1f2",
   "metadata": {},
   "outputs": [],
   "source": [
    "slopes = slopes(vecs)"
   ]
  },
  {
   "cell_type": "code",
   "execution_count": 5,
   "id": "b9d3214f-ced4-4c2e-90ee-30d4c0417b62",
   "metadata": {},
   "outputs": [
    {
     "data": {
      "text/plain": [
       "1632723"
      ]
     },
     "execution_count": 5,
     "metadata": {},
     "output_type": "execute_result"
    }
   ],
   "source": [
    "len(slopes)"
   ]
  },
  {
   "cell_type": "code",
   "execution_count": 6,
   "id": "58e4cc2d-b255-4f33-88a6-4d9c0a7152f2",
   "metadata": {},
   "outputs": [],
   "source": [
    "gaps = compute(slopes)"
   ]
  },
  {
   "cell_type": "code",
   "execution_count": 7,
   "id": "1c1494a2-0430-4cf9-b52c-e8a3fb1f973a",
   "metadata": {},
   "outputs": [
    {
     "data": {
      "text/plain": [
       "1632722"
      ]
     },
     "execution_count": 7,
     "metadata": {},
     "output_type": "execute_result"
    }
   ],
   "source": [
    "len(gaps)"
   ]
  },
  {
   "cell_type": "code",
   "execution_count": 8,
   "id": "a4fbd870-864a-4838-baaa-b1fa3e1a572e",
   "metadata": {},
   "outputs": [],
   "source": [
    "a = list(sorted(gaps))\n",
    "factor = 1/min(a)\n",
    "b = []\n",
    "for item in a:\n",
    "    b.append(item*factor)"
   ]
  },
  {
   "cell_type": "code",
   "execution_count": 15,
   "id": "c7f64bf8-af67-438c-b6a3-aac76f514903",
   "metadata": {},
   "outputs": [],
   "source": [
    "dx = 0.2\n",
    "times = list(np.arange(0, 8, dx))\n",
    "cdf = [0]\n",
    "#compute cdf\n",
    "for t in times:\n",
    "    num = cdf[-1]\n",
    "    for i in range(num, len(b)):\n",
    "        if b[i] <= t:\n",
    "            num += 1\n",
    "            continue\n",
    "        else:\n",
    "            cdf.append(num)\n",
    "            break"
   ]
  },
  {
   "cell_type": "code",
   "execution_count": 16,
   "id": "2c7834b4-c3f5-4ded-90c2-5922d7cec29e",
   "metadata": {},
   "outputs": [
    {
     "data": {
      "text/plain": [
       "<matplotlib.collections.PathCollection object at 0x7f5a14ecbfa0>"
      ]
     },
     "execution_count": 16,
     "metadata": {},
     "output_type": "execute_result"
    },
    {
     "data": {
      "image/png": "[encoded data removed]",
      "text/plain": [
       "<Figure size 1000x1000 with 1 Axes>"
      ]
     },
     "metadata": {},
     "output_type": "display_data"
    }
   ],
   "source": [
    "#compute pdf\n",
    "pdf = []\n",
    "for i in range(len(cdf) - 1):\n",
    "    delta = (cdf[i+1] - cdf[i])/dx\n",
    "    pdf.append(delta)\n",
    "fig, ax = plt.subplots(figsize=(10, 10))\n",
    "ax.scatter(times, pdf, s = 0.5)"
   ]
  },
  {
   "cell_type": "code",
   "execution_count": 53,
   "id": "ecc2e7c7-ddf2-4b9c-ac51-499e22778a8c",
   "metadata": {},
   "outputs": [
    {
     "name": "stdout",
     "output_type": "stream",
     "text": [
      "0 1 20 10\n",
      "1 2 21 11\n",
      "2 3 22 11\n",
      "3 4 22 12\n",
      "4 5 23 12\n"
     ]
    }
   ],
   "source": [
    "from scipy import integrate\n",
    "\n",
    "i = 0\n",
    "j = 0\n",
    "points_top = [0, 1, 3, 5]\n",
    "points_bottom = [0, 1, 2, 4, 5]\n",
    "top = [10, 11, 12]\n",
    "bottom = [20, 21, 22, 23]\n",
    "\n",
    "all_points = []\n",
    "for item in points_top:\n",
    "    all_points.append(item)\n",
    "for item in points_bottom:\n",
    "    all_points.append(item)\n",
    "    \n",
    "all_points = set(all_points)\n",
    "all_points = list(all_points)\n",
    "all_points.sort()\n",
    "\n",
    "sum = 0\n",
    "for k in range (1, len(all_points)):\n",
    "    if (not(all_points[k-1] >= points_top[i] and all_points[k] <= points_top[i+1])):\n",
    "        i += 1\n",
    "    if (not(all_points[k-1] >= points_bottom[j] and all_points[k] <= points_bottom[j+1])):\n",
    "        j += 1\n",
    "    top_eq = top[i]\n",
    "    bottom_eq = bottom[j]\n",
    "    upper = all_points[k]\n",
    "    lower = all_points[k-1]\n",
    "    \n",
    "    # Define the integrand function\n",
    "    def integrand(vec):\n",
    "        return vec[1][0]/(x*(vec[0][0]*x + vec[1][0]*y))\n",
    "    \n",
    "    # Define the bounds functions\n",
    "    def y_lower(y):\n",
    "        return bottom_eq\n",
    "    \n",
    "    def y_upper(y):\n",
    "        return top_eq\n",
    "    \n",
    "    def x_lower():\n",
    "        return lower\n",
    "    \n",
    "    def x_upper():\n",
    "        return upper\n",
    "    \n",
    "    # Perform the double integral\n",
    "    result, error = integrate.dblquad(integrand, x_lower, x_upper, y_lower, y_upper)"
   ]
  },
  {
   "cell_type": "code",
   "execution_count": 51,
   "id": "2822e539-b73c-4f16-a4b6-f0e9c3d1f654",
   "metadata": {},
   "outputs": [
    {
     "data": {
      "text/plain": [
       "[0, 1, 2, 3, 4, 5]"
      ]
     },
     "execution_count": 51,
     "metadata": {},
     "output_type": "execute_result"
    }
   ],
   "source": [
    "all_points"
   ]
  },
  {
   "cell_type": "code",
   "execution_count": null,
   "id": "0a05154f-3899-47f8-9902-4ddc2dd9b42c",
   "metadata": {},
   "outputs": [],
   "source": []
  }
 ],
 "metadata": {
  "kernelspec": {
   "display_name": "SageMath 10.0",
   "language": "sage",
   "name": "sagemath"
  },
  "language_info": {
   "codemirror_mode": {
    "name": "ipython",
    "version": 3
   },
   "file_extension": ".py",
   "mimetype": "text/x-python",
   "name": "python",
   "nbconvert_exporter": "python",
   "pygments_lexer": "ipython3",
   "version": "3.9.16"
  }
 },
 "nbformat": 4,
 "nbformat_minor": 5
}
